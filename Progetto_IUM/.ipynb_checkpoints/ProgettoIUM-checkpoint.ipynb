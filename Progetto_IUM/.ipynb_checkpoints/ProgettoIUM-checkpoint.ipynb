{
 "cells": [
  {
   "metadata": {},
   "cell_type": "markdown",
   "source": [
    "# Progetto IUM - Data Analysis\n",
    "## Università di Informatica, Unito\n",
    "Gruppo Federico Raso, Federico Verra"
   ],
   "id": "466e284e0365b426"
  },
  {
   "cell_type": "code",
   "id": "initial_id",
   "metadata": {
    "collapsed": true,
    "ExecuteTime": {
     "end_time": "2024-12-22T15:47:09.104776Z",
     "start_time": "2024-12-22T15:47:09.048221Z"
    }
   },
   "source": [
    "import numpy\n",
    "import pandas as pd\n",
    "print(numpy.__version__)"
   ],
   "outputs": [
    {
     "ename": "ImportError",
     "evalue": "DLL load failed while importing _multiarray_umath: Impossibile trovare il modulo specificato.",
     "output_type": "error",
     "traceback": [
      "\u001B[1;31m---------------------------------------------------------------------------\u001B[0m",
      "\u001B[1;31mImportError\u001B[0m                               Traceback (most recent call last)",
      "\u001B[1;31mImportError\u001B[0m: DLL load failed while importing _multiarray_umath: Impossibile trovare il modulo specificato."
     ]
    },
    {
     "ename": "ImportError",
     "evalue": "numpy._core.multiarray failed to import",
     "output_type": "error",
     "traceback": [
      "\u001B[1;31m---------------------------------------------------------------------------\u001B[0m",
      "\u001B[1;31mImportError\u001B[0m                               Traceback (most recent call last)",
      "Cell \u001B[1;32mIn[3], line 2\u001B[0m\n\u001B[0;32m      1\u001B[0m \u001B[38;5;28;01mimport\u001B[39;00m \u001B[38;5;21;01mnumpy\u001B[39;00m\n\u001B[1;32m----> 2\u001B[0m \u001B[38;5;28;01mimport\u001B[39;00m \u001B[38;5;21;01mpandas\u001B[39;00m \u001B[38;5;28;01mas\u001B[39;00m \u001B[38;5;21;01mpd\u001B[39;00m\n\u001B[0;32m      3\u001B[0m \u001B[38;5;28mprint\u001B[39m(numpy\u001B[38;5;241m.\u001B[39m__version__)\n",
      "File \u001B[1;32m~\\miniconda3\\Lib\\site-packages\\pandas\\__init__.py:49\u001B[0m\n\u001B[0;32m     46\u001B[0m \u001B[38;5;66;03m# let init-time option registration happen\u001B[39;00m\n\u001B[0;32m     47\u001B[0m \u001B[38;5;28;01mimport\u001B[39;00m \u001B[38;5;21;01mpandas\u001B[39;00m\u001B[38;5;21;01m.\u001B[39;00m\u001B[38;5;21;01mcore\u001B[39;00m\u001B[38;5;21;01m.\u001B[39;00m\u001B[38;5;21;01mconfig_init\u001B[39;00m  \u001B[38;5;66;03m# pyright: ignore[reportUnusedImport] # noqa: F401\u001B[39;00m\n\u001B[1;32m---> 49\u001B[0m \u001B[38;5;28;01mfrom\u001B[39;00m \u001B[38;5;21;01mpandas\u001B[39;00m\u001B[38;5;21;01m.\u001B[39;00m\u001B[38;5;21;01mcore\u001B[39;00m\u001B[38;5;21;01m.\u001B[39;00m\u001B[38;5;21;01mapi\u001B[39;00m \u001B[38;5;28;01mimport\u001B[39;00m (\n\u001B[0;32m     50\u001B[0m     \u001B[38;5;66;03m# dtype\u001B[39;00m\n\u001B[0;32m     51\u001B[0m     ArrowDtype,\n\u001B[0;32m     52\u001B[0m     Int8Dtype,\n\u001B[0;32m     53\u001B[0m     Int16Dtype,\n\u001B[0;32m     54\u001B[0m     Int32Dtype,\n\u001B[0;32m     55\u001B[0m     Int64Dtype,\n\u001B[0;32m     56\u001B[0m     UInt8Dtype,\n\u001B[0;32m     57\u001B[0m     UInt16Dtype,\n\u001B[0;32m     58\u001B[0m     UInt32Dtype,\n\u001B[0;32m     59\u001B[0m     UInt64Dtype,\n\u001B[0;32m     60\u001B[0m     Float32Dtype,\n\u001B[0;32m     61\u001B[0m     Float64Dtype,\n\u001B[0;32m     62\u001B[0m     CategoricalDtype,\n\u001B[0;32m     63\u001B[0m     PeriodDtype,\n\u001B[0;32m     64\u001B[0m     IntervalDtype,\n\u001B[0;32m     65\u001B[0m     DatetimeTZDtype,\n\u001B[0;32m     66\u001B[0m     StringDtype,\n\u001B[0;32m     67\u001B[0m     BooleanDtype,\n\u001B[0;32m     68\u001B[0m     \u001B[38;5;66;03m# missing\u001B[39;00m\n\u001B[0;32m     69\u001B[0m     NA,\n\u001B[0;32m     70\u001B[0m     isna,\n\u001B[0;32m     71\u001B[0m     isnull,\n\u001B[0;32m     72\u001B[0m     notna,\n\u001B[0;32m     73\u001B[0m     notnull,\n\u001B[0;32m     74\u001B[0m     \u001B[38;5;66;03m# indexes\u001B[39;00m\n\u001B[0;32m     75\u001B[0m     Index,\n\u001B[0;32m     76\u001B[0m     CategoricalIndex,\n\u001B[0;32m     77\u001B[0m     RangeIndex,\n\u001B[0;32m     78\u001B[0m     MultiIndex,\n\u001B[0;32m     79\u001B[0m     IntervalIndex,\n\u001B[0;32m     80\u001B[0m     TimedeltaIndex,\n\u001B[0;32m     81\u001B[0m     DatetimeIndex,\n\u001B[0;32m     82\u001B[0m     PeriodIndex,\n\u001B[0;32m     83\u001B[0m     IndexSlice,\n\u001B[0;32m     84\u001B[0m     \u001B[38;5;66;03m# tseries\u001B[39;00m\n\u001B[0;32m     85\u001B[0m     NaT,\n\u001B[0;32m     86\u001B[0m     Period,\n\u001B[0;32m     87\u001B[0m     period_range,\n\u001B[0;32m     88\u001B[0m     Timedelta,\n\u001B[0;32m     89\u001B[0m     timedelta_range,\n\u001B[0;32m     90\u001B[0m     Timestamp,\n\u001B[0;32m     91\u001B[0m     date_range,\n\u001B[0;32m     92\u001B[0m     bdate_range,\n\u001B[0;32m     93\u001B[0m     Interval,\n\u001B[0;32m     94\u001B[0m     interval_range,\n\u001B[0;32m     95\u001B[0m     DateOffset,\n\u001B[0;32m     96\u001B[0m     \u001B[38;5;66;03m# conversion\u001B[39;00m\n\u001B[0;32m     97\u001B[0m     to_numeric,\n\u001B[0;32m     98\u001B[0m     to_datetime,\n\u001B[0;32m     99\u001B[0m     to_timedelta,\n\u001B[0;32m    100\u001B[0m     \u001B[38;5;66;03m# misc\u001B[39;00m\n\u001B[0;32m    101\u001B[0m     Flags,\n\u001B[0;32m    102\u001B[0m     Grouper,\n\u001B[0;32m    103\u001B[0m     factorize,\n\u001B[0;32m    104\u001B[0m     unique,\n\u001B[0;32m    105\u001B[0m     value_counts,\n\u001B[0;32m    106\u001B[0m     NamedAgg,\n\u001B[0;32m    107\u001B[0m     array,\n\u001B[0;32m    108\u001B[0m     Categorical,\n\u001B[0;32m    109\u001B[0m     set_eng_float_format,\n\u001B[0;32m    110\u001B[0m     Series,\n\u001B[0;32m    111\u001B[0m     DataFrame,\n\u001B[0;32m    112\u001B[0m )\n\u001B[0;32m    114\u001B[0m \u001B[38;5;28;01mfrom\u001B[39;00m \u001B[38;5;21;01mpandas\u001B[39;00m\u001B[38;5;21;01m.\u001B[39;00m\u001B[38;5;21;01mcore\u001B[39;00m\u001B[38;5;21;01m.\u001B[39;00m\u001B[38;5;21;01mdtypes\u001B[39;00m\u001B[38;5;21;01m.\u001B[39;00m\u001B[38;5;21;01mdtypes\u001B[39;00m \u001B[38;5;28;01mimport\u001B[39;00m SparseDtype\n\u001B[0;32m    116\u001B[0m \u001B[38;5;28;01mfrom\u001B[39;00m \u001B[38;5;21;01mpandas\u001B[39;00m\u001B[38;5;21;01m.\u001B[39;00m\u001B[38;5;21;01mtseries\u001B[39;00m\u001B[38;5;21;01m.\u001B[39;00m\u001B[38;5;21;01mapi\u001B[39;00m \u001B[38;5;28;01mimport\u001B[39;00m infer_freq\n",
      "File \u001B[1;32m~\\miniconda3\\Lib\\site-packages\\pandas\\core\\api.py:1\u001B[0m\n\u001B[1;32m----> 1\u001B[0m \u001B[38;5;28;01mfrom\u001B[39;00m \u001B[38;5;21;01mpandas\u001B[39;00m\u001B[38;5;21;01m.\u001B[39;00m\u001B[38;5;21;01m_libs\u001B[39;00m \u001B[38;5;28;01mimport\u001B[39;00m (\n\u001B[0;32m      2\u001B[0m     NaT,\n\u001B[0;32m      3\u001B[0m     Period,\n\u001B[0;32m      4\u001B[0m     Timedelta,\n\u001B[0;32m      5\u001B[0m     Timestamp,\n\u001B[0;32m      6\u001B[0m )\n\u001B[0;32m      7\u001B[0m \u001B[38;5;28;01mfrom\u001B[39;00m \u001B[38;5;21;01mpandas\u001B[39;00m\u001B[38;5;21;01m.\u001B[39;00m\u001B[38;5;21;01m_libs\u001B[39;00m\u001B[38;5;21;01m.\u001B[39;00m\u001B[38;5;21;01mmissing\u001B[39;00m \u001B[38;5;28;01mimport\u001B[39;00m NA\n\u001B[0;32m      9\u001B[0m \u001B[38;5;28;01mfrom\u001B[39;00m \u001B[38;5;21;01mpandas\u001B[39;00m\u001B[38;5;21;01m.\u001B[39;00m\u001B[38;5;21;01mcore\u001B[39;00m\u001B[38;5;21;01m.\u001B[39;00m\u001B[38;5;21;01mdtypes\u001B[39;00m\u001B[38;5;21;01m.\u001B[39;00m\u001B[38;5;21;01mdtypes\u001B[39;00m \u001B[38;5;28;01mimport\u001B[39;00m (\n\u001B[0;32m     10\u001B[0m     ArrowDtype,\n\u001B[0;32m     11\u001B[0m     CategoricalDtype,\n\u001B[1;32m   (...)\u001B[0m\n\u001B[0;32m     14\u001B[0m     PeriodDtype,\n\u001B[0;32m     15\u001B[0m )\n",
      "File \u001B[1;32m~\\miniconda3\\Lib\\site-packages\\pandas\\_libs\\__init__.py:17\u001B[0m\n\u001B[0;32m     13\u001B[0m \u001B[38;5;66;03m# Below imports needs to happen first to ensure pandas top level\u001B[39;00m\n\u001B[0;32m     14\u001B[0m \u001B[38;5;66;03m# module gets monkeypatched with the pandas_datetime_CAPI\u001B[39;00m\n\u001B[0;32m     15\u001B[0m \u001B[38;5;66;03m# see pandas_datetime_exec in pd_datetime.c\u001B[39;00m\n\u001B[0;32m     16\u001B[0m \u001B[38;5;28;01mimport\u001B[39;00m \u001B[38;5;21;01mpandas\u001B[39;00m\u001B[38;5;21;01m.\u001B[39;00m\u001B[38;5;21;01m_libs\u001B[39;00m\u001B[38;5;21;01m.\u001B[39;00m\u001B[38;5;21;01mpandas_parser\u001B[39;00m  \u001B[38;5;66;03m# isort: skip # type: ignore[reportUnusedImport]\u001B[39;00m\n\u001B[1;32m---> 17\u001B[0m \u001B[38;5;28;01mimport\u001B[39;00m \u001B[38;5;21;01mpandas\u001B[39;00m\u001B[38;5;21;01m.\u001B[39;00m\u001B[38;5;21;01m_libs\u001B[39;00m\u001B[38;5;21;01m.\u001B[39;00m\u001B[38;5;21;01mpandas_datetime\u001B[39;00m  \u001B[38;5;66;03m# noqa: F401 # isort: skip # type: ignore[reportUnusedImport]\u001B[39;00m\n\u001B[0;32m     18\u001B[0m \u001B[38;5;28;01mfrom\u001B[39;00m \u001B[38;5;21;01mpandas\u001B[39;00m\u001B[38;5;21;01m.\u001B[39;00m\u001B[38;5;21;01m_libs\u001B[39;00m\u001B[38;5;21;01m.\u001B[39;00m\u001B[38;5;21;01minterval\u001B[39;00m \u001B[38;5;28;01mimport\u001B[39;00m Interval\n\u001B[0;32m     19\u001B[0m \u001B[38;5;28;01mfrom\u001B[39;00m \u001B[38;5;21;01mpandas\u001B[39;00m\u001B[38;5;21;01m.\u001B[39;00m\u001B[38;5;21;01m_libs\u001B[39;00m\u001B[38;5;21;01m.\u001B[39;00m\u001B[38;5;21;01mtslibs\u001B[39;00m \u001B[38;5;28;01mimport\u001B[39;00m (\n\u001B[0;32m     20\u001B[0m     NaT,\n\u001B[0;32m     21\u001B[0m     NaTType,\n\u001B[1;32m   (...)\u001B[0m\n\u001B[0;32m     26\u001B[0m     iNaT,\n\u001B[0;32m     27\u001B[0m )\n",
      "\u001B[1;31mImportError\u001B[0m: numpy._core.multiarray failed to import"
     ]
    }
   ],
   "execution_count": 3
  },
  {
   "metadata": {
    "ExecuteTime": {
     "end_time": "2024-12-22T09:25:37.329861Z",
     "start_time": "2024-12-22T09:25:37.301408Z"
    }
   },
   "cell_type": "code",
   "source": [
    "data_directory = \"../data/\"\n",
    "actors_df = pd.read_csv(data_directory+'actors.csv')\n",
    "countries_df = pd.read_csv(data_directory+'countries.csv')\n",
    "crew_df = pd.read_csv(data_directory+'crew.csv')\n",
    "genres_df = pd.read_csv(data_directory+'genres.csv')\n",
    "languages_df = pd.read_csv(data_directory+'languages.csv')\n",
    "movies_df = pd.read_csv(data_directory+'movies.csv')\n",
    "posters_df = pd.read_csv(data_directory+'posters.csv')\n",
    "releases_df = pd.read_csv(data_directory+'releases.csv')\n",
    "reviews_rotten_df = pd.read_csv(data_directory+'rotten_tomatoes_reviews.csv')\n",
    "studios_df = pd.read_csv(data_directory+'studios.csv')\n",
    "oscar_df = pd.read_csv(data_directory+'the_oscar_awards.csv')\n",
    "reviews_rotten_df"
   ],
   "id": "433d985e21f0e341",
   "outputs": [
    {
     "ename": "NameError",
     "evalue": "name 'pd' is not defined",
     "output_type": "error",
     "traceback": [
      "\u001B[1;31m---------------------------------------------------------------------------\u001B[0m",
      "\u001B[1;31mNameError\u001B[0m                                 Traceback (most recent call last)",
      "Cell \u001B[1;32mIn[13], line 2\u001B[0m\n\u001B[0;32m      1\u001B[0m data_directory \u001B[38;5;241m=\u001B[39m \u001B[38;5;124m\"\u001B[39m\u001B[38;5;124m../data/\u001B[39m\u001B[38;5;124m\"\u001B[39m\n\u001B[1;32m----> 2\u001B[0m actors_df \u001B[38;5;241m=\u001B[39m \u001B[43mpd\u001B[49m\u001B[38;5;241m.\u001B[39mread_csv(data_directory\u001B[38;5;241m+\u001B[39m\u001B[38;5;124m'\u001B[39m\u001B[38;5;124mactors.csv\u001B[39m\u001B[38;5;124m'\u001B[39m)\n\u001B[0;32m      3\u001B[0m countries_df \u001B[38;5;241m=\u001B[39m pd\u001B[38;5;241m.\u001B[39mread_csv(data_directory\u001B[38;5;241m+\u001B[39m\u001B[38;5;124m'\u001B[39m\u001B[38;5;124mcountries.csv\u001B[39m\u001B[38;5;124m'\u001B[39m)\n\u001B[0;32m      4\u001B[0m crew_df \u001B[38;5;241m=\u001B[39m pd\u001B[38;5;241m.\u001B[39mread_csv(data_directory\u001B[38;5;241m+\u001B[39m\u001B[38;5;124m'\u001B[39m\u001B[38;5;124mcrew.csv\u001B[39m\u001B[38;5;124m'\u001B[39m)\n",
      "\u001B[1;31mNameError\u001B[0m: name 'pd' is not defined"
     ]
    }
   ],
   "execution_count": 13
  },
  {
   "metadata": {},
   "cell_type": "markdown",
   "source": "## Analizzo e pulisco i dati",
   "id": "a501ce5d607af062"
  },
  {
   "metadata": {},
   "cell_type": "code",
   "outputs": [],
   "execution_count": null,
   "source": "",
   "id": "626e141798383c9e"
  },
  {
   "metadata": {},
   "cell_type": "markdown",
   "source": "## Quale paese ha vinto più oscar?",
   "id": "f7ee33d651101ad5"
  },
  {
   "metadata": {},
   "cell_type": "code",
   "outputs": [],
   "execution_count": null,
   "source": "",
   "id": "6a2545048d99af50"
  },
  {
   "metadata": {},
   "cell_type": "markdown",
   "source": "## Chi ha prodotto più film?",
   "id": "86a878d97db1984e"
  },
  {
   "metadata": {},
   "cell_type": "code",
   "outputs": [],
   "execution_count": null,
   "source": "",
   "id": "c21ead202e9cfc52"
  },
  {
   "metadata": {},
   "cell_type": "markdown",
   "source": "## La bellezza di un film, può essere influenzata dalla durata?",
   "id": "6162b904c9a4288f"
  },
  {
   "metadata": {},
   "cell_type": "code",
   "outputs": [],
   "execution_count": null,
   "source": "",
   "id": "c4ac5986f50e24d8"
  },
  {
   "metadata": {},
   "cell_type": "markdown",
   "source": "## Nel tempo come si è evoluta la durata media dei film?",
   "id": "6ca2dd3f55bd00a7"
  },
  {
   "metadata": {},
   "cell_type": "markdown",
   "source": "",
   "id": "ff3ad829cbe82aeb"
  }
 ],
 "metadata": {
  "kernelspec": {
   "display_name": "Python 3",
   "language": "python",
   "name": "python3"
  },
  "language_info": {
   "codemirror_mode": {
    "name": "ipython",
    "version": 2
   },
   "file_extension": ".py",
   "mimetype": "text/x-python",
   "name": "python",
   "nbconvert_exporter": "python",
   "pygments_lexer": "ipython2",
   "version": "2.7.6"
  }
 },
 "nbformat": 4,
 "nbformat_minor": 5
}

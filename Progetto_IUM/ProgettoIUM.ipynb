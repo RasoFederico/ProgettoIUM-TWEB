{
 "cells": [
  {
   "cell_type": "markdown",
   "id": "466e284e0365b426",
   "metadata": {},
   "source": [
    "# Progetto IUM - Data Analysis\n",
    "## Università di Informatica, Unito\n",
    "Gruppo Federico Raso, Federico Verra"
   ]
  },
  {
   "cell_type": "markdown",
   "id": "a501ce5d607af062",
   "metadata": {},
   "source": [
    "## Analizzo e pulisco i dati"
   ]
  },
  {
   "metadata": {
    "ExecuteTime": {
     "end_time": "2024-12-26T11:25:58.400537Z",
     "start_time": "2024-12-26T11:25:56.905833Z"
    }
   },
   "cell_type": "code",
   "source": [
    "import numpy\n",
    "import pandas as pd\n",
    "import plotly.express as px\n",
    "print(numpy.__version__)"
   ],
   "id": "initial_id",
   "outputs": [
    {
     "name": "stdout",
     "output_type": "stream",
     "text": [
      "2.1.3\n"
     ]
    }
   ],
   "execution_count": 3
  },
  {
   "metadata": {
    "ExecuteTime": {
     "end_time": "2024-12-26T11:26:19.412399Z",
     "start_time": "2024-12-26T11:26:00.109751Z"
    }
   },
   "cell_type": "code",
   "source": [
    "data_directory = \"./data/\"\n",
    "actors_df = pd.read_csv(data_directory+'actors.csv')\n",
    "countries_df = pd.read_csv(data_directory+'countries.csv')\n",
    "crew_df = pd.read_csv(data_directory+'crew.csv')\n",
    "genres_df = pd.read_csv(data_directory+'genres.csv')\n",
    "languages_df = pd.read_csv(data_directory+'languages.csv')\n",
    "movies_df = pd.read_csv(data_directory+'movies.csv')\n",
    "posters_df = pd.read_csv(data_directory+'posters.csv')\n",
    "releases_df = pd.read_csv(data_directory+'releases.csv')\n",
    "reviews_rotten_df = pd.read_csv(data_directory+'rotten_tomatoes_reviews.csv')\n",
    "studios_df = pd.read_csv(data_directory+'studios.csv')\n",
    "oscar_df = pd.read_csv(data_directory+'the_oscar_awards.csv')\n",
    "reviews_rotten_df"
   ],
   "id": "433d985e21f0e341",
   "outputs": [
    {
     "data": {
      "text/plain": [
       "        rotten_tomatoes_link  \\\n",
       "0                  m/0814255   \n",
       "1                  m/0814255   \n",
       "2                  m/0814255   \n",
       "3                  m/0814255   \n",
       "4                  m/0814255   \n",
       "...                      ...   \n",
       "1129882          m/zulu_dawn   \n",
       "1129883          m/zulu_dawn   \n",
       "1129884          m/zulu_dawn   \n",
       "1129885          m/zulu_dawn   \n",
       "1129886          m/zulu_dawn   \n",
       "\n",
       "                                               movie_title        critic_name  \\\n",
       "0        Percy Jackson & the Olympians: The Lightning T...    Andrew L. Urban   \n",
       "1        Percy Jackson & the Olympians: The Lightning T...      Louise Keller   \n",
       "2        Percy Jackson & the Olympians: The Lightning T...                NaN   \n",
       "3        Percy Jackson & the Olympians: The Lightning T...       Ben McEachen   \n",
       "4        Percy Jackson & the Olympians: The Lightning T...        Ethan Alter   \n",
       "...                                                    ...                ...   \n",
       "1129882                                          Zulu Dawn      Chuck O'Leary   \n",
       "1129883                                          Zulu Dawn          Ken Hanke   \n",
       "1129884                                          Zulu Dawn    Dennis Schwartz   \n",
       "1129885                                          Zulu Dawn  Christopher Lloyd   \n",
       "1129886                                          Zulu Dawn     Brent McKnight   \n",
       "\n",
       "         top_critic                   publisher_name review_type review_score  \\\n",
       "0             False                   Urban Cinefile       Fresh          NaN   \n",
       "1             False                   Urban Cinefile       Fresh          NaN   \n",
       "2             False              FILMINK (Australia)       Fresh          NaN   \n",
       "3             False          Sunday Mail (Australia)       Fresh        3.5/5   \n",
       "4              True               Hollywood Reporter      Rotten          NaN   \n",
       "...             ...                              ...         ...          ...   \n",
       "1129882       False                 Fantastica Daily      Rotten          2/5   \n",
       "1129883       False  Mountain Xpress (Asheville, NC)       Fresh        3.5/5   \n",
       "1129884       False    Dennis Schwartz Movie Reviews       Fresh           B+   \n",
       "1129885       False          Sarasota Herald-Tribune      Rotten        3.5/5   \n",
       "1129886       False             The Last Thing I See      Rotten            C   \n",
       "\n",
       "        review_date                                     review_content  \n",
       "0        2010-02-06  A fantasy adventure that fuses Greek mythology...  \n",
       "1        2010-02-06  Uma Thurman as Medusa, the gorgon with a coiff...  \n",
       "2        2010-02-09  With a top-notch cast and dazzling special eff...  \n",
       "3        2010-02-09  Whether audiences will get behind The Lightnin...  \n",
       "4        2010-02-10  What's really lacking in The Lightning Thief i...  \n",
       "...             ...                                                ...  \n",
       "1129882  2005-11-02                                                NaN  \n",
       "1129883  2007-03-07  Seen today, it's not only a startling indictme...  \n",
       "1129884  2010-09-16  A rousing visual spectacle that's a prequel of...  \n",
       "1129885  2011-02-28  A simple two-act story: Prelude to war, and th...  \n",
       "1129886  2020-07-09  Rides the line between being a pure artifact o...  \n",
       "\n",
       "[1129887 rows x 9 columns]"
      ],
      "text/html": [
       "<div>\n",
       "<style scoped>\n",
       "    .dataframe tbody tr th:only-of-type {\n",
       "        vertical-align: middle;\n",
       "    }\n",
       "\n",
       "    .dataframe tbody tr th {\n",
       "        vertical-align: top;\n",
       "    }\n",
       "\n",
       "    .dataframe thead th {\n",
       "        text-align: right;\n",
       "    }\n",
       "</style>\n",
       "<table border=\"1\" class=\"dataframe\">\n",
       "  <thead>\n",
       "    <tr style=\"text-align: right;\">\n",
       "      <th></th>\n",
       "      <th>rotten_tomatoes_link</th>\n",
       "      <th>movie_title</th>\n",
       "      <th>critic_name</th>\n",
       "      <th>top_critic</th>\n",
       "      <th>publisher_name</th>\n",
       "      <th>review_type</th>\n",
       "      <th>review_score</th>\n",
       "      <th>review_date</th>\n",
       "      <th>review_content</th>\n",
       "    </tr>\n",
       "  </thead>\n",
       "  <tbody>\n",
       "    <tr>\n",
       "      <th>0</th>\n",
       "      <td>m/0814255</td>\n",
       "      <td>Percy Jackson &amp; the Olympians: The Lightning T...</td>\n",
       "      <td>Andrew L. Urban</td>\n",
       "      <td>False</td>\n",
       "      <td>Urban Cinefile</td>\n",
       "      <td>Fresh</td>\n",
       "      <td>NaN</td>\n",
       "      <td>2010-02-06</td>\n",
       "      <td>A fantasy adventure that fuses Greek mythology...</td>\n",
       "    </tr>\n",
       "    <tr>\n",
       "      <th>1</th>\n",
       "      <td>m/0814255</td>\n",
       "      <td>Percy Jackson &amp; the Olympians: The Lightning T...</td>\n",
       "      <td>Louise Keller</td>\n",
       "      <td>False</td>\n",
       "      <td>Urban Cinefile</td>\n",
       "      <td>Fresh</td>\n",
       "      <td>NaN</td>\n",
       "      <td>2010-02-06</td>\n",
       "      <td>Uma Thurman as Medusa, the gorgon with a coiff...</td>\n",
       "    </tr>\n",
       "    <tr>\n",
       "      <th>2</th>\n",
       "      <td>m/0814255</td>\n",
       "      <td>Percy Jackson &amp; the Olympians: The Lightning T...</td>\n",
       "      <td>NaN</td>\n",
       "      <td>False</td>\n",
       "      <td>FILMINK (Australia)</td>\n",
       "      <td>Fresh</td>\n",
       "      <td>NaN</td>\n",
       "      <td>2010-02-09</td>\n",
       "      <td>With a top-notch cast and dazzling special eff...</td>\n",
       "    </tr>\n",
       "    <tr>\n",
       "      <th>3</th>\n",
       "      <td>m/0814255</td>\n",
       "      <td>Percy Jackson &amp; the Olympians: The Lightning T...</td>\n",
       "      <td>Ben McEachen</td>\n",
       "      <td>False</td>\n",
       "      <td>Sunday Mail (Australia)</td>\n",
       "      <td>Fresh</td>\n",
       "      <td>3.5/5</td>\n",
       "      <td>2010-02-09</td>\n",
       "      <td>Whether audiences will get behind The Lightnin...</td>\n",
       "    </tr>\n",
       "    <tr>\n",
       "      <th>4</th>\n",
       "      <td>m/0814255</td>\n",
       "      <td>Percy Jackson &amp; the Olympians: The Lightning T...</td>\n",
       "      <td>Ethan Alter</td>\n",
       "      <td>True</td>\n",
       "      <td>Hollywood Reporter</td>\n",
       "      <td>Rotten</td>\n",
       "      <td>NaN</td>\n",
       "      <td>2010-02-10</td>\n",
       "      <td>What's really lacking in The Lightning Thief i...</td>\n",
       "    </tr>\n",
       "    <tr>\n",
       "      <th>...</th>\n",
       "      <td>...</td>\n",
       "      <td>...</td>\n",
       "      <td>...</td>\n",
       "      <td>...</td>\n",
       "      <td>...</td>\n",
       "      <td>...</td>\n",
       "      <td>...</td>\n",
       "      <td>...</td>\n",
       "      <td>...</td>\n",
       "    </tr>\n",
       "    <tr>\n",
       "      <th>1129882</th>\n",
       "      <td>m/zulu_dawn</td>\n",
       "      <td>Zulu Dawn</td>\n",
       "      <td>Chuck O'Leary</td>\n",
       "      <td>False</td>\n",
       "      <td>Fantastica Daily</td>\n",
       "      <td>Rotten</td>\n",
       "      <td>2/5</td>\n",
       "      <td>2005-11-02</td>\n",
       "      <td>NaN</td>\n",
       "    </tr>\n",
       "    <tr>\n",
       "      <th>1129883</th>\n",
       "      <td>m/zulu_dawn</td>\n",
       "      <td>Zulu Dawn</td>\n",
       "      <td>Ken Hanke</td>\n",
       "      <td>False</td>\n",
       "      <td>Mountain Xpress (Asheville, NC)</td>\n",
       "      <td>Fresh</td>\n",
       "      <td>3.5/5</td>\n",
       "      <td>2007-03-07</td>\n",
       "      <td>Seen today, it's not only a startling indictme...</td>\n",
       "    </tr>\n",
       "    <tr>\n",
       "      <th>1129884</th>\n",
       "      <td>m/zulu_dawn</td>\n",
       "      <td>Zulu Dawn</td>\n",
       "      <td>Dennis Schwartz</td>\n",
       "      <td>False</td>\n",
       "      <td>Dennis Schwartz Movie Reviews</td>\n",
       "      <td>Fresh</td>\n",
       "      <td>B+</td>\n",
       "      <td>2010-09-16</td>\n",
       "      <td>A rousing visual spectacle that's a prequel of...</td>\n",
       "    </tr>\n",
       "    <tr>\n",
       "      <th>1129885</th>\n",
       "      <td>m/zulu_dawn</td>\n",
       "      <td>Zulu Dawn</td>\n",
       "      <td>Christopher Lloyd</td>\n",
       "      <td>False</td>\n",
       "      <td>Sarasota Herald-Tribune</td>\n",
       "      <td>Rotten</td>\n",
       "      <td>3.5/5</td>\n",
       "      <td>2011-02-28</td>\n",
       "      <td>A simple two-act story: Prelude to war, and th...</td>\n",
       "    </tr>\n",
       "    <tr>\n",
       "      <th>1129886</th>\n",
       "      <td>m/zulu_dawn</td>\n",
       "      <td>Zulu Dawn</td>\n",
       "      <td>Brent McKnight</td>\n",
       "      <td>False</td>\n",
       "      <td>The Last Thing I See</td>\n",
       "      <td>Rotten</td>\n",
       "      <td>C</td>\n",
       "      <td>2020-07-09</td>\n",
       "      <td>Rides the line between being a pure artifact o...</td>\n",
       "    </tr>\n",
       "  </tbody>\n",
       "</table>\n",
       "<p>1129887 rows × 9 columns</p>\n",
       "</div>"
      ]
     },
     "execution_count": 4,
     "metadata": {},
     "output_type": "execute_result"
    }
   ],
   "execution_count": 4
  },
  {
   "cell_type": "code",
   "execution_count": null,
   "id": "626e141798383c9e",
   "metadata": {},
   "outputs": [],
   "source": []
  },
  {
   "cell_type": "markdown",
   "id": "f7ee33d651101ad5",
   "metadata": {},
   "source": [
    "## Quale paese ha vinto più oscar?"
   ]
  },
  {
   "cell_type": "code",
   "execution_count": null,
   "id": "6a2545048d99af50",
   "metadata": {},
   "outputs": [],
   "source": []
  },
  {
   "cell_type": "markdown",
   "id": "86a878d97db1984e",
   "metadata": {},
   "source": [
    "## Chi ha prodotto più film?"
   ]
  },
  {
   "cell_type": "code",
   "execution_count": null,
   "id": "c21ead202e9cfc52",
   "metadata": {},
   "outputs": [],
   "source": []
  },
  {
   "cell_type": "markdown",
   "id": "6162b904c9a4288f",
   "metadata": {},
   "source": [
    "## La bellezza di un film, può essere influenzata dalla durata?"
   ]
  },
  {
   "cell_type": "code",
   "execution_count": null,
   "id": "c4ac5986f50e24d8",
   "metadata": {},
   "outputs": [],
   "source": []
  },
  {
   "cell_type": "markdown",
   "id": "6ca2dd3f55bd00a7",
   "metadata": {},
   "source": [
    "## Nel tempo come si è evoluta la durata media dei film?"
   ]
  },
  {
   "cell_type": "markdown",
   "id": "ff3ad829cbe82aeb",
   "metadata": {},
   "source": []
  },
  {
   "metadata": {
    "ExecuteTime": {
     "end_time": "2024-12-24T15:35:18.942945Z",
     "start_time": "2024-12-24T15:35:18.818634Z"
    }
   },
   "cell_type": "code",
   "source": [
    "time_df =movies_df[['id', 'date', 'minute']].copy()\n",
    "new_names = {'date':'year','minute': 'length'}\n",
    "time_df=time_df.rename(columns=new_names)\n",
    "time_df.head(10)\n"
   ],
   "id": "94568b338054007b",
   "outputs": [
    {
     "data": {
      "text/plain": [
       "        id    year  length\n",
       "0  1000001  2023.0   114.0\n",
       "1  1000002  2019.0   133.0\n",
       "2  1000003  2022.0   140.0\n",
       "3  1000004  1999.0   139.0\n",
       "4  1000005  2016.0   129.0\n",
       "5  1000006  2023.0   181.0\n",
       "6  1000007  2014.0   169.0\n",
       "7  1000008  2019.0   122.0\n",
       "8  1000009  2021.0   155.0\n",
       "9  1000010  1994.0   154.0"
      ],
      "text/html": [
       "<div>\n",
       "<style scoped>\n",
       "    .dataframe tbody tr th:only-of-type {\n",
       "        vertical-align: middle;\n",
       "    }\n",
       "\n",
       "    .dataframe tbody tr th {\n",
       "        vertical-align: top;\n",
       "    }\n",
       "\n",
       "    .dataframe thead th {\n",
       "        text-align: right;\n",
       "    }\n",
       "</style>\n",
       "<table border=\"1\" class=\"dataframe\">\n",
       "  <thead>\n",
       "    <tr style=\"text-align: right;\">\n",
       "      <th></th>\n",
       "      <th>id</th>\n",
       "      <th>year</th>\n",
       "      <th>length</th>\n",
       "    </tr>\n",
       "  </thead>\n",
       "  <tbody>\n",
       "    <tr>\n",
       "      <th>0</th>\n",
       "      <td>1000001</td>\n",
       "      <td>2023.0</td>\n",
       "      <td>114.0</td>\n",
       "    </tr>\n",
       "    <tr>\n",
       "      <th>1</th>\n",
       "      <td>1000002</td>\n",
       "      <td>2019.0</td>\n",
       "      <td>133.0</td>\n",
       "    </tr>\n",
       "    <tr>\n",
       "      <th>2</th>\n",
       "      <td>1000003</td>\n",
       "      <td>2022.0</td>\n",
       "      <td>140.0</td>\n",
       "    </tr>\n",
       "    <tr>\n",
       "      <th>3</th>\n",
       "      <td>1000004</td>\n",
       "      <td>1999.0</td>\n",
       "      <td>139.0</td>\n",
       "    </tr>\n",
       "    <tr>\n",
       "      <th>4</th>\n",
       "      <td>1000005</td>\n",
       "      <td>2016.0</td>\n",
       "      <td>129.0</td>\n",
       "    </tr>\n",
       "    <tr>\n",
       "      <th>5</th>\n",
       "      <td>1000006</td>\n",
       "      <td>2023.0</td>\n",
       "      <td>181.0</td>\n",
       "    </tr>\n",
       "    <tr>\n",
       "      <th>6</th>\n",
       "      <td>1000007</td>\n",
       "      <td>2014.0</td>\n",
       "      <td>169.0</td>\n",
       "    </tr>\n",
       "    <tr>\n",
       "      <th>7</th>\n",
       "      <td>1000008</td>\n",
       "      <td>2019.0</td>\n",
       "      <td>122.0</td>\n",
       "    </tr>\n",
       "    <tr>\n",
       "      <th>8</th>\n",
       "      <td>1000009</td>\n",
       "      <td>2021.0</td>\n",
       "      <td>155.0</td>\n",
       "    </tr>\n",
       "    <tr>\n",
       "      <th>9</th>\n",
       "      <td>1000010</td>\n",
       "      <td>1994.0</td>\n",
       "      <td>154.0</td>\n",
       "    </tr>\n",
       "  </tbody>\n",
       "</table>\n",
       "</div>"
      ]
     },
     "execution_count": 48,
     "metadata": {},
     "output_type": "execute_result"
    }
   ],
   "execution_count": 48
  },
  {
   "metadata": {
    "ExecuteTime": {
     "end_time": "2024-12-24T15:37:12.522956Z",
     "start_time": "2024-12-24T15:37:12.515425Z"
    }
   },
   "cell_type": "code",
   "source": "time_df.dtypes",
   "id": "494866e9c4af67d2",
   "outputs": [
    {
     "data": {
      "text/plain": [
       "id          int64\n",
       "year        int64\n",
       "length    float64\n",
       "dtype: object"
      ]
     },
     "execution_count": 56,
     "metadata": {},
     "output_type": "execute_result"
    }
   ],
   "execution_count": 56
  },
  {
   "metadata": {
    "ExecuteTime": {
     "end_time": "2024-12-24T15:36:42.182753Z",
     "start_time": "2024-12-24T15:36:42.032981Z"
    }
   },
   "cell_type": "code",
   "source": [
    "time_df.dropna(axis=0, inplace=True)\n",
    "print(time_df.duplicated().sum())"
   ],
   "id": "4bfe22fc6a33fad6",
   "outputs": [
    {
     "name": "stdout",
     "output_type": "stream",
     "text": [
      "0\n"
     ]
    }
   ],
   "execution_count": 52
  },
  {
   "metadata": {
    "ExecuteTime": {
     "end_time": "2024-12-24T15:36:44.173300Z",
     "start_time": "2024-12-24T15:36:44.156623Z"
    }
   },
   "cell_type": "code",
   "source": [
    "time_df['year'] = time_df['year'].astype(int)\n",
    "time_df.dtypes\n"
   ],
   "id": "2de6b00d02c9e6c1",
   "outputs": [
    {
     "data": {
      "text/plain": [
       "id          int64\n",
       "year        int64\n",
       "length    float64\n",
       "dtype: object"
      ]
     },
     "execution_count": 53,
     "metadata": {},
     "output_type": "execute_result"
    }
   ],
   "execution_count": 53
  },
  {
   "metadata": {
    "ExecuteTime": {
     "end_time": "2024-12-24T15:43:14.778245Z",
     "start_time": "2024-12-24T15:43:14.722518Z"
    }
   },
   "cell_type": "code",
   "source": [
    "time_df = time_df[time_df['length']>60]\n",
    "average_length = time_df.groupby('year')['length'].mean().reset_index()\n",
    "average_length.head(10)\n"
   ],
   "id": "8884463ef90a7e",
   "outputs": [
    {
     "data": {
      "text/plain": [
       "   year      length\n",
       "0  1899  135.000000\n",
       "1  1900   79.000000\n",
       "2  1903  120.000000\n",
       "3  1904   70.000000\n",
       "4  1906   87.500000\n",
       "5  1907  155.000000\n",
       "6  1908  135.500000\n",
       "7  1910   85.600000\n",
       "8  1911   87.600000\n",
       "9  1912   94.153846"
      ],
      "text/html": [
       "<div>\n",
       "<style scoped>\n",
       "    .dataframe tbody tr th:only-of-type {\n",
       "        vertical-align: middle;\n",
       "    }\n",
       "\n",
       "    .dataframe tbody tr th {\n",
       "        vertical-align: top;\n",
       "    }\n",
       "\n",
       "    .dataframe thead th {\n",
       "        text-align: right;\n",
       "    }\n",
       "</style>\n",
       "<table border=\"1\" class=\"dataframe\">\n",
       "  <thead>\n",
       "    <tr style=\"text-align: right;\">\n",
       "      <th></th>\n",
       "      <th>year</th>\n",
       "      <th>length</th>\n",
       "    </tr>\n",
       "  </thead>\n",
       "  <tbody>\n",
       "    <tr>\n",
       "      <th>0</th>\n",
       "      <td>1899</td>\n",
       "      <td>135.000000</td>\n",
       "    </tr>\n",
       "    <tr>\n",
       "      <th>1</th>\n",
       "      <td>1900</td>\n",
       "      <td>79.000000</td>\n",
       "    </tr>\n",
       "    <tr>\n",
       "      <th>2</th>\n",
       "      <td>1903</td>\n",
       "      <td>120.000000</td>\n",
       "    </tr>\n",
       "    <tr>\n",
       "      <th>3</th>\n",
       "      <td>1904</td>\n",
       "      <td>70.000000</td>\n",
       "    </tr>\n",
       "    <tr>\n",
       "      <th>4</th>\n",
       "      <td>1906</td>\n",
       "      <td>87.500000</td>\n",
       "    </tr>\n",
       "    <tr>\n",
       "      <th>5</th>\n",
       "      <td>1907</td>\n",
       "      <td>155.000000</td>\n",
       "    </tr>\n",
       "    <tr>\n",
       "      <th>6</th>\n",
       "      <td>1908</td>\n",
       "      <td>135.500000</td>\n",
       "    </tr>\n",
       "    <tr>\n",
       "      <th>7</th>\n",
       "      <td>1910</td>\n",
       "      <td>85.600000</td>\n",
       "    </tr>\n",
       "    <tr>\n",
       "      <th>8</th>\n",
       "      <td>1911</td>\n",
       "      <td>87.600000</td>\n",
       "    </tr>\n",
       "    <tr>\n",
       "      <th>9</th>\n",
       "      <td>1912</td>\n",
       "      <td>94.153846</td>\n",
       "    </tr>\n",
       "  </tbody>\n",
       "</table>\n",
       "</div>"
      ]
     },
     "execution_count": 63,
     "metadata": {},
     "output_type": "execute_result"
    }
   ],
   "execution_count": 63
  },
  {
   "metadata": {
    "ExecuteTime": {
     "end_time": "2024-12-24T15:43:18.864983Z",
     "start_time": "2024-12-24T15:43:18.849555Z"
    }
   },
   "cell_type": "code",
   "source": "average_length['year'].unique()",
   "id": "4deedb8462adc438",
   "outputs": [
    {
     "data": {
      "text/plain": [
       "array([1899, 1900, 1903, 1904, 1906, 1907, 1908, 1910, 1911, 1912, 1913,\n",
       "       1914, 1915, 1916, 1917, 1918, 1919, 1920, 1921, 1922, 1923, 1924,\n",
       "       1925, 1926, 1927, 1928, 1929, 1930, 1931, 1932, 1933, 1934, 1935,\n",
       "       1936, 1937, 1938, 1939, 1940, 1941, 1942, 1943, 1944, 1945, 1946,\n",
       "       1947, 1948, 1949, 1950, 1951, 1952, 1953, 1954, 1955, 1956, 1957,\n",
       "       1958, 1959, 1960, 1961, 1962, 1963, 1964, 1965, 1966, 1967, 1968,\n",
       "       1969, 1970, 1971, 1972, 1973, 1974, 1975, 1976, 1977, 1978, 1979,\n",
       "       1980, 1981, 1982, 1983, 1984, 1985, 1986, 1987, 1988, 1989, 1990,\n",
       "       1991, 1992, 1993, 1994, 1995, 1996, 1997, 1998, 1999, 2000, 2001,\n",
       "       2002, 2003, 2004, 2005, 2006, 2007, 2008, 2009, 2010, 2011, 2012,\n",
       "       2013, 2014, 2015, 2016, 2017, 2018, 2019, 2020, 2021, 2022, 2023,\n",
       "       2024, 2025, 2026, 2027, 2028, 2029, 2030])"
      ]
     },
     "execution_count": 64,
     "metadata": {},
     "output_type": "execute_result"
    }
   ],
   "execution_count": 64
  },
  {
   "metadata": {
    "ExecuteTime": {
     "end_time": "2024-12-24T15:43:32.781263Z",
     "start_time": "2024-12-24T15:43:32.770748Z"
    }
   },
   "cell_type": "code",
   "source": [
    "average_length = average_length[average_length['year'] < 2025]\n",
    "average_length['year'].unique()"
   ],
   "id": "83fa22980e766258",
   "outputs": [
    {
     "data": {
      "text/plain": [
       "array([1899, 1900, 1903, 1904, 1906, 1907, 1908, 1910, 1911, 1912, 1913,\n",
       "       1914, 1915, 1916, 1917, 1918, 1919, 1920, 1921, 1922, 1923, 1924,\n",
       "       1925, 1926, 1927, 1928, 1929, 1930, 1931, 1932, 1933, 1934, 1935,\n",
       "       1936, 1937, 1938, 1939, 1940, 1941, 1942, 1943, 1944, 1945, 1946,\n",
       "       1947, 1948, 1949, 1950, 1951, 1952, 1953, 1954, 1955, 1956, 1957,\n",
       "       1958, 1959, 1960, 1961, 1962, 1963, 1964, 1965, 1966, 1967, 1968,\n",
       "       1969, 1970, 1971, 1972, 1973, 1974, 1975, 1976, 1977, 1978, 1979,\n",
       "       1980, 1981, 1982, 1983, 1984, 1985, 1986, 1987, 1988, 1989, 1990,\n",
       "       1991, 1992, 1993, 1994, 1995, 1996, 1997, 1998, 1999, 2000, 2001,\n",
       "       2002, 2003, 2004, 2005, 2006, 2007, 2008, 2009, 2010, 2011, 2012,\n",
       "       2013, 2014, 2015, 2016, 2017, 2018, 2019, 2020, 2021, 2022, 2023,\n",
       "       2024])"
      ]
     },
     "execution_count": 65,
     "metadata": {},
     "output_type": "execute_result"
    }
   ],
   "execution_count": 65
  },
  {
   "metadata": {
    "ExecuteTime": {
     "end_time": "2024-12-24T15:43:38.508398Z",
     "start_time": "2024-12-24T15:43:38.495449Z"
    }
   },
   "cell_type": "code",
   "source": "average_length['length'].unique()",
   "id": "eacc5923388be89f",
   "outputs": [
    {
     "data": {
      "text/plain": [
       "array([135.        ,  79.        , 120.        ,  70.        ,\n",
       "        87.5       , 155.        , 135.5       ,  85.6       ,\n",
       "        87.6       ,  94.15384615,  98.16      , 113.02702703,\n",
       "       110.475     , 105.39534884,  96.72560976,  96.05590062,\n",
       "        94.15300546,  92.46190476,  92.24663677,  92.18518519,\n",
       "        90.70671378,  86.14939024,  86.9637883 ,  85.1793722 ,\n",
       "        88.30821918,  89.322     ,  86.1210084 ,  82.57461646,\n",
       "        82.26593137,  81.85083532,  81.52238806,  83.25782093,\n",
       "        82.91897655,  83.73855544,  85.88418933,  86.73838384,\n",
       "        87.22052846,  87.63296703,  89.63856813,  89.06394708,\n",
       "        89.60551559,  90.38719068,  89.61014493,  90.20663265,\n",
       "        90.26564345,  90.59194777,  91.48095238,  91.88568935,\n",
       "        92.39370748,  92.83817427,  93.00321027,  94.50657386,\n",
       "        94.32639885,  93.4985755 ,  92.72005125,  93.52200868,\n",
       "        94.49937186,  97.27020358,  94.84479718,  95.74120879,\n",
       "        95.9238927 ,  98.23103448,  97.85435268,  97.09619565,\n",
       "       101.52128713,  99.09737319,  98.20802762,  96.63133641,\n",
       "        99.66666667, 100.09090909, 103.97878086, 104.06048704,\n",
       "       102.67215138, 104.76747967, 105.97644711, 115.23085847,\n",
       "       107.41827448, 111.47783784, 108.03630363, 108.87152411,\n",
       "       108.91591068, 107.73955857, 110.80942481, 107.36075743,\n",
       "       107.54059098, 106.64839204, 107.43326489, 105.22756982,\n",
       "       107.51730532, 107.3132005 , 108.52513966, 107.27997547,\n",
       "       108.11859838, 110.56951474, 107.71637591, 110.86058614,\n",
       "       107.08772392, 126.31523379, 110.19290051, 122.72074411,\n",
       "       113.46736551, 112.97741126, 111.07465392, 113.1012206 ,\n",
       "       110.39272986, 110.25751073, 109.44829343, 109.47137781,\n",
       "       118.10764468, 109.58382969, 108.97984733, 110.22397994,\n",
       "       110.12404022, 108.96777011, 113.2742703 , 114.18436859,\n",
       "       115.46680663, 122.13995673, 124.56182357, 126.56186738,\n",
       "       123.30578187, 114.74294182])"
      ]
     },
     "execution_count": 66,
     "metadata": {},
     "output_type": "execute_result"
    }
   ],
   "execution_count": 66
  },
  {
   "metadata": {
    "ExecuteTime": {
     "end_time": "2024-12-26T11:25:52.417932Z",
     "start_time": "2024-12-26T11:25:52.380125Z"
    }
   },
   "cell_type": "code",
   "source": [
    "fig = px.scatter(\n",
    "    average_length,\n",
    "    x=\"year\",\n",
    "    y=\"length\",\n",
    "    animation_frame=\"year\",\n",
    "    title=\"Evoluzione della lunghezza dei film negli anni\",\n",
    "    labels={'year': 'Anno', 'length': 'Durata (minuti)'},\n",
    "    range_x=[1899, 2024],\n",
    "    range_y=[60, 160]\n",
    ")\n",
    "\n",
    "fig.update_traces(marker=dict(size=15, color='blue'))\n",
    "fig.update_layout(\n",
    "    xaxis=dict(title=\"Anno\"),\n",
    "    yaxis=dict(title=\"Durata (minuti)\"),\n",
    "    showlegend=False\n",
    ")\n",
    "fig.show()"
   ],
   "id": "89c92ed4356bcf5e",
   "outputs": [
    {
     "ename": "NameError",
     "evalue": "name 'px' is not defined",
     "output_type": "error",
     "traceback": [
      "\u001B[1;31m---------------------------------------------------------------------------\u001B[0m",
      "\u001B[1;31mNameError\u001B[0m                                 Traceback (most recent call last)",
      "Cell \u001B[1;32mIn[2], line 1\u001B[0m\n\u001B[1;32m----> 1\u001B[0m fig \u001B[38;5;241m=\u001B[39m px\u001B[38;5;241m.\u001B[39mscatter(\n\u001B[0;32m      2\u001B[0m     average_length,\n\u001B[0;32m      3\u001B[0m     x\u001B[38;5;241m=\u001B[39m\u001B[38;5;124m\"\u001B[39m\u001B[38;5;124myear\u001B[39m\u001B[38;5;124m\"\u001B[39m,\n\u001B[0;32m      4\u001B[0m     y\u001B[38;5;241m=\u001B[39m\u001B[38;5;124m\"\u001B[39m\u001B[38;5;124mlength\u001B[39m\u001B[38;5;124m\"\u001B[39m,\n\u001B[0;32m      5\u001B[0m     animation_frame\u001B[38;5;241m=\u001B[39m\u001B[38;5;124m\"\u001B[39m\u001B[38;5;124myear\u001B[39m\u001B[38;5;124m\"\u001B[39m,\n\u001B[0;32m      6\u001B[0m     title\u001B[38;5;241m=\u001B[39m\u001B[38;5;124m\"\u001B[39m\u001B[38;5;124mEvoluzione della lunghezza dei film negli anni\u001B[39m\u001B[38;5;124m\"\u001B[39m,\n\u001B[0;32m      7\u001B[0m     labels\u001B[38;5;241m=\u001B[39m{\u001B[38;5;124m'\u001B[39m\u001B[38;5;124myear\u001B[39m\u001B[38;5;124m'\u001B[39m: \u001B[38;5;124m'\u001B[39m\u001B[38;5;124mAnno\u001B[39m\u001B[38;5;124m'\u001B[39m, \u001B[38;5;124m'\u001B[39m\u001B[38;5;124mlength\u001B[39m\u001B[38;5;124m'\u001B[39m: \u001B[38;5;124m'\u001B[39m\u001B[38;5;124mDurata (minuti)\u001B[39m\u001B[38;5;124m'\u001B[39m},\n\u001B[0;32m      8\u001B[0m     range_x\u001B[38;5;241m=\u001B[39m[\u001B[38;5;241m1899\u001B[39m, \u001B[38;5;241m2024\u001B[39m],\n\u001B[0;32m      9\u001B[0m     range_y\u001B[38;5;241m=\u001B[39m[\u001B[38;5;241m60\u001B[39m, \u001B[38;5;241m160\u001B[39m]\n\u001B[0;32m     10\u001B[0m )\n\u001B[0;32m     12\u001B[0m fig\u001B[38;5;241m.\u001B[39mupdate_traces(marker\u001B[38;5;241m=\u001B[39m\u001B[38;5;28mdict\u001B[39m(size\u001B[38;5;241m=\u001B[39m\u001B[38;5;241m15\u001B[39m, color\u001B[38;5;241m=\u001B[39m\u001B[38;5;124m'\u001B[39m\u001B[38;5;124mblue\u001B[39m\u001B[38;5;124m'\u001B[39m))\n\u001B[0;32m     13\u001B[0m fig\u001B[38;5;241m.\u001B[39mupdate_layout(\n\u001B[0;32m     14\u001B[0m     xaxis\u001B[38;5;241m=\u001B[39m\u001B[38;5;28mdict\u001B[39m(title\u001B[38;5;241m=\u001B[39m\u001B[38;5;124m\"\u001B[39m\u001B[38;5;124mAnno\u001B[39m\u001B[38;5;124m\"\u001B[39m),\n\u001B[0;32m     15\u001B[0m     yaxis\u001B[38;5;241m=\u001B[39m\u001B[38;5;28mdict\u001B[39m(title\u001B[38;5;241m=\u001B[39m\u001B[38;5;124m\"\u001B[39m\u001B[38;5;124mDurata (minuti)\u001B[39m\u001B[38;5;124m\"\u001B[39m),\n\u001B[0;32m     16\u001B[0m     showlegend\u001B[38;5;241m=\u001B[39m\u001B[38;5;28;01mFalse\u001B[39;00m\n\u001B[0;32m     17\u001B[0m )\n",
      "\u001B[1;31mNameError\u001B[0m: name 'px' is not defined"
     ]
    }
   ],
   "execution_count": 2
  },
  {
   "metadata": {},
   "cell_type": "code",
   "outputs": [],
   "execution_count": null,
   "source": "",
   "id": "ccb3164241b3980b"
  }
 ],
 "metadata": {
  "kernelspec": {
   "display_name": "Python (progettozzo)",
   "language": "python",
   "name": "progettozzo"
  },
  "language_info": {
   "codemirror_mode": {
    "name": "ipython",
    "version": 3
   },
   "file_extension": ".py",
   "mimetype": "text/x-python",
   "name": "python",
   "nbconvert_exporter": "python",
   "pygments_lexer": "ipython3",
   "version": "3.12.3"
  }
 },
 "nbformat": 4,
 "nbformat_minor": 5
}

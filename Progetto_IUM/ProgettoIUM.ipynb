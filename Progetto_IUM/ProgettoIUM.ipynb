{
 "cells": [
  {
   "cell_type": "markdown",
   "id": "466e284e0365b426",
   "metadata": {},
   "source": [
    "# Progetto IUM - Data Analysis\n",
    "## Università di Informatica, Unito\n",
    "Gruppo Federico Raso, Federico Verra"
   ]
  },
  {
   "cell_type": "markdown",
   "id": "a501ce5d607af062",
   "metadata": {},
   "source": [
    "## Analizzo e pulisco i dati"
   ]
  },
  {
   "metadata": {
    "ExecuteTime": {
     "end_time": "2024-12-26T18:39:53.241323Z",
     "start_time": "2024-12-26T18:39:53.228920Z"
    }
   },
   "cell_type": "code",
   "source": [
    "import numpy\n",
    "import pandas as pd\n",
    "import geopandas as gpd\n",
    "import plotly.express as px\n",
    "import plotly.graph_objects as go\n",
    "print(numpy.__version__)"
   ],
   "id": "initial_id",
   "outputs": [
    {
     "name": "stdout",
     "output_type": "stream",
     "text": [
      "2.1.3\n"
     ]
    }
   ],
   "execution_count": 56
  },
  {
   "metadata": {
    "ExecuteTime": {
     "end_time": "2024-12-26T11:26:19.412399Z",
     "start_time": "2024-12-26T11:26:00.109751Z"
    }
   },
   "cell_type": "code",
   "source": [
    "data_directory = \"./data/\"\n",
    "actors_df = pd.read_csv(data_directory+'actors.csv')\n",
    "countries_df = pd.read_csv(data_directory+'countries.csv')\n",
    "crew_df = pd.read_csv(data_directory+'crew.csv')\n",
    "genres_df = pd.read_csv(data_directory+'genres.csv')\n",
    "languages_df = pd.read_csv(data_directory+'languages.csv')\n",
    "movies_df = pd.read_csv(data_directory+'movies.csv')\n",
    "posters_df = pd.read_csv(data_directory+'posters.csv')\n",
    "releases_df = pd.read_csv(data_directory+'releases.csv')\n",
    "reviews_rotten_df = pd.read_csv(data_directory+'rotten_tomatoes_reviews.csv')\n",
    "studios_df = pd.read_csv(data_directory+'studios.csv')\n",
    "oscar_df = pd.read_csv(data_directory+'the_oscar_awards.csv')\n",
    "reviews_rotten_df"
   ],
   "id": "433d985e21f0e341",
   "outputs": [
    {
     "data": {
      "text/plain": [
       "        rotten_tomatoes_link  \\\n",
       "0                  m/0814255   \n",
       "1                  m/0814255   \n",
       "2                  m/0814255   \n",
       "3                  m/0814255   \n",
       "4                  m/0814255   \n",
       "...                      ...   \n",
       "1129882          m/zulu_dawn   \n",
       "1129883          m/zulu_dawn   \n",
       "1129884          m/zulu_dawn   \n",
       "1129885          m/zulu_dawn   \n",
       "1129886          m/zulu_dawn   \n",
       "\n",
       "                                               movie_title        critic_name  \\\n",
       "0        Percy Jackson & the Olympians: The Lightning T...    Andrew L. Urban   \n",
       "1        Percy Jackson & the Olympians: The Lightning T...      Louise Keller   \n",
       "2        Percy Jackson & the Olympians: The Lightning T...                NaN   \n",
       "3        Percy Jackson & the Olympians: The Lightning T...       Ben McEachen   \n",
       "4        Percy Jackson & the Olympians: The Lightning T...        Ethan Alter   \n",
       "...                                                    ...                ...   \n",
       "1129882                                          Zulu Dawn      Chuck O'Leary   \n",
       "1129883                                          Zulu Dawn          Ken Hanke   \n",
       "1129884                                          Zulu Dawn    Dennis Schwartz   \n",
       "1129885                                          Zulu Dawn  Christopher Lloyd   \n",
       "1129886                                          Zulu Dawn     Brent McKnight   \n",
       "\n",
       "         top_critic                   publisher_name review_type review_score  \\\n",
       "0             False                   Urban Cinefile       Fresh          NaN   \n",
       "1             False                   Urban Cinefile       Fresh          NaN   \n",
       "2             False              FILMINK (Australia)       Fresh          NaN   \n",
       "3             False          Sunday Mail (Australia)       Fresh        3.5/5   \n",
       "4              True               Hollywood Reporter      Rotten          NaN   \n",
       "...             ...                              ...         ...          ...   \n",
       "1129882       False                 Fantastica Daily      Rotten          2/5   \n",
       "1129883       False  Mountain Xpress (Asheville, NC)       Fresh        3.5/5   \n",
       "1129884       False    Dennis Schwartz Movie Reviews       Fresh           B+   \n",
       "1129885       False          Sarasota Herald-Tribune      Rotten        3.5/5   \n",
       "1129886       False             The Last Thing I See      Rotten            C   \n",
       "\n",
       "        review_date                                     review_content  \n",
       "0        2010-02-06  A fantasy adventure that fuses Greek mythology...  \n",
       "1        2010-02-06  Uma Thurman as Medusa, the gorgon with a coiff...  \n",
       "2        2010-02-09  With a top-notch cast and dazzling special eff...  \n",
       "3        2010-02-09  Whether audiences will get behind The Lightnin...  \n",
       "4        2010-02-10  What's really lacking in The Lightning Thief i...  \n",
       "...             ...                                                ...  \n",
       "1129882  2005-11-02                                                NaN  \n",
       "1129883  2007-03-07  Seen today, it's not only a startling indictme...  \n",
       "1129884  2010-09-16  A rousing visual spectacle that's a prequel of...  \n",
       "1129885  2011-02-28  A simple two-act story: Prelude to war, and th...  \n",
       "1129886  2020-07-09  Rides the line between being a pure artifact o...  \n",
       "\n",
       "[1129887 rows x 9 columns]"
      ],
      "text/html": [
       "<div>\n",
       "<style scoped>\n",
       "    .dataframe tbody tr th:only-of-type {\n",
       "        vertical-align: middle;\n",
       "    }\n",
       "\n",
       "    .dataframe tbody tr th {\n",
       "        vertical-align: top;\n",
       "    }\n",
       "\n",
       "    .dataframe thead th {\n",
       "        text-align: right;\n",
       "    }\n",
       "</style>\n",
       "<table border=\"1\" class=\"dataframe\">\n",
       "  <thead>\n",
       "    <tr style=\"text-align: right;\">\n",
       "      <th></th>\n",
       "      <th>rotten_tomatoes_link</th>\n",
       "      <th>movie_title</th>\n",
       "      <th>critic_name</th>\n",
       "      <th>top_critic</th>\n",
       "      <th>publisher_name</th>\n",
       "      <th>review_type</th>\n",
       "      <th>review_score</th>\n",
       "      <th>review_date</th>\n",
       "      <th>review_content</th>\n",
       "    </tr>\n",
       "  </thead>\n",
       "  <tbody>\n",
       "    <tr>\n",
       "      <th>0</th>\n",
       "      <td>m/0814255</td>\n",
       "      <td>Percy Jackson &amp; the Olympians: The Lightning T...</td>\n",
       "      <td>Andrew L. Urban</td>\n",
       "      <td>False</td>\n",
       "      <td>Urban Cinefile</td>\n",
       "      <td>Fresh</td>\n",
       "      <td>NaN</td>\n",
       "      <td>2010-02-06</td>\n",
       "      <td>A fantasy adventure that fuses Greek mythology...</td>\n",
       "    </tr>\n",
       "    <tr>\n",
       "      <th>1</th>\n",
       "      <td>m/0814255</td>\n",
       "      <td>Percy Jackson &amp; the Olympians: The Lightning T...</td>\n",
       "      <td>Louise Keller</td>\n",
       "      <td>False</td>\n",
       "      <td>Urban Cinefile</td>\n",
       "      <td>Fresh</td>\n",
       "      <td>NaN</td>\n",
       "      <td>2010-02-06</td>\n",
       "      <td>Uma Thurman as Medusa, the gorgon with a coiff...</td>\n",
       "    </tr>\n",
       "    <tr>\n",
       "      <th>2</th>\n",
       "      <td>m/0814255</td>\n",
       "      <td>Percy Jackson &amp; the Olympians: The Lightning T...</td>\n",
       "      <td>NaN</td>\n",
       "      <td>False</td>\n",
       "      <td>FILMINK (Australia)</td>\n",
       "      <td>Fresh</td>\n",
       "      <td>NaN</td>\n",
       "      <td>2010-02-09</td>\n",
       "      <td>With a top-notch cast and dazzling special eff...</td>\n",
       "    </tr>\n",
       "    <tr>\n",
       "      <th>3</th>\n",
       "      <td>m/0814255</td>\n",
       "      <td>Percy Jackson &amp; the Olympians: The Lightning T...</td>\n",
       "      <td>Ben McEachen</td>\n",
       "      <td>False</td>\n",
       "      <td>Sunday Mail (Australia)</td>\n",
       "      <td>Fresh</td>\n",
       "      <td>3.5/5</td>\n",
       "      <td>2010-02-09</td>\n",
       "      <td>Whether audiences will get behind The Lightnin...</td>\n",
       "    </tr>\n",
       "    <tr>\n",
       "      <th>4</th>\n",
       "      <td>m/0814255</td>\n",
       "      <td>Percy Jackson &amp; the Olympians: The Lightning T...</td>\n",
       "      <td>Ethan Alter</td>\n",
       "      <td>True</td>\n",
       "      <td>Hollywood Reporter</td>\n",
       "      <td>Rotten</td>\n",
       "      <td>NaN</td>\n",
       "      <td>2010-02-10</td>\n",
       "      <td>What's really lacking in The Lightning Thief i...</td>\n",
       "    </tr>\n",
       "    <tr>\n",
       "      <th>...</th>\n",
       "      <td>...</td>\n",
       "      <td>...</td>\n",
       "      <td>...</td>\n",
       "      <td>...</td>\n",
       "      <td>...</td>\n",
       "      <td>...</td>\n",
       "      <td>...</td>\n",
       "      <td>...</td>\n",
       "      <td>...</td>\n",
       "    </tr>\n",
       "    <tr>\n",
       "      <th>1129882</th>\n",
       "      <td>m/zulu_dawn</td>\n",
       "      <td>Zulu Dawn</td>\n",
       "      <td>Chuck O'Leary</td>\n",
       "      <td>False</td>\n",
       "      <td>Fantastica Daily</td>\n",
       "      <td>Rotten</td>\n",
       "      <td>2/5</td>\n",
       "      <td>2005-11-02</td>\n",
       "      <td>NaN</td>\n",
       "    </tr>\n",
       "    <tr>\n",
       "      <th>1129883</th>\n",
       "      <td>m/zulu_dawn</td>\n",
       "      <td>Zulu Dawn</td>\n",
       "      <td>Ken Hanke</td>\n",
       "      <td>False</td>\n",
       "      <td>Mountain Xpress (Asheville, NC)</td>\n",
       "      <td>Fresh</td>\n",
       "      <td>3.5/5</td>\n",
       "      <td>2007-03-07</td>\n",
       "      <td>Seen today, it's not only a startling indictme...</td>\n",
       "    </tr>\n",
       "    <tr>\n",
       "      <th>1129884</th>\n",
       "      <td>m/zulu_dawn</td>\n",
       "      <td>Zulu Dawn</td>\n",
       "      <td>Dennis Schwartz</td>\n",
       "      <td>False</td>\n",
       "      <td>Dennis Schwartz Movie Reviews</td>\n",
       "      <td>Fresh</td>\n",
       "      <td>B+</td>\n",
       "      <td>2010-09-16</td>\n",
       "      <td>A rousing visual spectacle that's a prequel of...</td>\n",
       "    </tr>\n",
       "    <tr>\n",
       "      <th>1129885</th>\n",
       "      <td>m/zulu_dawn</td>\n",
       "      <td>Zulu Dawn</td>\n",
       "      <td>Christopher Lloyd</td>\n",
       "      <td>False</td>\n",
       "      <td>Sarasota Herald-Tribune</td>\n",
       "      <td>Rotten</td>\n",
       "      <td>3.5/5</td>\n",
       "      <td>2011-02-28</td>\n",
       "      <td>A simple two-act story: Prelude to war, and th...</td>\n",
       "    </tr>\n",
       "    <tr>\n",
       "      <th>1129886</th>\n",
       "      <td>m/zulu_dawn</td>\n",
       "      <td>Zulu Dawn</td>\n",
       "      <td>Brent McKnight</td>\n",
       "      <td>False</td>\n",
       "      <td>The Last Thing I See</td>\n",
       "      <td>Rotten</td>\n",
       "      <td>C</td>\n",
       "      <td>2020-07-09</td>\n",
       "      <td>Rides the line between being a pure artifact o...</td>\n",
       "    </tr>\n",
       "  </tbody>\n",
       "</table>\n",
       "<p>1129887 rows × 9 columns</p>\n",
       "</div>"
      ]
     },
     "execution_count": 4,
     "metadata": {},
     "output_type": "execute_result"
    }
   ],
   "execution_count": 4
  },
  {
   "cell_type": "code",
   "execution_count": null,
   "id": "626e141798383c9e",
   "metadata": {},
   "outputs": [],
   "source": []
  },
  {
   "cell_type": "markdown",
   "id": "f7ee33d651101ad5",
   "metadata": {},
   "source": [
    "## Quale paese ha vinto più oscar?"
   ]
  },
  {
   "cell_type": "code",
   "execution_count": null,
   "id": "6a2545048d99af50",
   "metadata": {},
   "outputs": [],
   "source": []
  },
  {
   "cell_type": "markdown",
   "id": "86a878d97db1984e",
   "metadata": {},
   "source": [
    "## Chi ha prodotto più film?"
   ]
  },
  {
   "cell_type": "code",
   "id": "c21ead202e9cfc52",
   "metadata": {
    "ExecuteTime": {
     "end_time": "2024-12-26T15:55:17.765695Z",
     "start_time": "2024-12-26T15:55:17.699271Z"
    }
   },
   "source": [
    "movies_per_year_df = movies_df[['id', 'date']].copy()\n",
    "movies_per_year_df.dtypes"
   ],
   "outputs": [
    {
     "data": {
      "text/plain": [
       "id        int64\n",
       "date    float64\n",
       "dtype: object"
      ]
     },
     "execution_count": 30,
     "metadata": {},
     "output_type": "execute_result"
    }
   ],
   "execution_count": 30
  },
  {
   "metadata": {
    "ExecuteTime": {
     "end_time": "2024-12-26T15:57:32.947338Z",
     "start_time": "2024-12-26T15:57:32.896749Z"
    }
   },
   "cell_type": "code",
   "source": [
    "movies_per_year_df.dropna(axis=0,inplace=True)\n",
    "movies_per_year_df['date'] =movies_per_year_df['date'].astype(int)\n",
    "movies_per_year_df.dtypes"
   ],
   "id": "a92999eb3e324ba6",
   "outputs": [
    {
     "data": {
      "text/plain": [
       "id      int64\n",
       "date    int64\n",
       "dtype: object"
      ]
     },
     "execution_count": 32,
     "metadata": {},
     "output_type": "execute_result"
    }
   ],
   "execution_count": 32
  },
  {
   "metadata": {
    "ExecuteTime": {
     "end_time": "2024-12-26T16:00:29.293417Z",
     "start_time": "2024-12-26T16:00:29.200389Z"
    }
   },
   "cell_type": "code",
   "source": "print(movies_per_year_df.duplicated().sum())",
   "id": "bbd33fc9e12d65aa",
   "outputs": [
    {
     "name": "stdout",
     "output_type": "stream",
     "text": [
      "0\n"
     ]
    }
   ],
   "execution_count": 36
  },
  {
   "metadata": {
    "ExecuteTime": {
     "end_time": "2024-12-26T16:01:57.584163Z",
     "start_time": "2024-12-26T16:01:57.457953Z"
    }
   },
   "cell_type": "code",
   "source": [
    "new_country_df = countries_df.copy()\n",
    "new_country_df.dropna(axis=0,inplace=True)\n",
    "print(new_country_df.duplicated().sum())"
   ],
   "id": "144393a04e3bf1d8",
   "outputs": [
    {
     "name": "stdout",
     "output_type": "stream",
     "text": [
      "0\n"
     ]
    }
   ],
   "execution_count": 40
  },
  {
   "metadata": {
    "ExecuteTime": {
     "end_time": "2024-12-26T16:02:18.581722Z",
     "start_time": "2024-12-26T16:02:18.573546Z"
    }
   },
   "cell_type": "code",
   "source": "new_country_df.dtypes",
   "id": "5eab972b8ae89952",
   "outputs": [
    {
     "data": {
      "text/plain": [
       "id          int64\n",
       "country    object\n",
       "dtype: object"
      ]
     },
     "execution_count": 41,
     "metadata": {},
     "output_type": "execute_result"
    }
   ],
   "execution_count": 41
  },
  {
   "metadata": {
    "ExecuteTime": {
     "end_time": "2024-12-26T18:13:13.143176Z",
     "start_time": "2024-12-26T18:13:13.098214Z"
    }
   },
   "cell_type": "code",
   "source": [
    "new_country_df['country']=new_country_df['country'].astype('string')\n",
    "new_country_df.dtypes"
   ],
   "id": "4ec034ab22bce960",
   "outputs": [
    {
     "data": {
      "text/plain": [
       "id                  int64\n",
       "country    string[python]\n",
       "dtype: object"
      ]
     },
     "execution_count": 49,
     "metadata": {},
     "output_type": "execute_result"
    }
   ],
   "execution_count": 49
  },
  {
   "metadata": {
    "ExecuteTime": {
     "end_time": "2024-12-26T18:32:38.679441Z",
     "start_time": "2024-12-26T18:32:38.223289Z"
    }
   },
   "cell_type": "code",
   "source": [
    "movies_per_year_df = pd.merge(movies_per_year_df,new_country_df,on='id',how='left')\n",
    "movies_per_year_df.head()"
   ],
   "id": "a42260e4e58f0da5",
   "outputs": [
    {
     "data": {
      "text/plain": [
       "        id  date      country\n",
       "0  1000001  2023           UK\n",
       "1  1000001  2023          USA\n",
       "2  1000002  2019  South Korea\n",
       "3  1000003  2022          USA\n",
       "4  1000004  1999      Germany"
      ],
      "text/html": [
       "<div>\n",
       "<style scoped>\n",
       "    .dataframe tbody tr th:only-of-type {\n",
       "        vertical-align: middle;\n",
       "    }\n",
       "\n",
       "    .dataframe tbody tr th {\n",
       "        vertical-align: top;\n",
       "    }\n",
       "\n",
       "    .dataframe thead th {\n",
       "        text-align: right;\n",
       "    }\n",
       "</style>\n",
       "<table border=\"1\" class=\"dataframe\">\n",
       "  <thead>\n",
       "    <tr style=\"text-align: right;\">\n",
       "      <th></th>\n",
       "      <th>id</th>\n",
       "      <th>date</th>\n",
       "      <th>country</th>\n",
       "    </tr>\n",
       "  </thead>\n",
       "  <tbody>\n",
       "    <tr>\n",
       "      <th>0</th>\n",
       "      <td>1000001</td>\n",
       "      <td>2023</td>\n",
       "      <td>UK</td>\n",
       "    </tr>\n",
       "    <tr>\n",
       "      <th>1</th>\n",
       "      <td>1000001</td>\n",
       "      <td>2023</td>\n",
       "      <td>USA</td>\n",
       "    </tr>\n",
       "    <tr>\n",
       "      <th>2</th>\n",
       "      <td>1000002</td>\n",
       "      <td>2019</td>\n",
       "      <td>South Korea</td>\n",
       "    </tr>\n",
       "    <tr>\n",
       "      <th>3</th>\n",
       "      <td>1000003</td>\n",
       "      <td>2022</td>\n",
       "      <td>USA</td>\n",
       "    </tr>\n",
       "    <tr>\n",
       "      <th>4</th>\n",
       "      <td>1000004</td>\n",
       "      <td>1999</td>\n",
       "      <td>Germany</td>\n",
       "    </tr>\n",
       "  </tbody>\n",
       "</table>\n",
       "</div>"
      ]
     },
     "execution_count": 50,
     "metadata": {},
     "output_type": "execute_result"
    }
   ],
   "execution_count": 50
  },
  {
   "metadata": {
    "ExecuteTime": {
     "end_time": "2024-12-26T18:36:12.109488Z",
     "start_time": "2024-12-26T18:36:12.059947Z"
    }
   },
   "cell_type": "code",
   "source": "movies_per_year_df.isnull().sum()",
   "id": "8f7f64aeeace6b0d",
   "outputs": [
    {
     "data": {
      "text/plain": [
       "id              0\n",
       "date            0\n",
       "country    256299\n",
       "dtype: int64"
      ]
     },
     "execution_count": 53,
     "metadata": {},
     "output_type": "execute_result"
    }
   ],
   "execution_count": 53
  },
  {
   "metadata": {
    "ExecuteTime": {
     "end_time": "2024-12-26T18:36:46.070512Z",
     "start_time": "2024-12-26T18:36:45.910780Z"
    }
   },
   "cell_type": "code",
   "source": [
    "movies_per_year_df.dropna(axis=0,inplace=True)\n",
    "movies_per_year_df.isnull().sum()"
   ],
   "id": "8a1cc2d8fef97a14",
   "outputs": [
    {
     "data": {
      "text/plain": [
       "id         0\n",
       "date       0\n",
       "country    0\n",
       "dtype: int64"
      ]
     },
     "execution_count": 54,
     "metadata": {},
     "output_type": "execute_result"
    }
   ],
   "execution_count": 54
  },
  {
   "metadata": {
    "ExecuteTime": {
     "end_time": "2024-12-26T18:37:11.994135Z",
     "start_time": "2024-12-26T18:37:11.798761Z"
    }
   },
   "cell_type": "code",
   "source": "print(movies_per_year_df.duplicated().sum())",
   "id": "fce1cfe13c8aecdd",
   "outputs": [
    {
     "name": "stdout",
     "output_type": "stream",
     "text": [
      "0\n"
     ]
    }
   ],
   "execution_count": 55
  },
  {
   "metadata": {
    "ExecuteTime": {
     "end_time": "2024-12-26T18:48:55.519104Z",
     "start_time": "2024-12-26T18:48:55.405404Z"
    }
   },
   "cell_type": "code",
   "source": [
    "country_count = movies_per_year_df['country'].value_counts().reset_index()\n",
    "print(country_count)"
   ],
   "id": "5e2871785682d709",
   "outputs": [
    {
     "name": "stdout",
     "output_type": "stream",
     "text": [
      "                               country   count\n",
      "0                                  USA  165629\n",
      "1                               France   43839\n",
      "2                                   UK   41352\n",
      "3                                Japan   40901\n",
      "4                              Germany   40477\n",
      "..                                 ...     ...\n",
      "242                               Niue       2\n",
      "243  Heard Island and McDonald Islands       2\n",
      "244            Cocos (Keeling) Islands       1\n",
      "245                      Bouvet Island       1\n",
      "246                     Norfolk Island       1\n",
      "\n",
      "[247 rows x 2 columns]\n"
     ]
    }
   ],
   "execution_count": 60
  },
  {
   "cell_type": "markdown",
   "id": "6162b904c9a4288f",
   "metadata": {},
   "source": [
    "## La bellezza di un film, può essere influenzata dalla durata?"
   ]
  },
  {
   "cell_type": "code",
   "id": "c4ac5986f50e24d8",
   "metadata": {
    "ExecuteTime": {
     "end_time": "2024-12-26T16:01:33.534011Z",
     "start_time": "2024-12-26T16:01:33.401380Z"
    }
   },
   "source": "",
   "outputs": [
    {
     "name": "stdout",
     "output_type": "stream",
     "text": [
      "0\n"
     ]
    }
   ],
   "execution_count": 39
  },
  {
   "cell_type": "markdown",
   "id": "6ca2dd3f55bd00a7",
   "metadata": {},
   "source": [
    "## Nel tempo come si è evoluta la durata media dei film?"
   ]
  },
  {
   "cell_type": "markdown",
   "id": "ff3ad829cbe82aeb",
   "metadata": {},
   "source": []
  },
  {
   "metadata": {
    "ExecuteTime": {
     "end_time": "2024-12-26T11:27:13.120574Z",
     "start_time": "2024-12-26T11:27:13.056229Z"
    }
   },
   "cell_type": "code",
   "source": [
    "time_df =movies_df[['id', 'date', 'minute']].copy()\n",
    "new_names = {'date':'year','minute': 'length'}\n",
    "time_df=time_df.rename(columns=new_names)\n",
    "time_df.head(10)\n"
   ],
   "id": "94568b338054007b",
   "outputs": [
    {
     "data": {
      "text/plain": [
       "        id    year  length\n",
       "0  1000001  2023.0   114.0\n",
       "1  1000002  2019.0   133.0\n",
       "2  1000003  2022.0   140.0\n",
       "3  1000004  1999.0   139.0\n",
       "4  1000005  2016.0   129.0\n",
       "5  1000006  2023.0   181.0\n",
       "6  1000007  2014.0   169.0\n",
       "7  1000008  2019.0   122.0\n",
       "8  1000009  2021.0   155.0\n",
       "9  1000010  1994.0   154.0"
      ],
      "text/html": [
       "<div>\n",
       "<style scoped>\n",
       "    .dataframe tbody tr th:only-of-type {\n",
       "        vertical-align: middle;\n",
       "    }\n",
       "\n",
       "    .dataframe tbody tr th {\n",
       "        vertical-align: top;\n",
       "    }\n",
       "\n",
       "    .dataframe thead th {\n",
       "        text-align: right;\n",
       "    }\n",
       "</style>\n",
       "<table border=\"1\" class=\"dataframe\">\n",
       "  <thead>\n",
       "    <tr style=\"text-align: right;\">\n",
       "      <th></th>\n",
       "      <th>id</th>\n",
       "      <th>year</th>\n",
       "      <th>length</th>\n",
       "    </tr>\n",
       "  </thead>\n",
       "  <tbody>\n",
       "    <tr>\n",
       "      <th>0</th>\n",
       "      <td>1000001</td>\n",
       "      <td>2023.0</td>\n",
       "      <td>114.0</td>\n",
       "    </tr>\n",
       "    <tr>\n",
       "      <th>1</th>\n",
       "      <td>1000002</td>\n",
       "      <td>2019.0</td>\n",
       "      <td>133.0</td>\n",
       "    </tr>\n",
       "    <tr>\n",
       "      <th>2</th>\n",
       "      <td>1000003</td>\n",
       "      <td>2022.0</td>\n",
       "      <td>140.0</td>\n",
       "    </tr>\n",
       "    <tr>\n",
       "      <th>3</th>\n",
       "      <td>1000004</td>\n",
       "      <td>1999.0</td>\n",
       "      <td>139.0</td>\n",
       "    </tr>\n",
       "    <tr>\n",
       "      <th>4</th>\n",
       "      <td>1000005</td>\n",
       "      <td>2016.0</td>\n",
       "      <td>129.0</td>\n",
       "    </tr>\n",
       "    <tr>\n",
       "      <th>5</th>\n",
       "      <td>1000006</td>\n",
       "      <td>2023.0</td>\n",
       "      <td>181.0</td>\n",
       "    </tr>\n",
       "    <tr>\n",
       "      <th>6</th>\n",
       "      <td>1000007</td>\n",
       "      <td>2014.0</td>\n",
       "      <td>169.0</td>\n",
       "    </tr>\n",
       "    <tr>\n",
       "      <th>7</th>\n",
       "      <td>1000008</td>\n",
       "      <td>2019.0</td>\n",
       "      <td>122.0</td>\n",
       "    </tr>\n",
       "    <tr>\n",
       "      <th>8</th>\n",
       "      <td>1000009</td>\n",
       "      <td>2021.0</td>\n",
       "      <td>155.0</td>\n",
       "    </tr>\n",
       "    <tr>\n",
       "      <th>9</th>\n",
       "      <td>1000010</td>\n",
       "      <td>1994.0</td>\n",
       "      <td>154.0</td>\n",
       "    </tr>\n",
       "  </tbody>\n",
       "</table>\n",
       "</div>"
      ]
     },
     "execution_count": 5,
     "metadata": {},
     "output_type": "execute_result"
    }
   ],
   "execution_count": 5
  },
  {
   "metadata": {
    "ExecuteTime": {
     "end_time": "2024-12-26T11:27:15.655652Z",
     "start_time": "2024-12-26T11:27:15.645692Z"
    }
   },
   "cell_type": "code",
   "source": "time_df.dtypes",
   "id": "494866e9c4af67d2",
   "outputs": [
    {
     "data": {
      "text/plain": [
       "id          int64\n",
       "year      float64\n",
       "length    float64\n",
       "dtype: object"
      ]
     },
     "execution_count": 6,
     "metadata": {},
     "output_type": "execute_result"
    }
   ],
   "execution_count": 6
  },
  {
   "metadata": {
    "ExecuteTime": {
     "end_time": "2024-12-26T11:27:18.522194Z",
     "start_time": "2024-12-26T11:27:18.381443Z"
    }
   },
   "cell_type": "code",
   "source": [
    "time_df.dropna(axis=0, inplace=True)\n",
    "print(time_df.duplicated().sum())"
   ],
   "id": "4bfe22fc6a33fad6",
   "outputs": [
    {
     "name": "stdout",
     "output_type": "stream",
     "text": [
      "0\n"
     ]
    }
   ],
   "execution_count": 7
  },
  {
   "metadata": {
    "ExecuteTime": {
     "end_time": "2024-12-26T11:27:20.664386Z",
     "start_time": "2024-12-26T11:27:20.647921Z"
    }
   },
   "cell_type": "code",
   "source": [
    "time_df['year'] = time_df['year'].astype(int)\n",
    "time_df.dtypes\n"
   ],
   "id": "2de6b00d02c9e6c1",
   "outputs": [
    {
     "data": {
      "text/plain": [
       "id          int64\n",
       "year        int64\n",
       "length    float64\n",
       "dtype: object"
      ]
     },
     "execution_count": 8,
     "metadata": {},
     "output_type": "execute_result"
    }
   ],
   "execution_count": 8
  },
  {
   "metadata": {
    "ExecuteTime": {
     "end_time": "2024-12-26T11:27:23.048350Z",
     "start_time": "2024-12-26T11:27:22.998085Z"
    }
   },
   "cell_type": "code",
   "source": [
    "time_df = time_df[time_df['length']>60]\n",
    "average_length = time_df.groupby('year')['length'].mean().reset_index()\n",
    "average_length.head(10)\n"
   ],
   "id": "8884463ef90a7e",
   "outputs": [
    {
     "data": {
      "text/plain": [
       "   year      length\n",
       "0  1899  135.000000\n",
       "1  1900   79.000000\n",
       "2  1903  120.000000\n",
       "3  1904   70.000000\n",
       "4  1906   87.500000\n",
       "5  1907  155.000000\n",
       "6  1908  135.500000\n",
       "7  1910   85.600000\n",
       "8  1911   87.600000\n",
       "9  1912   94.153846"
      ],
      "text/html": [
       "<div>\n",
       "<style scoped>\n",
       "    .dataframe tbody tr th:only-of-type {\n",
       "        vertical-align: middle;\n",
       "    }\n",
       "\n",
       "    .dataframe tbody tr th {\n",
       "        vertical-align: top;\n",
       "    }\n",
       "\n",
       "    .dataframe thead th {\n",
       "        text-align: right;\n",
       "    }\n",
       "</style>\n",
       "<table border=\"1\" class=\"dataframe\">\n",
       "  <thead>\n",
       "    <tr style=\"text-align: right;\">\n",
       "      <th></th>\n",
       "      <th>year</th>\n",
       "      <th>length</th>\n",
       "    </tr>\n",
       "  </thead>\n",
       "  <tbody>\n",
       "    <tr>\n",
       "      <th>0</th>\n",
       "      <td>1899</td>\n",
       "      <td>135.000000</td>\n",
       "    </tr>\n",
       "    <tr>\n",
       "      <th>1</th>\n",
       "      <td>1900</td>\n",
       "      <td>79.000000</td>\n",
       "    </tr>\n",
       "    <tr>\n",
       "      <th>2</th>\n",
       "      <td>1903</td>\n",
       "      <td>120.000000</td>\n",
       "    </tr>\n",
       "    <tr>\n",
       "      <th>3</th>\n",
       "      <td>1904</td>\n",
       "      <td>70.000000</td>\n",
       "    </tr>\n",
       "    <tr>\n",
       "      <th>4</th>\n",
       "      <td>1906</td>\n",
       "      <td>87.500000</td>\n",
       "    </tr>\n",
       "    <tr>\n",
       "      <th>5</th>\n",
       "      <td>1907</td>\n",
       "      <td>155.000000</td>\n",
       "    </tr>\n",
       "    <tr>\n",
       "      <th>6</th>\n",
       "      <td>1908</td>\n",
       "      <td>135.500000</td>\n",
       "    </tr>\n",
       "    <tr>\n",
       "      <th>7</th>\n",
       "      <td>1910</td>\n",
       "      <td>85.600000</td>\n",
       "    </tr>\n",
       "    <tr>\n",
       "      <th>8</th>\n",
       "      <td>1911</td>\n",
       "      <td>87.600000</td>\n",
       "    </tr>\n",
       "    <tr>\n",
       "      <th>9</th>\n",
       "      <td>1912</td>\n",
       "      <td>94.153846</td>\n",
       "    </tr>\n",
       "  </tbody>\n",
       "</table>\n",
       "</div>"
      ]
     },
     "execution_count": 9,
     "metadata": {},
     "output_type": "execute_result"
    }
   ],
   "execution_count": 9
  },
  {
   "metadata": {
    "ExecuteTime": {
     "end_time": "2024-12-26T11:27:26.025872Z",
     "start_time": "2024-12-26T11:27:26.017629Z"
    }
   },
   "cell_type": "code",
   "source": "average_length['year'].unique()",
   "id": "4deedb8462adc438",
   "outputs": [
    {
     "data": {
      "text/plain": [
       "array([1899, 1900, 1903, 1904, 1906, 1907, 1908, 1910, 1911, 1912, 1913,\n",
       "       1914, 1915, 1916, 1917, 1918, 1919, 1920, 1921, 1922, 1923, 1924,\n",
       "       1925, 1926, 1927, 1928, 1929, 1930, 1931, 1932, 1933, 1934, 1935,\n",
       "       1936, 1937, 1938, 1939, 1940, 1941, 1942, 1943, 1944, 1945, 1946,\n",
       "       1947, 1948, 1949, 1950, 1951, 1952, 1953, 1954, 1955, 1956, 1957,\n",
       "       1958, 1959, 1960, 1961, 1962, 1963, 1964, 1965, 1966, 1967, 1968,\n",
       "       1969, 1970, 1971, 1972, 1973, 1974, 1975, 1976, 1977, 1978, 1979,\n",
       "       1980, 1981, 1982, 1983, 1984, 1985, 1986, 1987, 1988, 1989, 1990,\n",
       "       1991, 1992, 1993, 1994, 1995, 1996, 1997, 1998, 1999, 2000, 2001,\n",
       "       2002, 2003, 2004, 2005, 2006, 2007, 2008, 2009, 2010, 2011, 2012,\n",
       "       2013, 2014, 2015, 2016, 2017, 2018, 2019, 2020, 2021, 2022, 2023,\n",
       "       2024, 2025, 2026, 2027, 2028, 2029, 2030])"
      ]
     },
     "execution_count": 10,
     "metadata": {},
     "output_type": "execute_result"
    }
   ],
   "execution_count": 10
  },
  {
   "metadata": {
    "ExecuteTime": {
     "end_time": "2024-12-26T11:27:27.625849Z",
     "start_time": "2024-12-26T11:27:27.618115Z"
    }
   },
   "cell_type": "code",
   "source": [
    "average_length = average_length[average_length['year'] < 2025]\n",
    "average_length['year'].unique()"
   ],
   "id": "83fa22980e766258",
   "outputs": [
    {
     "data": {
      "text/plain": [
       "array([1899, 1900, 1903, 1904, 1906, 1907, 1908, 1910, 1911, 1912, 1913,\n",
       "       1914, 1915, 1916, 1917, 1918, 1919, 1920, 1921, 1922, 1923, 1924,\n",
       "       1925, 1926, 1927, 1928, 1929, 1930, 1931, 1932, 1933, 1934, 1935,\n",
       "       1936, 1937, 1938, 1939, 1940, 1941, 1942, 1943, 1944, 1945, 1946,\n",
       "       1947, 1948, 1949, 1950, 1951, 1952, 1953, 1954, 1955, 1956, 1957,\n",
       "       1958, 1959, 1960, 1961, 1962, 1963, 1964, 1965, 1966, 1967, 1968,\n",
       "       1969, 1970, 1971, 1972, 1973, 1974, 1975, 1976, 1977, 1978, 1979,\n",
       "       1980, 1981, 1982, 1983, 1984, 1985, 1986, 1987, 1988, 1989, 1990,\n",
       "       1991, 1992, 1993, 1994, 1995, 1996, 1997, 1998, 1999, 2000, 2001,\n",
       "       2002, 2003, 2004, 2005, 2006, 2007, 2008, 2009, 2010, 2011, 2012,\n",
       "       2013, 2014, 2015, 2016, 2017, 2018, 2019, 2020, 2021, 2022, 2023,\n",
       "       2024])"
      ]
     },
     "execution_count": 11,
     "metadata": {},
     "output_type": "execute_result"
    }
   ],
   "execution_count": 11
  },
  {
   "metadata": {
    "ExecuteTime": {
     "end_time": "2024-12-26T11:27:30.037633Z",
     "start_time": "2024-12-26T11:27:30.021424Z"
    }
   },
   "cell_type": "code",
   "source": "average_length['length'].unique()",
   "id": "eacc5923388be89f",
   "outputs": [
    {
     "data": {
      "text/plain": [
       "array([135.        ,  79.        , 120.        ,  70.        ,\n",
       "        87.5       , 155.        , 135.5       ,  85.6       ,\n",
       "        87.6       ,  94.15384615,  98.16      , 113.02702703,\n",
       "       110.475     , 105.39534884,  96.72560976,  96.05590062,\n",
       "        94.15300546,  92.46190476,  92.24663677,  92.18518519,\n",
       "        90.70671378,  86.14939024,  86.9637883 ,  85.1793722 ,\n",
       "        88.30821918,  89.322     ,  86.1210084 ,  82.57461646,\n",
       "        82.26593137,  81.85083532,  81.52238806,  83.25782093,\n",
       "        82.91897655,  83.73855544,  85.88418933,  86.73838384,\n",
       "        87.22052846,  87.63296703,  89.63856813,  89.06394708,\n",
       "        89.60551559,  90.38719068,  89.61014493,  90.20663265,\n",
       "        90.26564345,  90.59194777,  91.48095238,  91.88568935,\n",
       "        92.39370748,  92.83817427,  93.00321027,  94.50657386,\n",
       "        94.32639885,  93.4985755 ,  92.72005125,  93.52200868,\n",
       "        94.49937186,  97.27020358,  94.84479718,  95.74120879,\n",
       "        95.9238927 ,  98.23103448,  97.85435268,  97.09619565,\n",
       "       101.52128713,  99.09737319,  98.20802762,  96.63133641,\n",
       "        99.66666667, 100.09090909, 103.97878086, 104.06048704,\n",
       "       102.67215138, 104.76747967, 105.97644711, 115.23085847,\n",
       "       107.41827448, 111.47783784, 108.03630363, 108.87152411,\n",
       "       108.91591068, 107.73955857, 110.80942481, 107.36075743,\n",
       "       107.54059098, 106.64839204, 107.43326489, 105.22756982,\n",
       "       107.51730532, 107.3132005 , 108.52513966, 107.27997547,\n",
       "       108.11859838, 110.56951474, 107.71637591, 110.86058614,\n",
       "       107.08772392, 126.31523379, 110.19290051, 122.72074411,\n",
       "       113.46736551, 112.97741126, 111.07465392, 113.1012206 ,\n",
       "       110.39272986, 110.25751073, 109.44829343, 109.47137781,\n",
       "       118.10764468, 109.58382969, 108.97984733, 110.22397994,\n",
       "       110.12404022, 108.96777011, 113.2742703 , 114.18436859,\n",
       "       115.46680663, 122.13995673, 124.56182357, 126.56186738,\n",
       "       123.30578187, 114.74294182])"
      ]
     },
     "execution_count": 12,
     "metadata": {},
     "output_type": "execute_result"
    }
   ],
   "execution_count": 12
  },
  {
   "metadata": {
    "ExecuteTime": {
     "end_time": "2024-12-26T15:21:46.441928Z",
     "start_time": "2024-12-26T15:21:45.889174Z"
    }
   },
   "cell_type": "code",
   "source": [
    "fig = px.scatter(\n",
    "    average_length,\n",
    "    x=\"year\",\n",
    "    y=\"length\",\n",
    "    animation_frame=\"year\",\n",
    "    title=\"Evoluzione della lunghezza dei film negli anni\",\n",
    "    labels={'year': 'Anno', 'length': 'Durata (minuti)'},\n",
    "    range_x=[1899, 2024],\n",
    "    range_y=[60, 160]\n",
    ")\n",
    "\n",
    "# Modifica del tracciato per includere linea e marker\n",
    "fig.update_traces(mode=\"lines+markers\", marker=dict(size=15, color='blue'))\n",
    "\n",
    "# Configurazione del layout\n",
    "fig.update_layout(\n",
    "    xaxis=dict(title=\"Anno\"),\n",
    "    yaxis=dict(title=\"Durata (minuti)\"),\n",
    "    showlegend=False\n",
    ")\n",
    "fig.add_trace(\n",
    "    go.Scatter(\n",
    "        x=average_length['year'],\n",
    "        y=average_length['length'],\n",
    "        mode='lines',\n",
    "        line=dict(color='gray', width=2),\n",
    "        showlegend=False\n",
    "    )\n",
    ")\n",
    "\n",
    "fig.show()"
   ],
   "id": "89c92ed4356bcf5e",
   "outputs": [
    {
     "data": {
      "application/vnd.plotly.v1+json": {
       "data": [
        {
         "hovertemplate": "Anno=%{x}<br>Durata (minuti)=%{y}<extra></extra>",
         "legendgroup": "",
         "marker": {
          "color": "blue",
          "symbol": "circle",
          "size": 15
         },
         "mode": "lines+markers",
         "name": "",
         "orientation": "v",
         "showlegend": false,
         "x": [
          1899
         ],
         "xaxis": "x",
         "y": [
          135.0
         ],
         "yaxis": "y",
         "type": "scatter"
        },
        {
         "line": {
          "color": "gray",
          "width": 2
         },
         "mode": "lines",
         "showlegend": false,
         "x": [
          1899,
          1900,
          1903,
          1904,
          1906,
          1907,
          1908,
          1910,
          1911,
          1912,
          1913,
          1914,
          1915,
          1916,
          1917,
          1918,
          1919,
          1920,
          1921,
          1922,
          1923,
          1924,
          1925,
          1926,
          1927,
          1928,
          1929,
          1930,
          1931,
          1932,
          1933,
          1934,
          1935,
          1936,
          1937,
          1938,
          1939,
          1940,
          1941,
          1942,
          1943,
          1944,
          1945,
          1946,
          1947,
          1948,
          1949,
          1950,
          1951,
          1952,
          1953,
          1954,
          1955,
          1956,
          1957,
          1958,
          1959,
          1960,
          1961,
          1962,
          1963,
          1964,
          1965,
          1966,
          1967,
          1968,
          1969,
          1970,
          1971,
          1972,
          1973,
          1974,
          1975,
          1976,
          1977,
          1978,
          1979,
          1980,
          1981,
          1982,
          1983,
          1984,
          1985,
          1986,
          1987,
          1988,
          1989,
          1990,
          1991,
          1992,
          1993,
          1994,
          1995,
          1996,
          1997,
          1998,
          1999,
          2000,
          2001,
          2002,
          2003,
          2004,
          2005,
          2006,
          2007,
          2008,
          2009,
          2010,
          2011,
          2012,
          2013,
          2014,
          2015,
          2016,
          2017,
          2018,
          2019,
          2020,
          2021,
          2022,
          2023,
          2024
         ],
         "y": [
          135.0,
          79.0,
          120.0,
          70.0,
          87.5,
          155.0,
          135.5,
          85.6,
          87.6,
          94.15384615384616,
          98.16,
          113.02702702702703,
          110.475,
          105.3953488372093,
          96.72560975609755,
          96.05590062111801,
          94.15300546448087,
          92.46190476190476,
          92.24663677130044,
          92.18518518518519,
          90.70671378091873,
          86.14939024390245,
          86.96378830083566,
          85.17937219730942,
          88.3082191780822,
          89.322,
          86.12100840336134,
          82.57461645746164,
          82.26593137254902,
          81.8508353221957,
          81.5223880597015,
          83.25782092772384,
          82.91897654584221,
          83.7385554425229,
          85.88418932527694,
          86.73838383838384,
          87.22052845528455,
          87.63296703296703,
          89.63856812933025,
          89.06394707828004,
          89.60551558752998,
          90.38719068413391,
          89.61014492753623,
          90.20663265306122,
          90.26564344746163,
          90.59194776931447,
          91.48095238095237,
          91.88568935427574,
          92.3937074829932,
          92.83817427385893,
          93.00321027287319,
          94.50657385924207,
          94.32639885222382,
          93.4985754985755,
          92.72005124919923,
          93.52200867947923,
          94.49937185929649,
          97.27020357803825,
          94.8447971781305,
          95.74120879120879,
          95.92389270118528,
          98.23103448275862,
          97.85435267857143,
          97.09619565217392,
          101.52128712871287,
          99.0973731884058,
          98.2080276219249,
          96.63133640552995,
          99.66666666666667,
          100.0909090909091,
          103.97878086419753,
          104.06048703849176,
          102.67215137803373,
          104.76747967479675,
          105.97644710578842,
          115.2308584686775,
          107.41827448125227,
          111.47783783783784,
          108.03630363036304,
          108.87152411122844,
          108.9159106769016,
          107.73955857385398,
          110.80942480942481,
          107.36075742735879,
          107.54059097978227,
          106.64839203675345,
          107.43326488706366,
          105.22756981580511,
          107.51730531520396,
          107.313200498132,
          108.52513966480447,
          107.27997546764796,
          108.11859838274933,
          110.56951473652873,
          107.71637591446257,
          110.86058614078334,
          107.0877239199157,
          126.31523378582202,
          110.19290051377861,
          122.72074410555916,
          113.46736550632912,
          112.9774112585156,
          111.07465392221489,
          113.10122060136945,
          110.39272986457591,
          110.25751072961373,
          109.44829342842588,
          109.47137781287012,
          118.10764467730412,
          109.5838296933598,
          108.97984732824428,
          110.22397993633645,
          110.12404021937843,
          108.96777011092672,
          113.27427030456853,
          114.18436858511366,
          115.46680663143415,
          122.13995673156931,
          124.56182357301705,
          126.56186738277215,
          123.30578186596584,
          114.74294181874903
         ],
         "type": "scatter"
        }
       ],
       "layout": {
        "template": {
         "data": {
          "histogram2dcontour": [
           {
            "type": "histogram2dcontour",
            "colorbar": {
             "outlinewidth": 0,
             "ticks": ""
            },
            "colorscale": [
             [
              0.0,
              "#0d0887"
             ],
             [
              0.1111111111111111,
              "#46039f"
             ],
             [
              0.2222222222222222,
              "#7201a8"
             ],
             [
              0.3333333333333333,
              "#9c179e"
             ],
             [
              0.4444444444444444,
              "#bd3786"
             ],
             [
              0.5555555555555556,
              "#d8576b"
             ],
             [
              0.6666666666666666,
              "#ed7953"
             ],
             [
              0.7777777777777778,
              "#fb9f3a"
             ],
             [
              0.8888888888888888,
              "#fdca26"
             ],
             [
              1.0,
              "#f0f921"
             ]
            ]
           }
          ],
          "choropleth": [
           {
            "type": "choropleth",
            "colorbar": {
             "outlinewidth": 0,
             "ticks": ""
            }
           }
          ],
          "histogram2d": [
           {
            "type": "histogram2d",
            "colorbar": {
             "outlinewidth": 0,
             "ticks": ""
            },
            "colorscale": [
             [
              0.0,
              "#0d0887"
             ],
             [
              0.1111111111111111,
              "#46039f"
             ],
             [
              0.2222222222222222,
              "#7201a8"
             ],
             [
              0.3333333333333333,
              "#9c179e"
             ],
             [
              0.4444444444444444,
              "#bd3786"
             ],
             [
              0.5555555555555556,
              "#d8576b"
             ],
             [
              0.6666666666666666,
              "#ed7953"
             ],
             [
              0.7777777777777778,
              "#fb9f3a"
             ],
             [
              0.8888888888888888,
              "#fdca26"
             ],
             [
              1.0,
              "#f0f921"
             ]
            ]
           }
          ],
          "heatmap": [
           {
            "type": "heatmap",
            "colorbar": {
             "outlinewidth": 0,
             "ticks": ""
            },
            "colorscale": [
             [
              0.0,
              "#0d0887"
             ],
             [
              0.1111111111111111,
              "#46039f"
             ],
             [
              0.2222222222222222,
              "#7201a8"
             ],
             [
              0.3333333333333333,
              "#9c179e"
             ],
             [
              0.4444444444444444,
              "#bd3786"
             ],
             [
              0.5555555555555556,
              "#d8576b"
             ],
             [
              0.6666666666666666,
              "#ed7953"
             ],
             [
              0.7777777777777778,
              "#fb9f3a"
             ],
             [
              0.8888888888888888,
              "#fdca26"
             ],
             [
              1.0,
              "#f0f921"
             ]
            ]
           }
          ],
          "heatmapgl": [
           {
            "type": "heatmapgl",
            "colorbar": {
             "outlinewidth": 0,
             "ticks": ""
            },
            "colorscale": [
             [
              0.0,
              "#0d0887"
             ],
             [
              0.1111111111111111,
              "#46039f"
             ],
             [
              0.2222222222222222,
              "#7201a8"
             ],
             [
              0.3333333333333333,
              "#9c179e"
             ],
             [
              0.4444444444444444,
              "#bd3786"
             ],
             [
              0.5555555555555556,
              "#d8576b"
             ],
             [
              0.6666666666666666,
              "#ed7953"
             ],
             [
              0.7777777777777778,
              "#fb9f3a"
             ],
             [
              0.8888888888888888,
              "#fdca26"
             ],
             [
              1.0,
              "#f0f921"
             ]
            ]
           }
          ],
          "contourcarpet": [
           {
            "type": "contourcarpet",
            "colorbar": {
             "outlinewidth": 0,
             "ticks": ""
            }
           }
          ],
          "contour": [
           {
            "type": "contour",
            "colorbar": {
             "outlinewidth": 0,
             "ticks": ""
            },
            "colorscale": [
             [
              0.0,
              "#0d0887"
             ],
             [
              0.1111111111111111,
              "#46039f"
             ],
             [
              0.2222222222222222,
              "#7201a8"
             ],
             [
              0.3333333333333333,
              "#9c179e"
             ],
             [
              0.4444444444444444,
              "#bd3786"
             ],
             [
              0.5555555555555556,
              "#d8576b"
             ],
             [
              0.6666666666666666,
              "#ed7953"
             ],
             [
              0.7777777777777778,
              "#fb9f3a"
             ],
             [
              0.8888888888888888,
              "#fdca26"
             ],
             [
              1.0,
              "#f0f921"
             ]
            ]
           }
          ],
          "surface": [
           {
            "type": "surface",
            "colorbar": {
             "outlinewidth": 0,
             "ticks": ""
            },
            "colorscale": [
             [
              0.0,
              "#0d0887"
             ],
             [
              0.1111111111111111,
              "#46039f"
             ],
             [
              0.2222222222222222,
              "#7201a8"
             ],
             [
              0.3333333333333333,
              "#9c179e"
             ],
             [
              0.4444444444444444,
              "#bd3786"
             ],
             [
              0.5555555555555556,
              "#d8576b"
             ],
             [
              0.6666666666666666,
              "#ed7953"
             ],
             [
              0.7777777777777778,
              "#fb9f3a"
             ],
             [
              0.8888888888888888,
              "#fdca26"
             ],
             [
              1.0,
              "#f0f921"
             ]
            ]
           }
          ],
          "mesh3d": [
           {
            "type": "mesh3d",
            "colorbar": {
             "outlinewidth": 0,
             "ticks": ""
            }
           }
          ],
          "scatter": [
           {
            "marker": {
             "line": {
              "color": "#283442"
             }
            },
            "type": "scatter"
           }
          ],
          "parcoords": [
           {
            "type": "parcoords",
            "line": {
             "colorbar": {
              "outlinewidth": 0,
              "ticks": ""
             }
            }
           }
          ],
          "scatterpolargl": [
           {
            "type": "scatterpolargl",
            "marker": {
             "colorbar": {
              "outlinewidth": 0,
              "ticks": ""
             }
            }
           }
          ],
          "bar": [
           {
            "error_x": {
             "color": "#f2f5fa"
            },
            "error_y": {
             "color": "#f2f5fa"
            },
            "marker": {
             "line": {
              "color": "rgb(17,17,17)",
              "width": 0.5
             },
             "pattern": {
              "fillmode": "overlay",
              "size": 10,
              "solidity": 0.2
             }
            },
            "type": "bar"
           }
          ],
          "scattergeo": [
           {
            "type": "scattergeo",
            "marker": {
             "colorbar": {
              "outlinewidth": 0,
              "ticks": ""
             }
            }
           }
          ],
          "scatterpolar": [
           {
            "type": "scatterpolar",
            "marker": {
             "colorbar": {
              "outlinewidth": 0,
              "ticks": ""
             }
            }
           }
          ],
          "histogram": [
           {
            "marker": {
             "pattern": {
              "fillmode": "overlay",
              "size": 10,
              "solidity": 0.2
             }
            },
            "type": "histogram"
           }
          ],
          "scattergl": [
           {
            "marker": {
             "line": {
              "color": "#283442"
             }
            },
            "type": "scattergl"
           }
          ],
          "scatter3d": [
           {
            "type": "scatter3d",
            "line": {
             "colorbar": {
              "outlinewidth": 0,
              "ticks": ""
             }
            },
            "marker": {
             "colorbar": {
              "outlinewidth": 0,
              "ticks": ""
             }
            }
           }
          ],
          "scattermapbox": [
           {
            "type": "scattermapbox",
            "marker": {
             "colorbar": {
              "outlinewidth": 0,
              "ticks": ""
             }
            }
           }
          ],
          "scatterternary": [
           {
            "type": "scatterternary",
            "marker": {
             "colorbar": {
              "outlinewidth": 0,
              "ticks": ""
             }
            }
           }
          ],
          "scattercarpet": [
           {
            "type": "scattercarpet",
            "marker": {
             "colorbar": {
              "outlinewidth": 0,
              "ticks": ""
             }
            }
           }
          ],
          "carpet": [
           {
            "aaxis": {
             "endlinecolor": "#A2B1C6",
             "gridcolor": "#506784",
             "linecolor": "#506784",
             "minorgridcolor": "#506784",
             "startlinecolor": "#A2B1C6"
            },
            "baxis": {
             "endlinecolor": "#A2B1C6",
             "gridcolor": "#506784",
             "linecolor": "#506784",
             "minorgridcolor": "#506784",
             "startlinecolor": "#A2B1C6"
            },
            "type": "carpet"
           }
          ],
          "table": [
           {
            "cells": {
             "fill": {
              "color": "#506784"
             },
             "line": {
              "color": "rgb(17,17,17)"
             }
            },
            "header": {
             "fill": {
              "color": "#2a3f5f"
             },
             "line": {
              "color": "rgb(17,17,17)"
             }
            },
            "type": "table"
           }
          ],
          "barpolar": [
           {
            "marker": {
             "line": {
              "color": "rgb(17,17,17)",
              "width": 0.5
             },
             "pattern": {
              "fillmode": "overlay",
              "size": 10,
              "solidity": 0.2
             }
            },
            "type": "barpolar"
           }
          ],
          "pie": [
           {
            "automargin": true,
            "type": "pie"
           }
          ]
         },
         "layout": {
          "autotypenumbers": "strict",
          "colorway": [
           "#636efa",
           "#EF553B",
           "#00cc96",
           "#ab63fa",
           "#FFA15A",
           "#19d3f3",
           "#FF6692",
           "#B6E880",
           "#FF97FF",
           "#FECB52"
          ],
          "font": {
           "color": "#f2f5fa"
          },
          "hovermode": "closest",
          "hoverlabel": {
           "align": "left"
          },
          "paper_bgcolor": "rgb(17,17,17)",
          "plot_bgcolor": "rgb(17,17,17)",
          "polar": {
           "bgcolor": "rgb(17,17,17)",
           "angularaxis": {
            "gridcolor": "#506784",
            "linecolor": "#506784",
            "ticks": ""
           },
           "radialaxis": {
            "gridcolor": "#506784",
            "linecolor": "#506784",
            "ticks": ""
           }
          },
          "ternary": {
           "bgcolor": "rgb(17,17,17)",
           "aaxis": {
            "gridcolor": "#506784",
            "linecolor": "#506784",
            "ticks": ""
           },
           "baxis": {
            "gridcolor": "#506784",
            "linecolor": "#506784",
            "ticks": ""
           },
           "caxis": {
            "gridcolor": "#506784",
            "linecolor": "#506784",
            "ticks": ""
           }
          },
          "coloraxis": {
           "colorbar": {
            "outlinewidth": 0,
            "ticks": ""
           }
          },
          "colorscale": {
           "sequential": [
            [
             0.0,
             "#0d0887"
            ],
            [
             0.1111111111111111,
             "#46039f"
            ],
            [
             0.2222222222222222,
             "#7201a8"
            ],
            [
             0.3333333333333333,
             "#9c179e"
            ],
            [
             0.4444444444444444,
             "#bd3786"
            ],
            [
             0.5555555555555556,
             "#d8576b"
            ],
            [
             0.6666666666666666,
             "#ed7953"
            ],
            [
             0.7777777777777778,
             "#fb9f3a"
            ],
            [
             0.8888888888888888,
             "#fdca26"
            ],
            [
             1.0,
             "#f0f921"
            ]
           ],
           "sequentialminus": [
            [
             0.0,
             "#0d0887"
            ],
            [
             0.1111111111111111,
             "#46039f"
            ],
            [
             0.2222222222222222,
             "#7201a8"
            ],
            [
             0.3333333333333333,
             "#9c179e"
            ],
            [
             0.4444444444444444,
             "#bd3786"
            ],
            [
             0.5555555555555556,
             "#d8576b"
            ],
            [
             0.6666666666666666,
             "#ed7953"
            ],
            [
             0.7777777777777778,
             "#fb9f3a"
            ],
            [
             0.8888888888888888,
             "#fdca26"
            ],
            [
             1.0,
             "#f0f921"
            ]
           ],
           "diverging": [
            [
             0,
             "#8e0152"
            ],
            [
             0.1,
             "#c51b7d"
            ],
            [
             0.2,
             "#de77ae"
            ],
            [
             0.3,
             "#f1b6da"
            ],
            [
             0.4,
             "#fde0ef"
            ],
            [
             0.5,
             "#f7f7f7"
            ],
            [
             0.6,
             "#e6f5d0"
            ],
            [
             0.7,
             "#b8e186"
            ],
            [
             0.8,
             "#7fbc41"
            ],
            [
             0.9,
             "#4d9221"
            ],
            [
             1,
             "#276419"
            ]
           ]
          },
          "xaxis": {
           "gridcolor": "#283442",
           "linecolor": "#506784",
           "ticks": "",
           "title": {
            "standoff": 15
           },
           "zerolinecolor": "#283442",
           "automargin": true,
           "zerolinewidth": 2
          },
          "yaxis": {
           "gridcolor": "#283442",
           "linecolor": "#506784",
           "ticks": "",
           "title": {
            "standoff": 15
           },
           "zerolinecolor": "#283442",
           "automargin": true,
           "zerolinewidth": 2
          },
          "scene": {
           "xaxis": {
            "backgroundcolor": "rgb(17,17,17)",
            "gridcolor": "#506784",
            "linecolor": "#506784",
            "showbackground": true,
            "ticks": "",
            "zerolinecolor": "#C8D4E3",
            "gridwidth": 2
           },
           "yaxis": {
            "backgroundcolor": "rgb(17,17,17)",
            "gridcolor": "#506784",
            "linecolor": "#506784",
            "showbackground": true,
            "ticks": "",
            "zerolinecolor": "#C8D4E3",
            "gridwidth": 2
           },
           "zaxis": {
            "backgroundcolor": "rgb(17,17,17)",
            "gridcolor": "#506784",
            "linecolor": "#506784",
            "showbackground": true,
            "ticks": "",
            "zerolinecolor": "#C8D4E3",
            "gridwidth": 2
           }
          },
          "shapedefaults": {
           "line": {
            "color": "#f2f5fa"
           }
          },
          "annotationdefaults": {
           "arrowcolor": "#f2f5fa",
           "arrowhead": 0,
           "arrowwidth": 1
          },
          "geo": {
           "bgcolor": "rgb(17,17,17)",
           "landcolor": "rgb(17,17,17)",
           "subunitcolor": "#506784",
           "showland": true,
           "showlakes": true,
           "lakecolor": "rgb(17,17,17)"
          },
          "title": {
           "x": 0.05
          },
          "updatemenudefaults": {
           "bgcolor": "#506784",
           "borderwidth": 0
          },
          "sliderdefaults": {
           "bgcolor": "#C8D4E3",
           "borderwidth": 1,
           "bordercolor": "rgb(17,17,17)",
           "tickwidth": 0
          },
          "mapbox": {
           "style": "dark"
          }
         }
        },
        "xaxis": {
         "anchor": "y",
         "domain": [
          0.0,
          1.0
         ],
         "title": {
          "text": "Anno"
         },
         "range": [
          1899,
          2024
         ],
         "categoryorder": "array",
         "categoryarray": [
          1899,
          1900,
          1903,
          1904,
          1906,
          1907,
          1908,
          1910,
          1911,
          1912,
          1913,
          1914,
          1915,
          1916,
          1917,
          1918,
          1919,
          1920,
          1921,
          1922,
          1923,
          1924,
          1925,
          1926,
          1927,
          1928,
          1929,
          1930,
          1931,
          1932,
          1933,
          1934,
          1935,
          1936,
          1937,
          1938,
          1939,
          1940,
          1941,
          1942,
          1943,
          1944,
          1945,
          1946,
          1947,
          1948,
          1949,
          1950,
          1951,
          1952,
          1953,
          1954,
          1955,
          1956,
          1957,
          1958,
          1959,
          1960,
          1961,
          1962,
          1963,
          1964,
          1965,
          1966,
          1967,
          1968,
          1969,
          1970,
          1971,
          1972,
          1973,
          1974,
          1975,
          1976,
          1977,
          1978,
          1979,
          1980,
          1981,
          1982,
          1983,
          1984,
          1985,
          1986,
          1987,
          1988,
          1989,
          1990,
          1991,
          1992,
          1993,
          1994,
          1995,
          1996,
          1997,
          1998,
          1999,
          2000,
          2001,
          2002,
          2003,
          2004,
          2005,
          2006,
          2007,
          2008,
          2009,
          2010,
          2011,
          2012,
          2013,
          2014,
          2015,
          2016,
          2017,
          2018,
          2019,
          2020,
          2021,
          2022,
          2023,
          2024
         ]
        },
        "yaxis": {
         "anchor": "x",
         "domain": [
          0.0,
          1.0
         ],
         "title": {
          "text": "Durata (minuti)"
         },
         "range": [
          60,
          160
         ]
        },
        "legend": {
         "tracegroupgap": 0
        },
        "title": {
         "text": "Evoluzione della lunghezza dei film negli anni"
        },
        "updatemenus": [
         {
          "buttons": [
           {
            "args": [
             null,
             {
              "frame": {
               "duration": 500,
               "redraw": false
              },
              "mode": "immediate",
              "fromcurrent": true,
              "transition": {
               "duration": 500,
               "easing": "linear"
              }
             }
            ],
            "label": "&#9654;",
            "method": "animate"
           },
           {
            "args": [
             [
              null
             ],
             {
              "frame": {
               "duration": 0,
               "redraw": false
              },
              "mode": "immediate",
              "fromcurrent": true,
              "transition": {
               "duration": 0,
               "easing": "linear"
              }
             }
            ],
            "label": "&#9724;",
            "method": "animate"
           }
          ],
          "direction": "left",
          "pad": {
           "r": 10,
           "t": 70
          },
          "showactive": false,
          "type": "buttons",
          "x": 0.1,
          "xanchor": "right",
          "y": 0,
          "yanchor": "top"
         }
        ],
        "sliders": [
         {
          "active": 0,
          "currentvalue": {
           "prefix": "Anno="
          },
          "len": 0.9,
          "pad": {
           "b": 10,
           "t": 60
          },
          "steps": [
           {
            "args": [
             [
              "1899"
             ],
             {
              "frame": {
               "duration": 0,
               "redraw": false
              },
              "mode": "immediate",
              "fromcurrent": true,
              "transition": {
               "duration": 0,
               "easing": "linear"
              }
             }
            ],
            "label": "1899",
            "method": "animate"
           },
           {
            "args": [
             [
              "1900"
             ],
             {
              "frame": {
               "duration": 0,
               "redraw": false
              },
              "mode": "immediate",
              "fromcurrent": true,
              "transition": {
               "duration": 0,
               "easing": "linear"
              }
             }
            ],
            "label": "1900",
            "method": "animate"
           },
           {
            "args": [
             [
              "1903"
             ],
             {
              "frame": {
               "duration": 0,
               "redraw": false
              },
              "mode": "immediate",
              "fromcurrent": true,
              "transition": {
               "duration": 0,
               "easing": "linear"
              }
             }
            ],
            "label": "1903",
            "method": "animate"
           },
           {
            "args": [
             [
              "1904"
             ],
             {
              "frame": {
               "duration": 0,
               "redraw": false
              },
              "mode": "immediate",
              "fromcurrent": true,
              "transition": {
               "duration": 0,
               "easing": "linear"
              }
             }
            ],
            "label": "1904",
            "method": "animate"
           },
           {
            "args": [
             [
              "1906"
             ],
             {
              "frame": {
               "duration": 0,
               "redraw": false
              },
              "mode": "immediate",
              "fromcurrent": true,
              "transition": {
               "duration": 0,
               "easing": "linear"
              }
             }
            ],
            "label": "1906",
            "method": "animate"
           },
           {
            "args": [
             [
              "1907"
             ],
             {
              "frame": {
               "duration": 0,
               "redraw": false
              },
              "mode": "immediate",
              "fromcurrent": true,
              "transition": {
               "duration": 0,
               "easing": "linear"
              }
             }
            ],
            "label": "1907",
            "method": "animate"
           },
           {
            "args": [
             [
              "1908"
             ],
             {
              "frame": {
               "duration": 0,
               "redraw": false
              },
              "mode": "immediate",
              "fromcurrent": true,
              "transition": {
               "duration": 0,
               "easing": "linear"
              }
             }
            ],
            "label": "1908",
            "method": "animate"
           },
           {
            "args": [
             [
              "1910"
             ],
             {
              "frame": {
               "duration": 0,
               "redraw": false
              },
              "mode": "immediate",
              "fromcurrent": true,
              "transition": {
               "duration": 0,
               "easing": "linear"
              }
             }
            ],
            "label": "1910",
            "method": "animate"
           },
           {
            "args": [
             [
              "1911"
             ],
             {
              "frame": {
               "duration": 0,
               "redraw": false
              },
              "mode": "immediate",
              "fromcurrent": true,
              "transition": {
               "duration": 0,
               "easing": "linear"
              }
             }
            ],
            "label": "1911",
            "method": "animate"
           },
           {
            "args": [
             [
              "1912"
             ],
             {
              "frame": {
               "duration": 0,
               "redraw": false
              },
              "mode": "immediate",
              "fromcurrent": true,
              "transition": {
               "duration": 0,
               "easing": "linear"
              }
             }
            ],
            "label": "1912",
            "method": "animate"
           },
           {
            "args": [
             [
              "1913"
             ],
             {
              "frame": {
               "duration": 0,
               "redraw": false
              },
              "mode": "immediate",
              "fromcurrent": true,
              "transition": {
               "duration": 0,
               "easing": "linear"
              }
             }
            ],
            "label": "1913",
            "method": "animate"
           },
           {
            "args": [
             [
              "1914"
             ],
             {
              "frame": {
               "duration": 0,
               "redraw": false
              },
              "mode": "immediate",
              "fromcurrent": true,
              "transition": {
               "duration": 0,
               "easing": "linear"
              }
             }
            ],
            "label": "1914",
            "method": "animate"
           },
           {
            "args": [
             [
              "1915"
             ],
             {
              "frame": {
               "duration": 0,
               "redraw": false
              },
              "mode": "immediate",
              "fromcurrent": true,
              "transition": {
               "duration": 0,
               "easing": "linear"
              }
             }
            ],
            "label": "1915",
            "method": "animate"
           },
           {
            "args": [
             [
              "1916"
             ],
             {
              "frame": {
               "duration": 0,
               "redraw": false
              },
              "mode": "immediate",
              "fromcurrent": true,
              "transition": {
               "duration": 0,
               "easing": "linear"
              }
             }
            ],
            "label": "1916",
            "method": "animate"
           },
           {
            "args": [
             [
              "1917"
             ],
             {
              "frame": {
               "duration": 0,
               "redraw": false
              },
              "mode": "immediate",
              "fromcurrent": true,
              "transition": {
               "duration": 0,
               "easing": "linear"
              }
             }
            ],
            "label": "1917",
            "method": "animate"
           },
           {
            "args": [
             [
              "1918"
             ],
             {
              "frame": {
               "duration": 0,
               "redraw": false
              },
              "mode": "immediate",
              "fromcurrent": true,
              "transition": {
               "duration": 0,
               "easing": "linear"
              }
             }
            ],
            "label": "1918",
            "method": "animate"
           },
           {
            "args": [
             [
              "1919"
             ],
             {
              "frame": {
               "duration": 0,
               "redraw": false
              },
              "mode": "immediate",
              "fromcurrent": true,
              "transition": {
               "duration": 0,
               "easing": "linear"
              }
             }
            ],
            "label": "1919",
            "method": "animate"
           },
           {
            "args": [
             [
              "1920"
             ],
             {
              "frame": {
               "duration": 0,
               "redraw": false
              },
              "mode": "immediate",
              "fromcurrent": true,
              "transition": {
               "duration": 0,
               "easing": "linear"
              }
             }
            ],
            "label": "1920",
            "method": "animate"
           },
           {
            "args": [
             [
              "1921"
             ],
             {
              "frame": {
               "duration": 0,
               "redraw": false
              },
              "mode": "immediate",
              "fromcurrent": true,
              "transition": {
               "duration": 0,
               "easing": "linear"
              }
             }
            ],
            "label": "1921",
            "method": "animate"
           },
           {
            "args": [
             [
              "1922"
             ],
             {
              "frame": {
               "duration": 0,
               "redraw": false
              },
              "mode": "immediate",
              "fromcurrent": true,
              "transition": {
               "duration": 0,
               "easing": "linear"
              }
             }
            ],
            "label": "1922",
            "method": "animate"
           },
           {
            "args": [
             [
              "1923"
             ],
             {
              "frame": {
               "duration": 0,
               "redraw": false
              },
              "mode": "immediate",
              "fromcurrent": true,
              "transition": {
               "duration": 0,
               "easing": "linear"
              }
             }
            ],
            "label": "1923",
            "method": "animate"
           },
           {
            "args": [
             [
              "1924"
             ],
             {
              "frame": {
               "duration": 0,
               "redraw": false
              },
              "mode": "immediate",
              "fromcurrent": true,
              "transition": {
               "duration": 0,
               "easing": "linear"
              }
             }
            ],
            "label": "1924",
            "method": "animate"
           },
           {
            "args": [
             [
              "1925"
             ],
             {
              "frame": {
               "duration": 0,
               "redraw": false
              },
              "mode": "immediate",
              "fromcurrent": true,
              "transition": {
               "duration": 0,
               "easing": "linear"
              }
             }
            ],
            "label": "1925",
            "method": "animate"
           },
           {
            "args": [
             [
              "1926"
             ],
             {
              "frame": {
               "duration": 0,
               "redraw": false
              },
              "mode": "immediate",
              "fromcurrent": true,
              "transition": {
               "duration": 0,
               "easing": "linear"
              }
             }
            ],
            "label": "1926",
            "method": "animate"
           },
           {
            "args": [
             [
              "1927"
             ],
             {
              "frame": {
               "duration": 0,
               "redraw": false
              },
              "mode": "immediate",
              "fromcurrent": true,
              "transition": {
               "duration": 0,
               "easing": "linear"
              }
             }
            ],
            "label": "1927",
            "method": "animate"
           },
           {
            "args": [
             [
              "1928"
             ],
             {
              "frame": {
               "duration": 0,
               "redraw": false
              },
              "mode": "immediate",
              "fromcurrent": true,
              "transition": {
               "duration": 0,
               "easing": "linear"
              }
             }
            ],
            "label": "1928",
            "method": "animate"
           },
           {
            "args": [
             [
              "1929"
             ],
             {
              "frame": {
               "duration": 0,
               "redraw": false
              },
              "mode": "immediate",
              "fromcurrent": true,
              "transition": {
               "duration": 0,
               "easing": "linear"
              }
             }
            ],
            "label": "1929",
            "method": "animate"
           },
           {
            "args": [
             [
              "1930"
             ],
             {
              "frame": {
               "duration": 0,
               "redraw": false
              },
              "mode": "immediate",
              "fromcurrent": true,
              "transition": {
               "duration": 0,
               "easing": "linear"
              }
             }
            ],
            "label": "1930",
            "method": "animate"
           },
           {
            "args": [
             [
              "1931"
             ],
             {
              "frame": {
               "duration": 0,
               "redraw": false
              },
              "mode": "immediate",
              "fromcurrent": true,
              "transition": {
               "duration": 0,
               "easing": "linear"
              }
             }
            ],
            "label": "1931",
            "method": "animate"
           },
           {
            "args": [
             [
              "1932"
             ],
             {
              "frame": {
               "duration": 0,
               "redraw": false
              },
              "mode": "immediate",
              "fromcurrent": true,
              "transition": {
               "duration": 0,
               "easing": "linear"
              }
             }
            ],
            "label": "1932",
            "method": "animate"
           },
           {
            "args": [
             [
              "1933"
             ],
             {
              "frame": {
               "duration": 0,
               "redraw": false
              },
              "mode": "immediate",
              "fromcurrent": true,
              "transition": {
               "duration": 0,
               "easing": "linear"
              }
             }
            ],
            "label": "1933",
            "method": "animate"
           },
           {
            "args": [
             [
              "1934"
             ],
             {
              "frame": {
               "duration": 0,
               "redraw": false
              },
              "mode": "immediate",
              "fromcurrent": true,
              "transition": {
               "duration": 0,
               "easing": "linear"
              }
             }
            ],
            "label": "1934",
            "method": "animate"
           },
           {
            "args": [
             [
              "1935"
             ],
             {
              "frame": {
               "duration": 0,
               "redraw": false
              },
              "mode": "immediate",
              "fromcurrent": true,
              "transition": {
               "duration": 0,
               "easing": "linear"
              }
             }
            ],
            "label": "1935",
            "method": "animate"
           },
           {
            "args": [
             [
              "1936"
             ],
             {
              "frame": {
               "duration": 0,
               "redraw": false
              },
              "mode": "immediate",
              "fromcurrent": true,
              "transition": {
               "duration": 0,
               "easing": "linear"
              }
             }
            ],
            "label": "1936",
            "method": "animate"
           },
           {
            "args": [
             [
              "1937"
             ],
             {
              "frame": {
               "duration": 0,
               "redraw": false
              },
              "mode": "immediate",
              "fromcurrent": true,
              "transition": {
               "duration": 0,
               "easing": "linear"
              }
             }
            ],
            "label": "1937",
            "method": "animate"
           },
           {
            "args": [
             [
              "1938"
             ],
             {
              "frame": {
               "duration": 0,
               "redraw": false
              },
              "mode": "immediate",
              "fromcurrent": true,
              "transition": {
               "duration": 0,
               "easing": "linear"
              }
             }
            ],
            "label": "1938",
            "method": "animate"
           },
           {
            "args": [
             [
              "1939"
             ],
             {
              "frame": {
               "duration": 0,
               "redraw": false
              },
              "mode": "immediate",
              "fromcurrent": true,
              "transition": {
               "duration": 0,
               "easing": "linear"
              }
             }
            ],
            "label": "1939",
            "method": "animate"
           },
           {
            "args": [
             [
              "1940"
             ],
             {
              "frame": {
               "duration": 0,
               "redraw": false
              },
              "mode": "immediate",
              "fromcurrent": true,
              "transition": {
               "duration": 0,
               "easing": "linear"
              }
             }
            ],
            "label": "1940",
            "method": "animate"
           },
           {
            "args": [
             [
              "1941"
             ],
             {
              "frame": {
               "duration": 0,
               "redraw": false
              },
              "mode": "immediate",
              "fromcurrent": true,
              "transition": {
               "duration": 0,
               "easing": "linear"
              }
             }
            ],
            "label": "1941",
            "method": "animate"
           },
           {
            "args": [
             [
              "1942"
             ],
             {
              "frame": {
               "duration": 0,
               "redraw": false
              },
              "mode": "immediate",
              "fromcurrent": true,
              "transition": {
               "duration": 0,
               "easing": "linear"
              }
             }
            ],
            "label": "1942",
            "method": "animate"
           },
           {
            "args": [
             [
              "1943"
             ],
             {
              "frame": {
               "duration": 0,
               "redraw": false
              },
              "mode": "immediate",
              "fromcurrent": true,
              "transition": {
               "duration": 0,
               "easing": "linear"
              }
             }
            ],
            "label": "1943",
            "method": "animate"
           },
           {
            "args": [
             [
              "1944"
             ],
             {
              "frame": {
               "duration": 0,
               "redraw": false
              },
              "mode": "immediate",
              "fromcurrent": true,
              "transition": {
               "duration": 0,
               "easing": "linear"
              }
             }
            ],
            "label": "1944",
            "method": "animate"
           },
           {
            "args": [
             [
              "1945"
             ],
             {
              "frame": {
               "duration": 0,
               "redraw": false
              },
              "mode": "immediate",
              "fromcurrent": true,
              "transition": {
               "duration": 0,
               "easing": "linear"
              }
             }
            ],
            "label": "1945",
            "method": "animate"
           },
           {
            "args": [
             [
              "1946"
             ],
             {
              "frame": {
               "duration": 0,
               "redraw": false
              },
              "mode": "immediate",
              "fromcurrent": true,
              "transition": {
               "duration": 0,
               "easing": "linear"
              }
             }
            ],
            "label": "1946",
            "method": "animate"
           },
           {
            "args": [
             [
              "1947"
             ],
             {
              "frame": {
               "duration": 0,
               "redraw": false
              },
              "mode": "immediate",
              "fromcurrent": true,
              "transition": {
               "duration": 0,
               "easing": "linear"
              }
             }
            ],
            "label": "1947",
            "method": "animate"
           },
           {
            "args": [
             [
              "1948"
             ],
             {
              "frame": {
               "duration": 0,
               "redraw": false
              },
              "mode": "immediate",
              "fromcurrent": true,
              "transition": {
               "duration": 0,
               "easing": "linear"
              }
             }
            ],
            "label": "1948",
            "method": "animate"
           },
           {
            "args": [
             [
              "1949"
             ],
             {
              "frame": {
               "duration": 0,
               "redraw": false
              },
              "mode": "immediate",
              "fromcurrent": true,
              "transition": {
               "duration": 0,
               "easing": "linear"
              }
             }
            ],
            "label": "1949",
            "method": "animate"
           },
           {
            "args": [
             [
              "1950"
             ],
             {
              "frame": {
               "duration": 0,
               "redraw": false
              },
              "mode": "immediate",
              "fromcurrent": true,
              "transition": {
               "duration": 0,
               "easing": "linear"
              }
             }
            ],
            "label": "1950",
            "method": "animate"
           },
           {
            "args": [
             [
              "1951"
             ],
             {
              "frame": {
               "duration": 0,
               "redraw": false
              },
              "mode": "immediate",
              "fromcurrent": true,
              "transition": {
               "duration": 0,
               "easing": "linear"
              }
             }
            ],
            "label": "1951",
            "method": "animate"
           },
           {
            "args": [
             [
              "1952"
             ],
             {
              "frame": {
               "duration": 0,
               "redraw": false
              },
              "mode": "immediate",
              "fromcurrent": true,
              "transition": {
               "duration": 0,
               "easing": "linear"
              }
             }
            ],
            "label": "1952",
            "method": "animate"
           },
           {
            "args": [
             [
              "1953"
             ],
             {
              "frame": {
               "duration": 0,
               "redraw": false
              },
              "mode": "immediate",
              "fromcurrent": true,
              "transition": {
               "duration": 0,
               "easing": "linear"
              }
             }
            ],
            "label": "1953",
            "method": "animate"
           },
           {
            "args": [
             [
              "1954"
             ],
             {
              "frame": {
               "duration": 0,
               "redraw": false
              },
              "mode": "immediate",
              "fromcurrent": true,
              "transition": {
               "duration": 0,
               "easing": "linear"
              }
             }
            ],
            "label": "1954",
            "method": "animate"
           },
           {
            "args": [
             [
              "1955"
             ],
             {
              "frame": {
               "duration": 0,
               "redraw": false
              },
              "mode": "immediate",
              "fromcurrent": true,
              "transition": {
               "duration": 0,
               "easing": "linear"
              }
             }
            ],
            "label": "1955",
            "method": "animate"
           },
           {
            "args": [
             [
              "1956"
             ],
             {
              "frame": {
               "duration": 0,
               "redraw": false
              },
              "mode": "immediate",
              "fromcurrent": true,
              "transition": {
               "duration": 0,
               "easing": "linear"
              }
             }
            ],
            "label": "1956",
            "method": "animate"
           },
           {
            "args": [
             [
              "1957"
             ],
             {
              "frame": {
               "duration": 0,
               "redraw": false
              },
              "mode": "immediate",
              "fromcurrent": true,
              "transition": {
               "duration": 0,
               "easing": "linear"
              }
             }
            ],
            "label": "1957",
            "method": "animate"
           },
           {
            "args": [
             [
              "1958"
             ],
             {
              "frame": {
               "duration": 0,
               "redraw": false
              },
              "mode": "immediate",
              "fromcurrent": true,
              "transition": {
               "duration": 0,
               "easing": "linear"
              }
             }
            ],
            "label": "1958",
            "method": "animate"
           },
           {
            "args": [
             [
              "1959"
             ],
             {
              "frame": {
               "duration": 0,
               "redraw": false
              },
              "mode": "immediate",
              "fromcurrent": true,
              "transition": {
               "duration": 0,
               "easing": "linear"
              }
             }
            ],
            "label": "1959",
            "method": "animate"
           },
           {
            "args": [
             [
              "1960"
             ],
             {
              "frame": {
               "duration": 0,
               "redraw": false
              },
              "mode": "immediate",
              "fromcurrent": true,
              "transition": {
               "duration": 0,
               "easing": "linear"
              }
             }
            ],
            "label": "1960",
            "method": "animate"
           },
           {
            "args": [
             [
              "1961"
             ],
             {
              "frame": {
               "duration": 0,
               "redraw": false
              },
              "mode": "immediate",
              "fromcurrent": true,
              "transition": {
               "duration": 0,
               "easing": "linear"
              }
             }
            ],
            "label": "1961",
            "method": "animate"
           },
           {
            "args": [
             [
              "1962"
             ],
             {
              "frame": {
               "duration": 0,
               "redraw": false
              },
              "mode": "immediate",
              "fromcurrent": true,
              "transition": {
               "duration": 0,
               "easing": "linear"
              }
             }
            ],
            "label": "1962",
            "method": "animate"
           },
           {
            "args": [
             [
              "1963"
             ],
             {
              "frame": {
               "duration": 0,
               "redraw": false
              },
              "mode": "immediate",
              "fromcurrent": true,
              "transition": {
               "duration": 0,
               "easing": "linear"
              }
             }
            ],
            "label": "1963",
            "method": "animate"
           },
           {
            "args": [
             [
              "1964"
             ],
             {
              "frame": {
               "duration": 0,
               "redraw": false
              },
              "mode": "immediate",
              "fromcurrent": true,
              "transition": {
               "duration": 0,
               "easing": "linear"
              }
             }
            ],
            "label": "1964",
            "method": "animate"
           },
           {
            "args": [
             [
              "1965"
             ],
             {
              "frame": {
               "duration": 0,
               "redraw": false
              },
              "mode": "immediate",
              "fromcurrent": true,
              "transition": {
               "duration": 0,
               "easing": "linear"
              }
             }
            ],
            "label": "1965",
            "method": "animate"
           },
           {
            "args": [
             [
              "1966"
             ],
             {
              "frame": {
               "duration": 0,
               "redraw": false
              },
              "mode": "immediate",
              "fromcurrent": true,
              "transition": {
               "duration": 0,
               "easing": "linear"
              }
             }
            ],
            "label": "1966",
            "method": "animate"
           },
           {
            "args": [
             [
              "1967"
             ],
             {
              "frame": {
               "duration": 0,
               "redraw": false
              },
              "mode": "immediate",
              "fromcurrent": true,
              "transition": {
               "duration": 0,
               "easing": "linear"
              }
             }
            ],
            "label": "1967",
            "method": "animate"
           },
           {
            "args": [
             [
              "1968"
             ],
             {
              "frame": {
               "duration": 0,
               "redraw": false
              },
              "mode": "immediate",
              "fromcurrent": true,
              "transition": {
               "duration": 0,
               "easing": "linear"
              }
             }
            ],
            "label": "1968",
            "method": "animate"
           },
           {
            "args": [
             [
              "1969"
             ],
             {
              "frame": {
               "duration": 0,
               "redraw": false
              },
              "mode": "immediate",
              "fromcurrent": true,
              "transition": {
               "duration": 0,
               "easing": "linear"
              }
             }
            ],
            "label": "1969",
            "method": "animate"
           },
           {
            "args": [
             [
              "1970"
             ],
             {
              "frame": {
               "duration": 0,
               "redraw": false
              },
              "mode": "immediate",
              "fromcurrent": true,
              "transition": {
               "duration": 0,
               "easing": "linear"
              }
             }
            ],
            "label": "1970",
            "method": "animate"
           },
           {
            "args": [
             [
              "1971"
             ],
             {
              "frame": {
               "duration": 0,
               "redraw": false
              },
              "mode": "immediate",
              "fromcurrent": true,
              "transition": {
               "duration": 0,
               "easing": "linear"
              }
             }
            ],
            "label": "1971",
            "method": "animate"
           },
           {
            "args": [
             [
              "1972"
             ],
             {
              "frame": {
               "duration": 0,
               "redraw": false
              },
              "mode": "immediate",
              "fromcurrent": true,
              "transition": {
               "duration": 0,
               "easing": "linear"
              }
             }
            ],
            "label": "1972",
            "method": "animate"
           },
           {
            "args": [
             [
              "1973"
             ],
             {
              "frame": {
               "duration": 0,
               "redraw": false
              },
              "mode": "immediate",
              "fromcurrent": true,
              "transition": {
               "duration": 0,
               "easing": "linear"
              }
             }
            ],
            "label": "1973",
            "method": "animate"
           },
           {
            "args": [
             [
              "1974"
             ],
             {
              "frame": {
               "duration": 0,
               "redraw": false
              },
              "mode": "immediate",
              "fromcurrent": true,
              "transition": {
               "duration": 0,
               "easing": "linear"
              }
             }
            ],
            "label": "1974",
            "method": "animate"
           },
           {
            "args": [
             [
              "1975"
             ],
             {
              "frame": {
               "duration": 0,
               "redraw": false
              },
              "mode": "immediate",
              "fromcurrent": true,
              "transition": {
               "duration": 0,
               "easing": "linear"
              }
             }
            ],
            "label": "1975",
            "method": "animate"
           },
           {
            "args": [
             [
              "1976"
             ],
             {
              "frame": {
               "duration": 0,
               "redraw": false
              },
              "mode": "immediate",
              "fromcurrent": true,
              "transition": {
               "duration": 0,
               "easing": "linear"
              }
             }
            ],
            "label": "1976",
            "method": "animate"
           },
           {
            "args": [
             [
              "1977"
             ],
             {
              "frame": {
               "duration": 0,
               "redraw": false
              },
              "mode": "immediate",
              "fromcurrent": true,
              "transition": {
               "duration": 0,
               "easing": "linear"
              }
             }
            ],
            "label": "1977",
            "method": "animate"
           },
           {
            "args": [
             [
              "1978"
             ],
             {
              "frame": {
               "duration": 0,
               "redraw": false
              },
              "mode": "immediate",
              "fromcurrent": true,
              "transition": {
               "duration": 0,
               "easing": "linear"
              }
             }
            ],
            "label": "1978",
            "method": "animate"
           },
           {
            "args": [
             [
              "1979"
             ],
             {
              "frame": {
               "duration": 0,
               "redraw": false
              },
              "mode": "immediate",
              "fromcurrent": true,
              "transition": {
               "duration": 0,
               "easing": "linear"
              }
             }
            ],
            "label": "1979",
            "method": "animate"
           },
           {
            "args": [
             [
              "1980"
             ],
             {
              "frame": {
               "duration": 0,
               "redraw": false
              },
              "mode": "immediate",
              "fromcurrent": true,
              "transition": {
               "duration": 0,
               "easing": "linear"
              }
             }
            ],
            "label": "1980",
            "method": "animate"
           },
           {
            "args": [
             [
              "1981"
             ],
             {
              "frame": {
               "duration": 0,
               "redraw": false
              },
              "mode": "immediate",
              "fromcurrent": true,
              "transition": {
               "duration": 0,
               "easing": "linear"
              }
             }
            ],
            "label": "1981",
            "method": "animate"
           },
           {
            "args": [
             [
              "1982"
             ],
             {
              "frame": {
               "duration": 0,
               "redraw": false
              },
              "mode": "immediate",
              "fromcurrent": true,
              "transition": {
               "duration": 0,
               "easing": "linear"
              }
             }
            ],
            "label": "1982",
            "method": "animate"
           },
           {
            "args": [
             [
              "1983"
             ],
             {
              "frame": {
               "duration": 0,
               "redraw": false
              },
              "mode": "immediate",
              "fromcurrent": true,
              "transition": {
               "duration": 0,
               "easing": "linear"
              }
             }
            ],
            "label": "1983",
            "method": "animate"
           },
           {
            "args": [
             [
              "1984"
             ],
             {
              "frame": {
               "duration": 0,
               "redraw": false
              },
              "mode": "immediate",
              "fromcurrent": true,
              "transition": {
               "duration": 0,
               "easing": "linear"
              }
             }
            ],
            "label": "1984",
            "method": "animate"
           },
           {
            "args": [
             [
              "1985"
             ],
             {
              "frame": {
               "duration": 0,
               "redraw": false
              },
              "mode": "immediate",
              "fromcurrent": true,
              "transition": {
               "duration": 0,
               "easing": "linear"
              }
             }
            ],
            "label": "1985",
            "method": "animate"
           },
           {
            "args": [
             [
              "1986"
             ],
             {
              "frame": {
               "duration": 0,
               "redraw": false
              },
              "mode": "immediate",
              "fromcurrent": true,
              "transition": {
               "duration": 0,
               "easing": "linear"
              }
             }
            ],
            "label": "1986",
            "method": "animate"
           },
           {
            "args": [
             [
              "1987"
             ],
             {
              "frame": {
               "duration": 0,
               "redraw": false
              },
              "mode": "immediate",
              "fromcurrent": true,
              "transition": {
               "duration": 0,
               "easing": "linear"
              }
             }
            ],
            "label": "1987",
            "method": "animate"
           },
           {
            "args": [
             [
              "1988"
             ],
             {
              "frame": {
               "duration": 0,
               "redraw": false
              },
              "mode": "immediate",
              "fromcurrent": true,
              "transition": {
               "duration": 0,
               "easing": "linear"
              }
             }
            ],
            "label": "1988",
            "method": "animate"
           },
           {
            "args": [
             [
              "1989"
             ],
             {
              "frame": {
               "duration": 0,
               "redraw": false
              },
              "mode": "immediate",
              "fromcurrent": true,
              "transition": {
               "duration": 0,
               "easing": "linear"
              }
             }
            ],
            "label": "1989",
            "method": "animate"
           },
           {
            "args": [
             [
              "1990"
             ],
             {
              "frame": {
               "duration": 0,
               "redraw": false
              },
              "mode": "immediate",
              "fromcurrent": true,
              "transition": {
               "duration": 0,
               "easing": "linear"
              }
             }
            ],
            "label": "1990",
            "method": "animate"
           },
           {
            "args": [
             [
              "1991"
             ],
             {
              "frame": {
               "duration": 0,
               "redraw": false
              },
              "mode": "immediate",
              "fromcurrent": true,
              "transition": {
               "duration": 0,
               "easing": "linear"
              }
             }
            ],
            "label": "1991",
            "method": "animate"
           },
           {
            "args": [
             [
              "1992"
             ],
             {
              "frame": {
               "duration": 0,
               "redraw": false
              },
              "mode": "immediate",
              "fromcurrent": true,
              "transition": {
               "duration": 0,
               "easing": "linear"
              }
             }
            ],
            "label": "1992",
            "method": "animate"
           },
           {
            "args": [
             [
              "1993"
             ],
             {
              "frame": {
               "duration": 0,
               "redraw": false
              },
              "mode": "immediate",
              "fromcurrent": true,
              "transition": {
               "duration": 0,
               "easing": "linear"
              }
             }
            ],
            "label": "1993",
            "method": "animate"
           },
           {
            "args": [
             [
              "1994"
             ],
             {
              "frame": {
               "duration": 0,
               "redraw": false
              },
              "mode": "immediate",
              "fromcurrent": true,
              "transition": {
               "duration": 0,
               "easing": "linear"
              }
             }
            ],
            "label": "1994",
            "method": "animate"
           },
           {
            "args": [
             [
              "1995"
             ],
             {
              "frame": {
               "duration": 0,
               "redraw": false
              },
              "mode": "immediate",
              "fromcurrent": true,
              "transition": {
               "duration": 0,
               "easing": "linear"
              }
             }
            ],
            "label": "1995",
            "method": "animate"
           },
           {
            "args": [
             [
              "1996"
             ],
             {
              "frame": {
               "duration": 0,
               "redraw": false
              },
              "mode": "immediate",
              "fromcurrent": true,
              "transition": {
               "duration": 0,
               "easing": "linear"
              }
             }
            ],
            "label": "1996",
            "method": "animate"
           },
           {
            "args": [
             [
              "1997"
             ],
             {
              "frame": {
               "duration": 0,
               "redraw": false
              },
              "mode": "immediate",
              "fromcurrent": true,
              "transition": {
               "duration": 0,
               "easing": "linear"
              }
             }
            ],
            "label": "1997",
            "method": "animate"
           },
           {
            "args": [
             [
              "1998"
             ],
             {
              "frame": {
               "duration": 0,
               "redraw": false
              },
              "mode": "immediate",
              "fromcurrent": true,
              "transition": {
               "duration": 0,
               "easing": "linear"
              }
             }
            ],
            "label": "1998",
            "method": "animate"
           },
           {
            "args": [
             [
              "1999"
             ],
             {
              "frame": {
               "duration": 0,
               "redraw": false
              },
              "mode": "immediate",
              "fromcurrent": true,
              "transition": {
               "duration": 0,
               "easing": "linear"
              }
             }
            ],
            "label": "1999",
            "method": "animate"
           },
           {
            "args": [
             [
              "2000"
             ],
             {
              "frame": {
               "duration": 0,
               "redraw": false
              },
              "mode": "immediate",
              "fromcurrent": true,
              "transition": {
               "duration": 0,
               "easing": "linear"
              }
             }
            ],
            "label": "2000",
            "method": "animate"
           },
           {
            "args": [
             [
              "2001"
             ],
             {
              "frame": {
               "duration": 0,
               "redraw": false
              },
              "mode": "immediate",
              "fromcurrent": true,
              "transition": {
               "duration": 0,
               "easing": "linear"
              }
             }
            ],
            "label": "2001",
            "method": "animate"
           },
           {
            "args": [
             [
              "2002"
             ],
             {
              "frame": {
               "duration": 0,
               "redraw": false
              },
              "mode": "immediate",
              "fromcurrent": true,
              "transition": {
               "duration": 0,
               "easing": "linear"
              }
             }
            ],
            "label": "2002",
            "method": "animate"
           },
           {
            "args": [
             [
              "2003"
             ],
             {
              "frame": {
               "duration": 0,
               "redraw": false
              },
              "mode": "immediate",
              "fromcurrent": true,
              "transition": {
               "duration": 0,
               "easing": "linear"
              }
             }
            ],
            "label": "2003",
            "method": "animate"
           },
           {
            "args": [
             [
              "2004"
             ],
             {
              "frame": {
               "duration": 0,
               "redraw": false
              },
              "mode": "immediate",
              "fromcurrent": true,
              "transition": {
               "duration": 0,
               "easing": "linear"
              }
             }
            ],
            "label": "2004",
            "method": "animate"
           },
           {
            "args": [
             [
              "2005"
             ],
             {
              "frame": {
               "duration": 0,
               "redraw": false
              },
              "mode": "immediate",
              "fromcurrent": true,
              "transition": {
               "duration": 0,
               "easing": "linear"
              }
             }
            ],
            "label": "2005",
            "method": "animate"
           },
           {
            "args": [
             [
              "2006"
             ],
             {
              "frame": {
               "duration": 0,
               "redraw": false
              },
              "mode": "immediate",
              "fromcurrent": true,
              "transition": {
               "duration": 0,
               "easing": "linear"
              }
             }
            ],
            "label": "2006",
            "method": "animate"
           },
           {
            "args": [
             [
              "2007"
             ],
             {
              "frame": {
               "duration": 0,
               "redraw": false
              },
              "mode": "immediate",
              "fromcurrent": true,
              "transition": {
               "duration": 0,
               "easing": "linear"
              }
             }
            ],
            "label": "2007",
            "method": "animate"
           },
           {
            "args": [
             [
              "2008"
             ],
             {
              "frame": {
               "duration": 0,
               "redraw": false
              },
              "mode": "immediate",
              "fromcurrent": true,
              "transition": {
               "duration": 0,
               "easing": "linear"
              }
             }
            ],
            "label": "2008",
            "method": "animate"
           },
           {
            "args": [
             [
              "2009"
             ],
             {
              "frame": {
               "duration": 0,
               "redraw": false
              },
              "mode": "immediate",
              "fromcurrent": true,
              "transition": {
               "duration": 0,
               "easing": "linear"
              }
             }
            ],
            "label": "2009",
            "method": "animate"
           },
           {
            "args": [
             [
              "2010"
             ],
             {
              "frame": {
               "duration": 0,
               "redraw": false
              },
              "mode": "immediate",
              "fromcurrent": true,
              "transition": {
               "duration": 0,
               "easing": "linear"
              }
             }
            ],
            "label": "2010",
            "method": "animate"
           },
           {
            "args": [
             [
              "2011"
             ],
             {
              "frame": {
               "duration": 0,
               "redraw": false
              },
              "mode": "immediate",
              "fromcurrent": true,
              "transition": {
               "duration": 0,
               "easing": "linear"
              }
             }
            ],
            "label": "2011",
            "method": "animate"
           },
           {
            "args": [
             [
              "2012"
             ],
             {
              "frame": {
               "duration": 0,
               "redraw": false
              },
              "mode": "immediate",
              "fromcurrent": true,
              "transition": {
               "duration": 0,
               "easing": "linear"
              }
             }
            ],
            "label": "2012",
            "method": "animate"
           },
           {
            "args": [
             [
              "2013"
             ],
             {
              "frame": {
               "duration": 0,
               "redraw": false
              },
              "mode": "immediate",
              "fromcurrent": true,
              "transition": {
               "duration": 0,
               "easing": "linear"
              }
             }
            ],
            "label": "2013",
            "method": "animate"
           },
           {
            "args": [
             [
              "2014"
             ],
             {
              "frame": {
               "duration": 0,
               "redraw": false
              },
              "mode": "immediate",
              "fromcurrent": true,
              "transition": {
               "duration": 0,
               "easing": "linear"
              }
             }
            ],
            "label": "2014",
            "method": "animate"
           },
           {
            "args": [
             [
              "2015"
             ],
             {
              "frame": {
               "duration": 0,
               "redraw": false
              },
              "mode": "immediate",
              "fromcurrent": true,
              "transition": {
               "duration": 0,
               "easing": "linear"
              }
             }
            ],
            "label": "2015",
            "method": "animate"
           },
           {
            "args": [
             [
              "2016"
             ],
             {
              "frame": {
               "duration": 0,
               "redraw": false
              },
              "mode": "immediate",
              "fromcurrent": true,
              "transition": {
               "duration": 0,
               "easing": "linear"
              }
             }
            ],
            "label": "2016",
            "method": "animate"
           },
           {
            "args": [
             [
              "2017"
             ],
             {
              "frame": {
               "duration": 0,
               "redraw": false
              },
              "mode": "immediate",
              "fromcurrent": true,
              "transition": {
               "duration": 0,
               "easing": "linear"
              }
             }
            ],
            "label": "2017",
            "method": "animate"
           },
           {
            "args": [
             [
              "2018"
             ],
             {
              "frame": {
               "duration": 0,
               "redraw": false
              },
              "mode": "immediate",
              "fromcurrent": true,
              "transition": {
               "duration": 0,
               "easing": "linear"
              }
             }
            ],
            "label": "2018",
            "method": "animate"
           },
           {
            "args": [
             [
              "2019"
             ],
             {
              "frame": {
               "duration": 0,
               "redraw": false
              },
              "mode": "immediate",
              "fromcurrent": true,
              "transition": {
               "duration": 0,
               "easing": "linear"
              }
             }
            ],
            "label": "2019",
            "method": "animate"
           },
           {
            "args": [
             [
              "2020"
             ],
             {
              "frame": {
               "duration": 0,
               "redraw": false
              },
              "mode": "immediate",
              "fromcurrent": true,
              "transition": {
               "duration": 0,
               "easing": "linear"
              }
             }
            ],
            "label": "2020",
            "method": "animate"
           },
           {
            "args": [
             [
              "2021"
             ],
             {
              "frame": {
               "duration": 0,
               "redraw": false
              },
              "mode": "immediate",
              "fromcurrent": true,
              "transition": {
               "duration": 0,
               "easing": "linear"
              }
             }
            ],
            "label": "2021",
            "method": "animate"
           },
           {
            "args": [
             [
              "2022"
             ],
             {
              "frame": {
               "duration": 0,
               "redraw": false
              },
              "mode": "immediate",
              "fromcurrent": true,
              "transition": {
               "duration": 0,
               "easing": "linear"
              }
             }
            ],
            "label": "2022",
            "method": "animate"
           },
           {
            "args": [
             [
              "2023"
             ],
             {
              "frame": {
               "duration": 0,
               "redraw": false
              },
              "mode": "immediate",
              "fromcurrent": true,
              "transition": {
               "duration": 0,
               "easing": "linear"
              }
             }
            ],
            "label": "2023",
            "method": "animate"
           },
           {
            "args": [
             [
              "2024"
             ],
             {
              "frame": {
               "duration": 0,
               "redraw": false
              },
              "mode": "immediate",
              "fromcurrent": true,
              "transition": {
               "duration": 0,
               "easing": "linear"
              }
             }
            ],
            "label": "2024",
            "method": "animate"
           }
          ],
          "x": 0.1,
          "xanchor": "left",
          "y": 0,
          "yanchor": "top"
         }
        ],
        "showlegend": false
       },
       "frames": [
        {
         "data": [
          {
           "hovertemplate": "Anno=%{x}<br>Durata (minuti)=%{y}<extra></extra>",
           "legendgroup": "",
           "marker": {
            "color": "#636efa",
            "symbol": "circle"
           },
           "mode": "markers",
           "name": "",
           "orientation": "v",
           "showlegend": false,
           "x": [
            1899
           ],
           "xaxis": "x",
           "y": [
            135.0
           ],
           "yaxis": "y",
           "type": "scatter"
          }
         ],
         "name": "1899"
        },
        {
         "data": [
          {
           "hovertemplate": "Anno=%{x}<br>Durata (minuti)=%{y}<extra></extra>",
           "legendgroup": "",
           "marker": {
            "color": "#636efa",
            "symbol": "circle"
           },
           "mode": "markers",
           "name": "",
           "orientation": "v",
           "showlegend": false,
           "x": [
            1900
           ],
           "xaxis": "x",
           "y": [
            79.0
           ],
           "yaxis": "y",
           "type": "scatter"
          }
         ],
         "name": "1900"
        },
        {
         "data": [
          {
           "hovertemplate": "Anno=%{x}<br>Durata (minuti)=%{y}<extra></extra>",
           "legendgroup": "",
           "marker": {
            "color": "#636efa",
            "symbol": "circle"
           },
           "mode": "markers",
           "name": "",
           "orientation": "v",
           "showlegend": false,
           "x": [
            1903
           ],
           "xaxis": "x",
           "y": [
            120.0
           ],
           "yaxis": "y",
           "type": "scatter"
          }
         ],
         "name": "1903"
        },
        {
         "data": [
          {
           "hovertemplate": "Anno=%{x}<br>Durata (minuti)=%{y}<extra></extra>",
           "legendgroup": "",
           "marker": {
            "color": "#636efa",
            "symbol": "circle"
           },
           "mode": "markers",
           "name": "",
           "orientation": "v",
           "showlegend": false,
           "x": [
            1904
           ],
           "xaxis": "x",
           "y": [
            70.0
           ],
           "yaxis": "y",
           "type": "scatter"
          }
         ],
         "name": "1904"
        },
        {
         "data": [
          {
           "hovertemplate": "Anno=%{x}<br>Durata (minuti)=%{y}<extra></extra>",
           "legendgroup": "",
           "marker": {
            "color": "#636efa",
            "symbol": "circle"
           },
           "mode": "markers",
           "name": "",
           "orientation": "v",
           "showlegend": false,
           "x": [
            1906
           ],
           "xaxis": "x",
           "y": [
            87.5
           ],
           "yaxis": "y",
           "type": "scatter"
          }
         ],
         "name": "1906"
        },
        {
         "data": [
          {
           "hovertemplate": "Anno=%{x}<br>Durata (minuti)=%{y}<extra></extra>",
           "legendgroup": "",
           "marker": {
            "color": "#636efa",
            "symbol": "circle"
           },
           "mode": "markers",
           "name": "",
           "orientation": "v",
           "showlegend": false,
           "x": [
            1907
           ],
           "xaxis": "x",
           "y": [
            155.0
           ],
           "yaxis": "y",
           "type": "scatter"
          }
         ],
         "name": "1907"
        },
        {
         "data": [
          {
           "hovertemplate": "Anno=%{x}<br>Durata (minuti)=%{y}<extra></extra>",
           "legendgroup": "",
           "marker": {
            "color": "#636efa",
            "symbol": "circle"
           },
           "mode": "markers",
           "name": "",
           "orientation": "v",
           "showlegend": false,
           "x": [
            1908
           ],
           "xaxis": "x",
           "y": [
            135.5
           ],
           "yaxis": "y",
           "type": "scatter"
          }
         ],
         "name": "1908"
        },
        {
         "data": [
          {
           "hovertemplate": "Anno=%{x}<br>Durata (minuti)=%{y}<extra></extra>",
           "legendgroup": "",
           "marker": {
            "color": "#636efa",
            "symbol": "circle"
           },
           "mode": "markers",
           "name": "",
           "orientation": "v",
           "showlegend": false,
           "x": [
            1910
           ],
           "xaxis": "x",
           "y": [
            85.6
           ],
           "yaxis": "y",
           "type": "scatter"
          }
         ],
         "name": "1910"
        },
        {
         "data": [
          {
           "hovertemplate": "Anno=%{x}<br>Durata (minuti)=%{y}<extra></extra>",
           "legendgroup": "",
           "marker": {
            "color": "#636efa",
            "symbol": "circle"
           },
           "mode": "markers",
           "name": "",
           "orientation": "v",
           "showlegend": false,
           "x": [
            1911
           ],
           "xaxis": "x",
           "y": [
            87.6
           ],
           "yaxis": "y",
           "type": "scatter"
          }
         ],
         "name": "1911"
        },
        {
         "data": [
          {
           "hovertemplate": "Anno=%{x}<br>Durata (minuti)=%{y}<extra></extra>",
           "legendgroup": "",
           "marker": {
            "color": "#636efa",
            "symbol": "circle"
           },
           "mode": "markers",
           "name": "",
           "orientation": "v",
           "showlegend": false,
           "x": [
            1912
           ],
           "xaxis": "x",
           "y": [
            94.15384615384616
           ],
           "yaxis": "y",
           "type": "scatter"
          }
         ],
         "name": "1912"
        },
        {
         "data": [
          {
           "hovertemplate": "Anno=%{x}<br>Durata (minuti)=%{y}<extra></extra>",
           "legendgroup": "",
           "marker": {
            "color": "#636efa",
            "symbol": "circle"
           },
           "mode": "markers",
           "name": "",
           "orientation": "v",
           "showlegend": false,
           "x": [
            1913
           ],
           "xaxis": "x",
           "y": [
            98.16
           ],
           "yaxis": "y",
           "type": "scatter"
          }
         ],
         "name": "1913"
        },
        {
         "data": [
          {
           "hovertemplate": "Anno=%{x}<br>Durata (minuti)=%{y}<extra></extra>",
           "legendgroup": "",
           "marker": {
            "color": "#636efa",
            "symbol": "circle"
           },
           "mode": "markers",
           "name": "",
           "orientation": "v",
           "showlegend": false,
           "x": [
            1914
           ],
           "xaxis": "x",
           "y": [
            113.02702702702703
           ],
           "yaxis": "y",
           "type": "scatter"
          }
         ],
         "name": "1914"
        },
        {
         "data": [
          {
           "hovertemplate": "Anno=%{x}<br>Durata (minuti)=%{y}<extra></extra>",
           "legendgroup": "",
           "marker": {
            "color": "#636efa",
            "symbol": "circle"
           },
           "mode": "markers",
           "name": "",
           "orientation": "v",
           "showlegend": false,
           "x": [
            1915
           ],
           "xaxis": "x",
           "y": [
            110.475
           ],
           "yaxis": "y",
           "type": "scatter"
          }
         ],
         "name": "1915"
        },
        {
         "data": [
          {
           "hovertemplate": "Anno=%{x}<br>Durata (minuti)=%{y}<extra></extra>",
           "legendgroup": "",
           "marker": {
            "color": "#636efa",
            "symbol": "circle"
           },
           "mode": "markers",
           "name": "",
           "orientation": "v",
           "showlegend": false,
           "x": [
            1916
           ],
           "xaxis": "x",
           "y": [
            105.3953488372093
           ],
           "yaxis": "y",
           "type": "scatter"
          }
         ],
         "name": "1916"
        },
        {
         "data": [
          {
           "hovertemplate": "Anno=%{x}<br>Durata (minuti)=%{y}<extra></extra>",
           "legendgroup": "",
           "marker": {
            "color": "#636efa",
            "symbol": "circle"
           },
           "mode": "markers",
           "name": "",
           "orientation": "v",
           "showlegend": false,
           "x": [
            1917
           ],
           "xaxis": "x",
           "y": [
            96.72560975609755
           ],
           "yaxis": "y",
           "type": "scatter"
          }
         ],
         "name": "1917"
        },
        {
         "data": [
          {
           "hovertemplate": "Anno=%{x}<br>Durata (minuti)=%{y}<extra></extra>",
           "legendgroup": "",
           "marker": {
            "color": "#636efa",
            "symbol": "circle"
           },
           "mode": "markers",
           "name": "",
           "orientation": "v",
           "showlegend": false,
           "x": [
            1918
           ],
           "xaxis": "x",
           "y": [
            96.05590062111801
           ],
           "yaxis": "y",
           "type": "scatter"
          }
         ],
         "name": "1918"
        },
        {
         "data": [
          {
           "hovertemplate": "Anno=%{x}<br>Durata (minuti)=%{y}<extra></extra>",
           "legendgroup": "",
           "marker": {
            "color": "#636efa",
            "symbol": "circle"
           },
           "mode": "markers",
           "name": "",
           "orientation": "v",
           "showlegend": false,
           "x": [
            1919
           ],
           "xaxis": "x",
           "y": [
            94.15300546448087
           ],
           "yaxis": "y",
           "type": "scatter"
          }
         ],
         "name": "1919"
        },
        {
         "data": [
          {
           "hovertemplate": "Anno=%{x}<br>Durata (minuti)=%{y}<extra></extra>",
           "legendgroup": "",
           "marker": {
            "color": "#636efa",
            "symbol": "circle"
           },
           "mode": "markers",
           "name": "",
           "orientation": "v",
           "showlegend": false,
           "x": [
            1920
           ],
           "xaxis": "x",
           "y": [
            92.46190476190476
           ],
           "yaxis": "y",
           "type": "scatter"
          }
         ],
         "name": "1920"
        },
        {
         "data": [
          {
           "hovertemplate": "Anno=%{x}<br>Durata (minuti)=%{y}<extra></extra>",
           "legendgroup": "",
           "marker": {
            "color": "#636efa",
            "symbol": "circle"
           },
           "mode": "markers",
           "name": "",
           "orientation": "v",
           "showlegend": false,
           "x": [
            1921
           ],
           "xaxis": "x",
           "y": [
            92.24663677130044
           ],
           "yaxis": "y",
           "type": "scatter"
          }
         ],
         "name": "1921"
        },
        {
         "data": [
          {
           "hovertemplate": "Anno=%{x}<br>Durata (minuti)=%{y}<extra></extra>",
           "legendgroup": "",
           "marker": {
            "color": "#636efa",
            "symbol": "circle"
           },
           "mode": "markers",
           "name": "",
           "orientation": "v",
           "showlegend": false,
           "x": [
            1922
           ],
           "xaxis": "x",
           "y": [
            92.18518518518519
           ],
           "yaxis": "y",
           "type": "scatter"
          }
         ],
         "name": "1922"
        },
        {
         "data": [
          {
           "hovertemplate": "Anno=%{x}<br>Durata (minuti)=%{y}<extra></extra>",
           "legendgroup": "",
           "marker": {
            "color": "#636efa",
            "symbol": "circle"
           },
           "mode": "markers",
           "name": "",
           "orientation": "v",
           "showlegend": false,
           "x": [
            1923
           ],
           "xaxis": "x",
           "y": [
            90.70671378091873
           ],
           "yaxis": "y",
           "type": "scatter"
          }
         ],
         "name": "1923"
        },
        {
         "data": [
          {
           "hovertemplate": "Anno=%{x}<br>Durata (minuti)=%{y}<extra></extra>",
           "legendgroup": "",
           "marker": {
            "color": "#636efa",
            "symbol": "circle"
           },
           "mode": "markers",
           "name": "",
           "orientation": "v",
           "showlegend": false,
           "x": [
            1924
           ],
           "xaxis": "x",
           "y": [
            86.14939024390245
           ],
           "yaxis": "y",
           "type": "scatter"
          }
         ],
         "name": "1924"
        },
        {
         "data": [
          {
           "hovertemplate": "Anno=%{x}<br>Durata (minuti)=%{y}<extra></extra>",
           "legendgroup": "",
           "marker": {
            "color": "#636efa",
            "symbol": "circle"
           },
           "mode": "markers",
           "name": "",
           "orientation": "v",
           "showlegend": false,
           "x": [
            1925
           ],
           "xaxis": "x",
           "y": [
            86.96378830083566
           ],
           "yaxis": "y",
           "type": "scatter"
          }
         ],
         "name": "1925"
        },
        {
         "data": [
          {
           "hovertemplate": "Anno=%{x}<br>Durata (minuti)=%{y}<extra></extra>",
           "legendgroup": "",
           "marker": {
            "color": "#636efa",
            "symbol": "circle"
           },
           "mode": "markers",
           "name": "",
           "orientation": "v",
           "showlegend": false,
           "x": [
            1926
           ],
           "xaxis": "x",
           "y": [
            85.17937219730942
           ],
           "yaxis": "y",
           "type": "scatter"
          }
         ],
         "name": "1926"
        },
        {
         "data": [
          {
           "hovertemplate": "Anno=%{x}<br>Durata (minuti)=%{y}<extra></extra>",
           "legendgroup": "",
           "marker": {
            "color": "#636efa",
            "symbol": "circle"
           },
           "mode": "markers",
           "name": "",
           "orientation": "v",
           "showlegend": false,
           "x": [
            1927
           ],
           "xaxis": "x",
           "y": [
            88.3082191780822
           ],
           "yaxis": "y",
           "type": "scatter"
          }
         ],
         "name": "1927"
        },
        {
         "data": [
          {
           "hovertemplate": "Anno=%{x}<br>Durata (minuti)=%{y}<extra></extra>",
           "legendgroup": "",
           "marker": {
            "color": "#636efa",
            "symbol": "circle"
           },
           "mode": "markers",
           "name": "",
           "orientation": "v",
           "showlegend": false,
           "x": [
            1928
           ],
           "xaxis": "x",
           "y": [
            89.322
           ],
           "yaxis": "y",
           "type": "scatter"
          }
         ],
         "name": "1928"
        },
        {
         "data": [
          {
           "hovertemplate": "Anno=%{x}<br>Durata (minuti)=%{y}<extra></extra>",
           "legendgroup": "",
           "marker": {
            "color": "#636efa",
            "symbol": "circle"
           },
           "mode": "markers",
           "name": "",
           "orientation": "v",
           "showlegend": false,
           "x": [
            1929
           ],
           "xaxis": "x",
           "y": [
            86.12100840336134
           ],
           "yaxis": "y",
           "type": "scatter"
          }
         ],
         "name": "1929"
        },
        {
         "data": [
          {
           "hovertemplate": "Anno=%{x}<br>Durata (minuti)=%{y}<extra></extra>",
           "legendgroup": "",
           "marker": {
            "color": "#636efa",
            "symbol": "circle"
           },
           "mode": "markers",
           "name": "",
           "orientation": "v",
           "showlegend": false,
           "x": [
            1930
           ],
           "xaxis": "x",
           "y": [
            82.57461645746164
           ],
           "yaxis": "y",
           "type": "scatter"
          }
         ],
         "name": "1930"
        },
        {
         "data": [
          {
           "hovertemplate": "Anno=%{x}<br>Durata (minuti)=%{y}<extra></extra>",
           "legendgroup": "",
           "marker": {
            "color": "#636efa",
            "symbol": "circle"
           },
           "mode": "markers",
           "name": "",
           "orientation": "v",
           "showlegend": false,
           "x": [
            1931
           ],
           "xaxis": "x",
           "y": [
            82.26593137254902
           ],
           "yaxis": "y",
           "type": "scatter"
          }
         ],
         "name": "1931"
        },
        {
         "data": [
          {
           "hovertemplate": "Anno=%{x}<br>Durata (minuti)=%{y}<extra></extra>",
           "legendgroup": "",
           "marker": {
            "color": "#636efa",
            "symbol": "circle"
           },
           "mode": "markers",
           "name": "",
           "orientation": "v",
           "showlegend": false,
           "x": [
            1932
           ],
           "xaxis": "x",
           "y": [
            81.8508353221957
           ],
           "yaxis": "y",
           "type": "scatter"
          }
         ],
         "name": "1932"
        },
        {
         "data": [
          {
           "hovertemplate": "Anno=%{x}<br>Durata (minuti)=%{y}<extra></extra>",
           "legendgroup": "",
           "marker": {
            "color": "#636efa",
            "symbol": "circle"
           },
           "mode": "markers",
           "name": "",
           "orientation": "v",
           "showlegend": false,
           "x": [
            1933
           ],
           "xaxis": "x",
           "y": [
            81.5223880597015
           ],
           "yaxis": "y",
           "type": "scatter"
          }
         ],
         "name": "1933"
        },
        {
         "data": [
          {
           "hovertemplate": "Anno=%{x}<br>Durata (minuti)=%{y}<extra></extra>",
           "legendgroup": "",
           "marker": {
            "color": "#636efa",
            "symbol": "circle"
           },
           "mode": "markers",
           "name": "",
           "orientation": "v",
           "showlegend": false,
           "x": [
            1934
           ],
           "xaxis": "x",
           "y": [
            83.25782092772384
           ],
           "yaxis": "y",
           "type": "scatter"
          }
         ],
         "name": "1934"
        },
        {
         "data": [
          {
           "hovertemplate": "Anno=%{x}<br>Durata (minuti)=%{y}<extra></extra>",
           "legendgroup": "",
           "marker": {
            "color": "#636efa",
            "symbol": "circle"
           },
           "mode": "markers",
           "name": "",
           "orientation": "v",
           "showlegend": false,
           "x": [
            1935
           ],
           "xaxis": "x",
           "y": [
            82.91897654584221
           ],
           "yaxis": "y",
           "type": "scatter"
          }
         ],
         "name": "1935"
        },
        {
         "data": [
          {
           "hovertemplate": "Anno=%{x}<br>Durata (minuti)=%{y}<extra></extra>",
           "legendgroup": "",
           "marker": {
            "color": "#636efa",
            "symbol": "circle"
           },
           "mode": "markers",
           "name": "",
           "orientation": "v",
           "showlegend": false,
           "x": [
            1936
           ],
           "xaxis": "x",
           "y": [
            83.7385554425229
           ],
           "yaxis": "y",
           "type": "scatter"
          }
         ],
         "name": "1936"
        },
        {
         "data": [
          {
           "hovertemplate": "Anno=%{x}<br>Durata (minuti)=%{y}<extra></extra>",
           "legendgroup": "",
           "marker": {
            "color": "#636efa",
            "symbol": "circle"
           },
           "mode": "markers",
           "name": "",
           "orientation": "v",
           "showlegend": false,
           "x": [
            1937
           ],
           "xaxis": "x",
           "y": [
            85.88418932527694
           ],
           "yaxis": "y",
           "type": "scatter"
          }
         ],
         "name": "1937"
        },
        {
         "data": [
          {
           "hovertemplate": "Anno=%{x}<br>Durata (minuti)=%{y}<extra></extra>",
           "legendgroup": "",
           "marker": {
            "color": "#636efa",
            "symbol": "circle"
           },
           "mode": "markers",
           "name": "",
           "orientation": "v",
           "showlegend": false,
           "x": [
            1938
           ],
           "xaxis": "x",
           "y": [
            86.73838383838384
           ],
           "yaxis": "y",
           "type": "scatter"
          }
         ],
         "name": "1938"
        },
        {
         "data": [
          {
           "hovertemplate": "Anno=%{x}<br>Durata (minuti)=%{y}<extra></extra>",
           "legendgroup": "",
           "marker": {
            "color": "#636efa",
            "symbol": "circle"
           },
           "mode": "markers",
           "name": "",
           "orientation": "v",
           "showlegend": false,
           "x": [
            1939
           ],
           "xaxis": "x",
           "y": [
            87.22052845528455
           ],
           "yaxis": "y",
           "type": "scatter"
          }
         ],
         "name": "1939"
        },
        {
         "data": [
          {
           "hovertemplate": "Anno=%{x}<br>Durata (minuti)=%{y}<extra></extra>",
           "legendgroup": "",
           "marker": {
            "color": "#636efa",
            "symbol": "circle"
           },
           "mode": "markers",
           "name": "",
           "orientation": "v",
           "showlegend": false,
           "x": [
            1940
           ],
           "xaxis": "x",
           "y": [
            87.63296703296703
           ],
           "yaxis": "y",
           "type": "scatter"
          }
         ],
         "name": "1940"
        },
        {
         "data": [
          {
           "hovertemplate": "Anno=%{x}<br>Durata (minuti)=%{y}<extra></extra>",
           "legendgroup": "",
           "marker": {
            "color": "#636efa",
            "symbol": "circle"
           },
           "mode": "markers",
           "name": "",
           "orientation": "v",
           "showlegend": false,
           "x": [
            1941
           ],
           "xaxis": "x",
           "y": [
            89.63856812933025
           ],
           "yaxis": "y",
           "type": "scatter"
          }
         ],
         "name": "1941"
        },
        {
         "data": [
          {
           "hovertemplate": "Anno=%{x}<br>Durata (minuti)=%{y}<extra></extra>",
           "legendgroup": "",
           "marker": {
            "color": "#636efa",
            "symbol": "circle"
           },
           "mode": "markers",
           "name": "",
           "orientation": "v",
           "showlegend": false,
           "x": [
            1942
           ],
           "xaxis": "x",
           "y": [
            89.06394707828004
           ],
           "yaxis": "y",
           "type": "scatter"
          }
         ],
         "name": "1942"
        },
        {
         "data": [
          {
           "hovertemplate": "Anno=%{x}<br>Durata (minuti)=%{y}<extra></extra>",
           "legendgroup": "",
           "marker": {
            "color": "#636efa",
            "symbol": "circle"
           },
           "mode": "markers",
           "name": "",
           "orientation": "v",
           "showlegend": false,
           "x": [
            1943
           ],
           "xaxis": "x",
           "y": [
            89.60551558752998
           ],
           "yaxis": "y",
           "type": "scatter"
          }
         ],
         "name": "1943"
        },
        {
         "data": [
          {
           "hovertemplate": "Anno=%{x}<br>Durata (minuti)=%{y}<extra></extra>",
           "legendgroup": "",
           "marker": {
            "color": "#636efa",
            "symbol": "circle"
           },
           "mode": "markers",
           "name": "",
           "orientation": "v",
           "showlegend": false,
           "x": [
            1944
           ],
           "xaxis": "x",
           "y": [
            90.38719068413391
           ],
           "yaxis": "y",
           "type": "scatter"
          }
         ],
         "name": "1944"
        },
        {
         "data": [
          {
           "hovertemplate": "Anno=%{x}<br>Durata (minuti)=%{y}<extra></extra>",
           "legendgroup": "",
           "marker": {
            "color": "#636efa",
            "symbol": "circle"
           },
           "mode": "markers",
           "name": "",
           "orientation": "v",
           "showlegend": false,
           "x": [
            1945
           ],
           "xaxis": "x",
           "y": [
            89.61014492753623
           ],
           "yaxis": "y",
           "type": "scatter"
          }
         ],
         "name": "1945"
        },
        {
         "data": [
          {
           "hovertemplate": "Anno=%{x}<br>Durata (minuti)=%{y}<extra></extra>",
           "legendgroup": "",
           "marker": {
            "color": "#636efa",
            "symbol": "circle"
           },
           "mode": "markers",
           "name": "",
           "orientation": "v",
           "showlegend": false,
           "x": [
            1946
           ],
           "xaxis": "x",
           "y": [
            90.20663265306122
           ],
           "yaxis": "y",
           "type": "scatter"
          }
         ],
         "name": "1946"
        },
        {
         "data": [
          {
           "hovertemplate": "Anno=%{x}<br>Durata (minuti)=%{y}<extra></extra>",
           "legendgroup": "",
           "marker": {
            "color": "#636efa",
            "symbol": "circle"
           },
           "mode": "markers",
           "name": "",
           "orientation": "v",
           "showlegend": false,
           "x": [
            1947
           ],
           "xaxis": "x",
           "y": [
            90.26564344746163
           ],
           "yaxis": "y",
           "type": "scatter"
          }
         ],
         "name": "1947"
        },
        {
         "data": [
          {
           "hovertemplate": "Anno=%{x}<br>Durata (minuti)=%{y}<extra></extra>",
           "legendgroup": "",
           "marker": {
            "color": "#636efa",
            "symbol": "circle"
           },
           "mode": "markers",
           "name": "",
           "orientation": "v",
           "showlegend": false,
           "x": [
            1948
           ],
           "xaxis": "x",
           "y": [
            90.59194776931447
           ],
           "yaxis": "y",
           "type": "scatter"
          }
         ],
         "name": "1948"
        },
        {
         "data": [
          {
           "hovertemplate": "Anno=%{x}<br>Durata (minuti)=%{y}<extra></extra>",
           "legendgroup": "",
           "marker": {
            "color": "#636efa",
            "symbol": "circle"
           },
           "mode": "markers",
           "name": "",
           "orientation": "v",
           "showlegend": false,
           "x": [
            1949
           ],
           "xaxis": "x",
           "y": [
            91.48095238095237
           ],
           "yaxis": "y",
           "type": "scatter"
          }
         ],
         "name": "1949"
        },
        {
         "data": [
          {
           "hovertemplate": "Anno=%{x}<br>Durata (minuti)=%{y}<extra></extra>",
           "legendgroup": "",
           "marker": {
            "color": "#636efa",
            "symbol": "circle"
           },
           "mode": "markers",
           "name": "",
           "orientation": "v",
           "showlegend": false,
           "x": [
            1950
           ],
           "xaxis": "x",
           "y": [
            91.88568935427574
           ],
           "yaxis": "y",
           "type": "scatter"
          }
         ],
         "name": "1950"
        },
        {
         "data": [
          {
           "hovertemplate": "Anno=%{x}<br>Durata (minuti)=%{y}<extra></extra>",
           "legendgroup": "",
           "marker": {
            "color": "#636efa",
            "symbol": "circle"
           },
           "mode": "markers",
           "name": "",
           "orientation": "v",
           "showlegend": false,
           "x": [
            1951
           ],
           "xaxis": "x",
           "y": [
            92.3937074829932
           ],
           "yaxis": "y",
           "type": "scatter"
          }
         ],
         "name": "1951"
        },
        {
         "data": [
          {
           "hovertemplate": "Anno=%{x}<br>Durata (minuti)=%{y}<extra></extra>",
           "legendgroup": "",
           "marker": {
            "color": "#636efa",
            "symbol": "circle"
           },
           "mode": "markers",
           "name": "",
           "orientation": "v",
           "showlegend": false,
           "x": [
            1952
           ],
           "xaxis": "x",
           "y": [
            92.83817427385893
           ],
           "yaxis": "y",
           "type": "scatter"
          }
         ],
         "name": "1952"
        },
        {
         "data": [
          {
           "hovertemplate": "Anno=%{x}<br>Durata (minuti)=%{y}<extra></extra>",
           "legendgroup": "",
           "marker": {
            "color": "#636efa",
            "symbol": "circle"
           },
           "mode": "markers",
           "name": "",
           "orientation": "v",
           "showlegend": false,
           "x": [
            1953
           ],
           "xaxis": "x",
           "y": [
            93.00321027287319
           ],
           "yaxis": "y",
           "type": "scatter"
          }
         ],
         "name": "1953"
        },
        {
         "data": [
          {
           "hovertemplate": "Anno=%{x}<br>Durata (minuti)=%{y}<extra></extra>",
           "legendgroup": "",
           "marker": {
            "color": "#636efa",
            "symbol": "circle"
           },
           "mode": "markers",
           "name": "",
           "orientation": "v",
           "showlegend": false,
           "x": [
            1954
           ],
           "xaxis": "x",
           "y": [
            94.50657385924207
           ],
           "yaxis": "y",
           "type": "scatter"
          }
         ],
         "name": "1954"
        },
        {
         "data": [
          {
           "hovertemplate": "Anno=%{x}<br>Durata (minuti)=%{y}<extra></extra>",
           "legendgroup": "",
           "marker": {
            "color": "#636efa",
            "symbol": "circle"
           },
           "mode": "markers",
           "name": "",
           "orientation": "v",
           "showlegend": false,
           "x": [
            1955
           ],
           "xaxis": "x",
           "y": [
            94.32639885222382
           ],
           "yaxis": "y",
           "type": "scatter"
          }
         ],
         "name": "1955"
        },
        {
         "data": [
          {
           "hovertemplate": "Anno=%{x}<br>Durata (minuti)=%{y}<extra></extra>",
           "legendgroup": "",
           "marker": {
            "color": "#636efa",
            "symbol": "circle"
           },
           "mode": "markers",
           "name": "",
           "orientation": "v",
           "showlegend": false,
           "x": [
            1956
           ],
           "xaxis": "x",
           "y": [
            93.4985754985755
           ],
           "yaxis": "y",
           "type": "scatter"
          }
         ],
         "name": "1956"
        },
        {
         "data": [
          {
           "hovertemplate": "Anno=%{x}<br>Durata (minuti)=%{y}<extra></extra>",
           "legendgroup": "",
           "marker": {
            "color": "#636efa",
            "symbol": "circle"
           },
           "mode": "markers",
           "name": "",
           "orientation": "v",
           "showlegend": false,
           "x": [
            1957
           ],
           "xaxis": "x",
           "y": [
            92.72005124919923
           ],
           "yaxis": "y",
           "type": "scatter"
          }
         ],
         "name": "1957"
        },
        {
         "data": [
          {
           "hovertemplate": "Anno=%{x}<br>Durata (minuti)=%{y}<extra></extra>",
           "legendgroup": "",
           "marker": {
            "color": "#636efa",
            "symbol": "circle"
           },
           "mode": "markers",
           "name": "",
           "orientation": "v",
           "showlegend": false,
           "x": [
            1958
           ],
           "xaxis": "x",
           "y": [
            93.52200867947923
           ],
           "yaxis": "y",
           "type": "scatter"
          }
         ],
         "name": "1958"
        },
        {
         "data": [
          {
           "hovertemplate": "Anno=%{x}<br>Durata (minuti)=%{y}<extra></extra>",
           "legendgroup": "",
           "marker": {
            "color": "#636efa",
            "symbol": "circle"
           },
           "mode": "markers",
           "name": "",
           "orientation": "v",
           "showlegend": false,
           "x": [
            1959
           ],
           "xaxis": "x",
           "y": [
            94.49937185929649
           ],
           "yaxis": "y",
           "type": "scatter"
          }
         ],
         "name": "1959"
        },
        {
         "data": [
          {
           "hovertemplate": "Anno=%{x}<br>Durata (minuti)=%{y}<extra></extra>",
           "legendgroup": "",
           "marker": {
            "color": "#636efa",
            "symbol": "circle"
           },
           "mode": "markers",
           "name": "",
           "orientation": "v",
           "showlegend": false,
           "x": [
            1960
           ],
           "xaxis": "x",
           "y": [
            97.27020357803825
           ],
           "yaxis": "y",
           "type": "scatter"
          }
         ],
         "name": "1960"
        },
        {
         "data": [
          {
           "hovertemplate": "Anno=%{x}<br>Durata (minuti)=%{y}<extra></extra>",
           "legendgroup": "",
           "marker": {
            "color": "#636efa",
            "symbol": "circle"
           },
           "mode": "markers",
           "name": "",
           "orientation": "v",
           "showlegend": false,
           "x": [
            1961
           ],
           "xaxis": "x",
           "y": [
            94.8447971781305
           ],
           "yaxis": "y",
           "type": "scatter"
          }
         ],
         "name": "1961"
        },
        {
         "data": [
          {
           "hovertemplate": "Anno=%{x}<br>Durata (minuti)=%{y}<extra></extra>",
           "legendgroup": "",
           "marker": {
            "color": "#636efa",
            "symbol": "circle"
           },
           "mode": "markers",
           "name": "",
           "orientation": "v",
           "showlegend": false,
           "x": [
            1962
           ],
           "xaxis": "x",
           "y": [
            95.74120879120879
           ],
           "yaxis": "y",
           "type": "scatter"
          }
         ],
         "name": "1962"
        },
        {
         "data": [
          {
           "hovertemplate": "Anno=%{x}<br>Durata (minuti)=%{y}<extra></extra>",
           "legendgroup": "",
           "marker": {
            "color": "#636efa",
            "symbol": "circle"
           },
           "mode": "markers",
           "name": "",
           "orientation": "v",
           "showlegend": false,
           "x": [
            1963
           ],
           "xaxis": "x",
           "y": [
            95.92389270118528
           ],
           "yaxis": "y",
           "type": "scatter"
          }
         ],
         "name": "1963"
        },
        {
         "data": [
          {
           "hovertemplate": "Anno=%{x}<br>Durata (minuti)=%{y}<extra></extra>",
           "legendgroup": "",
           "marker": {
            "color": "#636efa",
            "symbol": "circle"
           },
           "mode": "markers",
           "name": "",
           "orientation": "v",
           "showlegend": false,
           "x": [
            1964
           ],
           "xaxis": "x",
           "y": [
            98.23103448275862
           ],
           "yaxis": "y",
           "type": "scatter"
          }
         ],
         "name": "1964"
        },
        {
         "data": [
          {
           "hovertemplate": "Anno=%{x}<br>Durata (minuti)=%{y}<extra></extra>",
           "legendgroup": "",
           "marker": {
            "color": "#636efa",
            "symbol": "circle"
           },
           "mode": "markers",
           "name": "",
           "orientation": "v",
           "showlegend": false,
           "x": [
            1965
           ],
           "xaxis": "x",
           "y": [
            97.85435267857143
           ],
           "yaxis": "y",
           "type": "scatter"
          }
         ],
         "name": "1965"
        },
        {
         "data": [
          {
           "hovertemplate": "Anno=%{x}<br>Durata (minuti)=%{y}<extra></extra>",
           "legendgroup": "",
           "marker": {
            "color": "#636efa",
            "symbol": "circle"
           },
           "mode": "markers",
           "name": "",
           "orientation": "v",
           "showlegend": false,
           "x": [
            1966
           ],
           "xaxis": "x",
           "y": [
            97.09619565217392
           ],
           "yaxis": "y",
           "type": "scatter"
          }
         ],
         "name": "1966"
        },
        {
         "data": [
          {
           "hovertemplate": "Anno=%{x}<br>Durata (minuti)=%{y}<extra></extra>",
           "legendgroup": "",
           "marker": {
            "color": "#636efa",
            "symbol": "circle"
           },
           "mode": "markers",
           "name": "",
           "orientation": "v",
           "showlegend": false,
           "x": [
            1967
           ],
           "xaxis": "x",
           "y": [
            101.52128712871287
           ],
           "yaxis": "y",
           "type": "scatter"
          }
         ],
         "name": "1967"
        },
        {
         "data": [
          {
           "hovertemplate": "Anno=%{x}<br>Durata (minuti)=%{y}<extra></extra>",
           "legendgroup": "",
           "marker": {
            "color": "#636efa",
            "symbol": "circle"
           },
           "mode": "markers",
           "name": "",
           "orientation": "v",
           "showlegend": false,
           "x": [
            1968
           ],
           "xaxis": "x",
           "y": [
            99.0973731884058
           ],
           "yaxis": "y",
           "type": "scatter"
          }
         ],
         "name": "1968"
        },
        {
         "data": [
          {
           "hovertemplate": "Anno=%{x}<br>Durata (minuti)=%{y}<extra></extra>",
           "legendgroup": "",
           "marker": {
            "color": "#636efa",
            "symbol": "circle"
           },
           "mode": "markers",
           "name": "",
           "orientation": "v",
           "showlegend": false,
           "x": [
            1969
           ],
           "xaxis": "x",
           "y": [
            98.2080276219249
           ],
           "yaxis": "y",
           "type": "scatter"
          }
         ],
         "name": "1969"
        },
        {
         "data": [
          {
           "hovertemplate": "Anno=%{x}<br>Durata (minuti)=%{y}<extra></extra>",
           "legendgroup": "",
           "marker": {
            "color": "#636efa",
            "symbol": "circle"
           },
           "mode": "markers",
           "name": "",
           "orientation": "v",
           "showlegend": false,
           "x": [
            1970
           ],
           "xaxis": "x",
           "y": [
            96.63133640552995
           ],
           "yaxis": "y",
           "type": "scatter"
          }
         ],
         "name": "1970"
        },
        {
         "data": [
          {
           "hovertemplate": "Anno=%{x}<br>Durata (minuti)=%{y}<extra></extra>",
           "legendgroup": "",
           "marker": {
            "color": "#636efa",
            "symbol": "circle"
           },
           "mode": "markers",
           "name": "",
           "orientation": "v",
           "showlegend": false,
           "x": [
            1971
           ],
           "xaxis": "x",
           "y": [
            99.66666666666667
           ],
           "yaxis": "y",
           "type": "scatter"
          }
         ],
         "name": "1971"
        },
        {
         "data": [
          {
           "hovertemplate": "Anno=%{x}<br>Durata (minuti)=%{y}<extra></extra>",
           "legendgroup": "",
           "marker": {
            "color": "#636efa",
            "symbol": "circle"
           },
           "mode": "markers",
           "name": "",
           "orientation": "v",
           "showlegend": false,
           "x": [
            1972
           ],
           "xaxis": "x",
           "y": [
            100.0909090909091
           ],
           "yaxis": "y",
           "type": "scatter"
          }
         ],
         "name": "1972"
        },
        {
         "data": [
          {
           "hovertemplate": "Anno=%{x}<br>Durata (minuti)=%{y}<extra></extra>",
           "legendgroup": "",
           "marker": {
            "color": "#636efa",
            "symbol": "circle"
           },
           "mode": "markers",
           "name": "",
           "orientation": "v",
           "showlegend": false,
           "x": [
            1973
           ],
           "xaxis": "x",
           "y": [
            103.97878086419753
           ],
           "yaxis": "y",
           "type": "scatter"
          }
         ],
         "name": "1973"
        },
        {
         "data": [
          {
           "hovertemplate": "Anno=%{x}<br>Durata (minuti)=%{y}<extra></extra>",
           "legendgroup": "",
           "marker": {
            "color": "#636efa",
            "symbol": "circle"
           },
           "mode": "markers",
           "name": "",
           "orientation": "v",
           "showlegend": false,
           "x": [
            1974
           ],
           "xaxis": "x",
           "y": [
            104.06048703849176
           ],
           "yaxis": "y",
           "type": "scatter"
          }
         ],
         "name": "1974"
        },
        {
         "data": [
          {
           "hovertemplate": "Anno=%{x}<br>Durata (minuti)=%{y}<extra></extra>",
           "legendgroup": "",
           "marker": {
            "color": "#636efa",
            "symbol": "circle"
           },
           "mode": "markers",
           "name": "",
           "orientation": "v",
           "showlegend": false,
           "x": [
            1975
           ],
           "xaxis": "x",
           "y": [
            102.67215137803373
           ],
           "yaxis": "y",
           "type": "scatter"
          }
         ],
         "name": "1975"
        },
        {
         "data": [
          {
           "hovertemplate": "Anno=%{x}<br>Durata (minuti)=%{y}<extra></extra>",
           "legendgroup": "",
           "marker": {
            "color": "#636efa",
            "symbol": "circle"
           },
           "mode": "markers",
           "name": "",
           "orientation": "v",
           "showlegend": false,
           "x": [
            1976
           ],
           "xaxis": "x",
           "y": [
            104.76747967479675
           ],
           "yaxis": "y",
           "type": "scatter"
          }
         ],
         "name": "1976"
        },
        {
         "data": [
          {
           "hovertemplate": "Anno=%{x}<br>Durata (minuti)=%{y}<extra></extra>",
           "legendgroup": "",
           "marker": {
            "color": "#636efa",
            "symbol": "circle"
           },
           "mode": "markers",
           "name": "",
           "orientation": "v",
           "showlegend": false,
           "x": [
            1977
           ],
           "xaxis": "x",
           "y": [
            105.97644710578842
           ],
           "yaxis": "y",
           "type": "scatter"
          }
         ],
         "name": "1977"
        },
        {
         "data": [
          {
           "hovertemplate": "Anno=%{x}<br>Durata (minuti)=%{y}<extra></extra>",
           "legendgroup": "",
           "marker": {
            "color": "#636efa",
            "symbol": "circle"
           },
           "mode": "markers",
           "name": "",
           "orientation": "v",
           "showlegend": false,
           "x": [
            1978
           ],
           "xaxis": "x",
           "y": [
            115.2308584686775
           ],
           "yaxis": "y",
           "type": "scatter"
          }
         ],
         "name": "1978"
        },
        {
         "data": [
          {
           "hovertemplate": "Anno=%{x}<br>Durata (minuti)=%{y}<extra></extra>",
           "legendgroup": "",
           "marker": {
            "color": "#636efa",
            "symbol": "circle"
           },
           "mode": "markers",
           "name": "",
           "orientation": "v",
           "showlegend": false,
           "x": [
            1979
           ],
           "xaxis": "x",
           "y": [
            107.41827448125227
           ],
           "yaxis": "y",
           "type": "scatter"
          }
         ],
         "name": "1979"
        },
        {
         "data": [
          {
           "hovertemplate": "Anno=%{x}<br>Durata (minuti)=%{y}<extra></extra>",
           "legendgroup": "",
           "marker": {
            "color": "#636efa",
            "symbol": "circle"
           },
           "mode": "markers",
           "name": "",
           "orientation": "v",
           "showlegend": false,
           "x": [
            1980
           ],
           "xaxis": "x",
           "y": [
            111.47783783783784
           ],
           "yaxis": "y",
           "type": "scatter"
          }
         ],
         "name": "1980"
        },
        {
         "data": [
          {
           "hovertemplate": "Anno=%{x}<br>Durata (minuti)=%{y}<extra></extra>",
           "legendgroup": "",
           "marker": {
            "color": "#636efa",
            "symbol": "circle"
           },
           "mode": "markers",
           "name": "",
           "orientation": "v",
           "showlegend": false,
           "x": [
            1981
           ],
           "xaxis": "x",
           "y": [
            108.03630363036304
           ],
           "yaxis": "y",
           "type": "scatter"
          }
         ],
         "name": "1981"
        },
        {
         "data": [
          {
           "hovertemplate": "Anno=%{x}<br>Durata (minuti)=%{y}<extra></extra>",
           "legendgroup": "",
           "marker": {
            "color": "#636efa",
            "symbol": "circle"
           },
           "mode": "markers",
           "name": "",
           "orientation": "v",
           "showlegend": false,
           "x": [
            1982
           ],
           "xaxis": "x",
           "y": [
            108.87152411122844
           ],
           "yaxis": "y",
           "type": "scatter"
          }
         ],
         "name": "1982"
        },
        {
         "data": [
          {
           "hovertemplate": "Anno=%{x}<br>Durata (minuti)=%{y}<extra></extra>",
           "legendgroup": "",
           "marker": {
            "color": "#636efa",
            "symbol": "circle"
           },
           "mode": "markers",
           "name": "",
           "orientation": "v",
           "showlegend": false,
           "x": [
            1983
           ],
           "xaxis": "x",
           "y": [
            108.9159106769016
           ],
           "yaxis": "y",
           "type": "scatter"
          }
         ],
         "name": "1983"
        },
        {
         "data": [
          {
           "hovertemplate": "Anno=%{x}<br>Durata (minuti)=%{y}<extra></extra>",
           "legendgroup": "",
           "marker": {
            "color": "#636efa",
            "symbol": "circle"
           },
           "mode": "markers",
           "name": "",
           "orientation": "v",
           "showlegend": false,
           "x": [
            1984
           ],
           "xaxis": "x",
           "y": [
            107.73955857385398
           ],
           "yaxis": "y",
           "type": "scatter"
          }
         ],
         "name": "1984"
        },
        {
         "data": [
          {
           "hovertemplate": "Anno=%{x}<br>Durata (minuti)=%{y}<extra></extra>",
           "legendgroup": "",
           "marker": {
            "color": "#636efa",
            "symbol": "circle"
           },
           "mode": "markers",
           "name": "",
           "orientation": "v",
           "showlegend": false,
           "x": [
            1985
           ],
           "xaxis": "x",
           "y": [
            110.80942480942481
           ],
           "yaxis": "y",
           "type": "scatter"
          }
         ],
         "name": "1985"
        },
        {
         "data": [
          {
           "hovertemplate": "Anno=%{x}<br>Durata (minuti)=%{y}<extra></extra>",
           "legendgroup": "",
           "marker": {
            "color": "#636efa",
            "symbol": "circle"
           },
           "mode": "markers",
           "name": "",
           "orientation": "v",
           "showlegend": false,
           "x": [
            1986
           ],
           "xaxis": "x",
           "y": [
            107.36075742735879
           ],
           "yaxis": "y",
           "type": "scatter"
          }
         ],
         "name": "1986"
        },
        {
         "data": [
          {
           "hovertemplate": "Anno=%{x}<br>Durata (minuti)=%{y}<extra></extra>",
           "legendgroup": "",
           "marker": {
            "color": "#636efa",
            "symbol": "circle"
           },
           "mode": "markers",
           "name": "",
           "orientation": "v",
           "showlegend": false,
           "x": [
            1987
           ],
           "xaxis": "x",
           "y": [
            107.54059097978227
           ],
           "yaxis": "y",
           "type": "scatter"
          }
         ],
         "name": "1987"
        },
        {
         "data": [
          {
           "hovertemplate": "Anno=%{x}<br>Durata (minuti)=%{y}<extra></extra>",
           "legendgroup": "",
           "marker": {
            "color": "#636efa",
            "symbol": "circle"
           },
           "mode": "markers",
           "name": "",
           "orientation": "v",
           "showlegend": false,
           "x": [
            1988
           ],
           "xaxis": "x",
           "y": [
            106.64839203675345
           ],
           "yaxis": "y",
           "type": "scatter"
          }
         ],
         "name": "1988"
        },
        {
         "data": [
          {
           "hovertemplate": "Anno=%{x}<br>Durata (minuti)=%{y}<extra></extra>",
           "legendgroup": "",
           "marker": {
            "color": "#636efa",
            "symbol": "circle"
           },
           "mode": "markers",
           "name": "",
           "orientation": "v",
           "showlegend": false,
           "x": [
            1989
           ],
           "xaxis": "x",
           "y": [
            107.43326488706366
           ],
           "yaxis": "y",
           "type": "scatter"
          }
         ],
         "name": "1989"
        },
        {
         "data": [
          {
           "hovertemplate": "Anno=%{x}<br>Durata (minuti)=%{y}<extra></extra>",
           "legendgroup": "",
           "marker": {
            "color": "#636efa",
            "symbol": "circle"
           },
           "mode": "markers",
           "name": "",
           "orientation": "v",
           "showlegend": false,
           "x": [
            1990
           ],
           "xaxis": "x",
           "y": [
            105.22756981580511
           ],
           "yaxis": "y",
           "type": "scatter"
          }
         ],
         "name": "1990"
        },
        {
         "data": [
          {
           "hovertemplate": "Anno=%{x}<br>Durata (minuti)=%{y}<extra></extra>",
           "legendgroup": "",
           "marker": {
            "color": "#636efa",
            "symbol": "circle"
           },
           "mode": "markers",
           "name": "",
           "orientation": "v",
           "showlegend": false,
           "x": [
            1991
           ],
           "xaxis": "x",
           "y": [
            107.51730531520396
           ],
           "yaxis": "y",
           "type": "scatter"
          }
         ],
         "name": "1991"
        },
        {
         "data": [
          {
           "hovertemplate": "Anno=%{x}<br>Durata (minuti)=%{y}<extra></extra>",
           "legendgroup": "",
           "marker": {
            "color": "#636efa",
            "symbol": "circle"
           },
           "mode": "markers",
           "name": "",
           "orientation": "v",
           "showlegend": false,
           "x": [
            1992
           ],
           "xaxis": "x",
           "y": [
            107.313200498132
           ],
           "yaxis": "y",
           "type": "scatter"
          }
         ],
         "name": "1992"
        },
        {
         "data": [
          {
           "hovertemplate": "Anno=%{x}<br>Durata (minuti)=%{y}<extra></extra>",
           "legendgroup": "",
           "marker": {
            "color": "#636efa",
            "symbol": "circle"
           },
           "mode": "markers",
           "name": "",
           "orientation": "v",
           "showlegend": false,
           "x": [
            1993
           ],
           "xaxis": "x",
           "y": [
            108.52513966480447
           ],
           "yaxis": "y",
           "type": "scatter"
          }
         ],
         "name": "1993"
        },
        {
         "data": [
          {
           "hovertemplate": "Anno=%{x}<br>Durata (minuti)=%{y}<extra></extra>",
           "legendgroup": "",
           "marker": {
            "color": "#636efa",
            "symbol": "circle"
           },
           "mode": "markers",
           "name": "",
           "orientation": "v",
           "showlegend": false,
           "x": [
            1994
           ],
           "xaxis": "x",
           "y": [
            107.27997546764796
           ],
           "yaxis": "y",
           "type": "scatter"
          }
         ],
         "name": "1994"
        },
        {
         "data": [
          {
           "hovertemplate": "Anno=%{x}<br>Durata (minuti)=%{y}<extra></extra>",
           "legendgroup": "",
           "marker": {
            "color": "#636efa",
            "symbol": "circle"
           },
           "mode": "markers",
           "name": "",
           "orientation": "v",
           "showlegend": false,
           "x": [
            1995
           ],
           "xaxis": "x",
           "y": [
            108.11859838274933
           ],
           "yaxis": "y",
           "type": "scatter"
          }
         ],
         "name": "1995"
        },
        {
         "data": [
          {
           "hovertemplate": "Anno=%{x}<br>Durata (minuti)=%{y}<extra></extra>",
           "legendgroup": "",
           "marker": {
            "color": "#636efa",
            "symbol": "circle"
           },
           "mode": "markers",
           "name": "",
           "orientation": "v",
           "showlegend": false,
           "x": [
            1996
           ],
           "xaxis": "x",
           "y": [
            110.56951473652873
           ],
           "yaxis": "y",
           "type": "scatter"
          }
         ],
         "name": "1996"
        },
        {
         "data": [
          {
           "hovertemplate": "Anno=%{x}<br>Durata (minuti)=%{y}<extra></extra>",
           "legendgroup": "",
           "marker": {
            "color": "#636efa",
            "symbol": "circle"
           },
           "mode": "markers",
           "name": "",
           "orientation": "v",
           "showlegend": false,
           "x": [
            1997
           ],
           "xaxis": "x",
           "y": [
            107.71637591446257
           ],
           "yaxis": "y",
           "type": "scatter"
          }
         ],
         "name": "1997"
        },
        {
         "data": [
          {
           "hovertemplate": "Anno=%{x}<br>Durata (minuti)=%{y}<extra></extra>",
           "legendgroup": "",
           "marker": {
            "color": "#636efa",
            "symbol": "circle"
           },
           "mode": "markers",
           "name": "",
           "orientation": "v",
           "showlegend": false,
           "x": [
            1998
           ],
           "xaxis": "x",
           "y": [
            110.86058614078334
           ],
           "yaxis": "y",
           "type": "scatter"
          }
         ],
         "name": "1998"
        },
        {
         "data": [
          {
           "hovertemplate": "Anno=%{x}<br>Durata (minuti)=%{y}<extra></extra>",
           "legendgroup": "",
           "marker": {
            "color": "#636efa",
            "symbol": "circle"
           },
           "mode": "markers",
           "name": "",
           "orientation": "v",
           "showlegend": false,
           "x": [
            1999
           ],
           "xaxis": "x",
           "y": [
            107.0877239199157
           ],
           "yaxis": "y",
           "type": "scatter"
          }
         ],
         "name": "1999"
        },
        {
         "data": [
          {
           "hovertemplate": "Anno=%{x}<br>Durata (minuti)=%{y}<extra></extra>",
           "legendgroup": "",
           "marker": {
            "color": "#636efa",
            "symbol": "circle"
           },
           "mode": "markers",
           "name": "",
           "orientation": "v",
           "showlegend": false,
           "x": [
            2000
           ],
           "xaxis": "x",
           "y": [
            126.31523378582202
           ],
           "yaxis": "y",
           "type": "scatter"
          }
         ],
         "name": "2000"
        },
        {
         "data": [
          {
           "hovertemplate": "Anno=%{x}<br>Durata (minuti)=%{y}<extra></extra>",
           "legendgroup": "",
           "marker": {
            "color": "#636efa",
            "symbol": "circle"
           },
           "mode": "markers",
           "name": "",
           "orientation": "v",
           "showlegend": false,
           "x": [
            2001
           ],
           "xaxis": "x",
           "y": [
            110.19290051377861
           ],
           "yaxis": "y",
           "type": "scatter"
          }
         ],
         "name": "2001"
        },
        {
         "data": [
          {
           "hovertemplate": "Anno=%{x}<br>Durata (minuti)=%{y}<extra></extra>",
           "legendgroup": "",
           "marker": {
            "color": "#636efa",
            "symbol": "circle"
           },
           "mode": "markers",
           "name": "",
           "orientation": "v",
           "showlegend": false,
           "x": [
            2002
           ],
           "xaxis": "x",
           "y": [
            122.72074410555916
           ],
           "yaxis": "y",
           "type": "scatter"
          }
         ],
         "name": "2002"
        },
        {
         "data": [
          {
           "hovertemplate": "Anno=%{x}<br>Durata (minuti)=%{y}<extra></extra>",
           "legendgroup": "",
           "marker": {
            "color": "#636efa",
            "symbol": "circle"
           },
           "mode": "markers",
           "name": "",
           "orientation": "v",
           "showlegend": false,
           "x": [
            2003
           ],
           "xaxis": "x",
           "y": [
            113.46736550632912
           ],
           "yaxis": "y",
           "type": "scatter"
          }
         ],
         "name": "2003"
        },
        {
         "data": [
          {
           "hovertemplate": "Anno=%{x}<br>Durata (minuti)=%{y}<extra></extra>",
           "legendgroup": "",
           "marker": {
            "color": "#636efa",
            "symbol": "circle"
           },
           "mode": "markers",
           "name": "",
           "orientation": "v",
           "showlegend": false,
           "x": [
            2004
           ],
           "xaxis": "x",
           "y": [
            112.9774112585156
           ],
           "yaxis": "y",
           "type": "scatter"
          }
         ],
         "name": "2004"
        },
        {
         "data": [
          {
           "hovertemplate": "Anno=%{x}<br>Durata (minuti)=%{y}<extra></extra>",
           "legendgroup": "",
           "marker": {
            "color": "#636efa",
            "symbol": "circle"
           },
           "mode": "markers",
           "name": "",
           "orientation": "v",
           "showlegend": false,
           "x": [
            2005
           ],
           "xaxis": "x",
           "y": [
            111.07465392221489
           ],
           "yaxis": "y",
           "type": "scatter"
          }
         ],
         "name": "2005"
        },
        {
         "data": [
          {
           "hovertemplate": "Anno=%{x}<br>Durata (minuti)=%{y}<extra></extra>",
           "legendgroup": "",
           "marker": {
            "color": "#636efa",
            "symbol": "circle"
           },
           "mode": "markers",
           "name": "",
           "orientation": "v",
           "showlegend": false,
           "x": [
            2006
           ],
           "xaxis": "x",
           "y": [
            113.10122060136945
           ],
           "yaxis": "y",
           "type": "scatter"
          }
         ],
         "name": "2006"
        },
        {
         "data": [
          {
           "hovertemplate": "Anno=%{x}<br>Durata (minuti)=%{y}<extra></extra>",
           "legendgroup": "",
           "marker": {
            "color": "#636efa",
            "symbol": "circle"
           },
           "mode": "markers",
           "name": "",
           "orientation": "v",
           "showlegend": false,
           "x": [
            2007
           ],
           "xaxis": "x",
           "y": [
            110.39272986457591
           ],
           "yaxis": "y",
           "type": "scatter"
          }
         ],
         "name": "2007"
        },
        {
         "data": [
          {
           "hovertemplate": "Anno=%{x}<br>Durata (minuti)=%{y}<extra></extra>",
           "legendgroup": "",
           "marker": {
            "color": "#636efa",
            "symbol": "circle"
           },
           "mode": "markers",
           "name": "",
           "orientation": "v",
           "showlegend": false,
           "x": [
            2008
           ],
           "xaxis": "x",
           "y": [
            110.25751072961373
           ],
           "yaxis": "y",
           "type": "scatter"
          }
         ],
         "name": "2008"
        },
        {
         "data": [
          {
           "hovertemplate": "Anno=%{x}<br>Durata (minuti)=%{y}<extra></extra>",
           "legendgroup": "",
           "marker": {
            "color": "#636efa",
            "symbol": "circle"
           },
           "mode": "markers",
           "name": "",
           "orientation": "v",
           "showlegend": false,
           "x": [
            2009
           ],
           "xaxis": "x",
           "y": [
            109.44829342842588
           ],
           "yaxis": "y",
           "type": "scatter"
          }
         ],
         "name": "2009"
        },
        {
         "data": [
          {
           "hovertemplate": "Anno=%{x}<br>Durata (minuti)=%{y}<extra></extra>",
           "legendgroup": "",
           "marker": {
            "color": "#636efa",
            "symbol": "circle"
           },
           "mode": "markers",
           "name": "",
           "orientation": "v",
           "showlegend": false,
           "x": [
            2010
           ],
           "xaxis": "x",
           "y": [
            109.47137781287012
           ],
           "yaxis": "y",
           "type": "scatter"
          }
         ],
         "name": "2010"
        },
        {
         "data": [
          {
           "hovertemplate": "Anno=%{x}<br>Durata (minuti)=%{y}<extra></extra>",
           "legendgroup": "",
           "marker": {
            "color": "#636efa",
            "symbol": "circle"
           },
           "mode": "markers",
           "name": "",
           "orientation": "v",
           "showlegend": false,
           "x": [
            2011
           ],
           "xaxis": "x",
           "y": [
            118.10764467730412
           ],
           "yaxis": "y",
           "type": "scatter"
          }
         ],
         "name": "2011"
        },
        {
         "data": [
          {
           "hovertemplate": "Anno=%{x}<br>Durata (minuti)=%{y}<extra></extra>",
           "legendgroup": "",
           "marker": {
            "color": "#636efa",
            "symbol": "circle"
           },
           "mode": "markers",
           "name": "",
           "orientation": "v",
           "showlegend": false,
           "x": [
            2012
           ],
           "xaxis": "x",
           "y": [
            109.5838296933598
           ],
           "yaxis": "y",
           "type": "scatter"
          }
         ],
         "name": "2012"
        },
        {
         "data": [
          {
           "hovertemplate": "Anno=%{x}<br>Durata (minuti)=%{y}<extra></extra>",
           "legendgroup": "",
           "marker": {
            "color": "#636efa",
            "symbol": "circle"
           },
           "mode": "markers",
           "name": "",
           "orientation": "v",
           "showlegend": false,
           "x": [
            2013
           ],
           "xaxis": "x",
           "y": [
            108.97984732824428
           ],
           "yaxis": "y",
           "type": "scatter"
          }
         ],
         "name": "2013"
        },
        {
         "data": [
          {
           "hovertemplate": "Anno=%{x}<br>Durata (minuti)=%{y}<extra></extra>",
           "legendgroup": "",
           "marker": {
            "color": "#636efa",
            "symbol": "circle"
           },
           "mode": "markers",
           "name": "",
           "orientation": "v",
           "showlegend": false,
           "x": [
            2014
           ],
           "xaxis": "x",
           "y": [
            110.22397993633645
           ],
           "yaxis": "y",
           "type": "scatter"
          }
         ],
         "name": "2014"
        },
        {
         "data": [
          {
           "hovertemplate": "Anno=%{x}<br>Durata (minuti)=%{y}<extra></extra>",
           "legendgroup": "",
           "marker": {
            "color": "#636efa",
            "symbol": "circle"
           },
           "mode": "markers",
           "name": "",
           "orientation": "v",
           "showlegend": false,
           "x": [
            2015
           ],
           "xaxis": "x",
           "y": [
            110.12404021937843
           ],
           "yaxis": "y",
           "type": "scatter"
          }
         ],
         "name": "2015"
        },
        {
         "data": [
          {
           "hovertemplate": "Anno=%{x}<br>Durata (minuti)=%{y}<extra></extra>",
           "legendgroup": "",
           "marker": {
            "color": "#636efa",
            "symbol": "circle"
           },
           "mode": "markers",
           "name": "",
           "orientation": "v",
           "showlegend": false,
           "x": [
            2016
           ],
           "xaxis": "x",
           "y": [
            108.96777011092672
           ],
           "yaxis": "y",
           "type": "scatter"
          }
         ],
         "name": "2016"
        },
        {
         "data": [
          {
           "hovertemplate": "Anno=%{x}<br>Durata (minuti)=%{y}<extra></extra>",
           "legendgroup": "",
           "marker": {
            "color": "#636efa",
            "symbol": "circle"
           },
           "mode": "markers",
           "name": "",
           "orientation": "v",
           "showlegend": false,
           "x": [
            2017
           ],
           "xaxis": "x",
           "y": [
            113.27427030456853
           ],
           "yaxis": "y",
           "type": "scatter"
          }
         ],
         "name": "2017"
        },
        {
         "data": [
          {
           "hovertemplate": "Anno=%{x}<br>Durata (minuti)=%{y}<extra></extra>",
           "legendgroup": "",
           "marker": {
            "color": "#636efa",
            "symbol": "circle"
           },
           "mode": "markers",
           "name": "",
           "orientation": "v",
           "showlegend": false,
           "x": [
            2018
           ],
           "xaxis": "x",
           "y": [
            114.18436858511366
           ],
           "yaxis": "y",
           "type": "scatter"
          }
         ],
         "name": "2018"
        },
        {
         "data": [
          {
           "hovertemplate": "Anno=%{x}<br>Durata (minuti)=%{y}<extra></extra>",
           "legendgroup": "",
           "marker": {
            "color": "#636efa",
            "symbol": "circle"
           },
           "mode": "markers",
           "name": "",
           "orientation": "v",
           "showlegend": false,
           "x": [
            2019
           ],
           "xaxis": "x",
           "y": [
            115.46680663143415
           ],
           "yaxis": "y",
           "type": "scatter"
          }
         ],
         "name": "2019"
        },
        {
         "data": [
          {
           "hovertemplate": "Anno=%{x}<br>Durata (minuti)=%{y}<extra></extra>",
           "legendgroup": "",
           "marker": {
            "color": "#636efa",
            "symbol": "circle"
           },
           "mode": "markers",
           "name": "",
           "orientation": "v",
           "showlegend": false,
           "x": [
            2020
           ],
           "xaxis": "x",
           "y": [
            122.13995673156931
           ],
           "yaxis": "y",
           "type": "scatter"
          }
         ],
         "name": "2020"
        },
        {
         "data": [
          {
           "hovertemplate": "Anno=%{x}<br>Durata (minuti)=%{y}<extra></extra>",
           "legendgroup": "",
           "marker": {
            "color": "#636efa",
            "symbol": "circle"
           },
           "mode": "markers",
           "name": "",
           "orientation": "v",
           "showlegend": false,
           "x": [
            2021
           ],
           "xaxis": "x",
           "y": [
            124.56182357301705
           ],
           "yaxis": "y",
           "type": "scatter"
          }
         ],
         "name": "2021"
        },
        {
         "data": [
          {
           "hovertemplate": "Anno=%{x}<br>Durata (minuti)=%{y}<extra></extra>",
           "legendgroup": "",
           "marker": {
            "color": "#636efa",
            "symbol": "circle"
           },
           "mode": "markers",
           "name": "",
           "orientation": "v",
           "showlegend": false,
           "x": [
            2022
           ],
           "xaxis": "x",
           "y": [
            126.56186738277215
           ],
           "yaxis": "y",
           "type": "scatter"
          }
         ],
         "name": "2022"
        },
        {
         "data": [
          {
           "hovertemplate": "Anno=%{x}<br>Durata (minuti)=%{y}<extra></extra>",
           "legendgroup": "",
           "marker": {
            "color": "#636efa",
            "symbol": "circle"
           },
           "mode": "markers",
           "name": "",
           "orientation": "v",
           "showlegend": false,
           "x": [
            2023
           ],
           "xaxis": "x",
           "y": [
            123.30578186596584
           ],
           "yaxis": "y",
           "type": "scatter"
          }
         ],
         "name": "2023"
        },
        {
         "data": [
          {
           "hovertemplate": "Anno=%{x}<br>Durata (minuti)=%{y}<extra></extra>",
           "legendgroup": "",
           "marker": {
            "color": "#636efa",
            "symbol": "circle"
           },
           "mode": "markers",
           "name": "",
           "orientation": "v",
           "showlegend": false,
           "x": [
            2024
           ],
           "xaxis": "x",
           "y": [
            114.74294181874903
           ],
           "yaxis": "y",
           "type": "scatter"
          }
         ],
         "name": "2024"
        }
       ],
       "config": {
        "plotlyServerURL": "https://plot.ly"
       }
      },
      "text/html": [
       "<div>                            <div id=\"a8c3b5e8-4837-4491-933b-3b4c7a471aed\" class=\"plotly-graph-div\" style=\"height:525px; width:100%;\"></div>            <script type=\"text/javascript\">                require([\"plotly\"], function(Plotly) {                    window.PLOTLYENV=window.PLOTLYENV || {};                                    if (document.getElementById(\"a8c3b5e8-4837-4491-933b-3b4c7a471aed\")) {                    Plotly.newPlot(                        \"a8c3b5e8-4837-4491-933b-3b4c7a471aed\",                        [{\"hovertemplate\":\"Anno=%{x}\\u003cbr\\u003eDurata (minuti)=%{y}\\u003cextra\\u003e\\u003c\\u002fextra\\u003e\",\"legendgroup\":\"\",\"marker\":{\"color\":\"blue\",\"symbol\":\"circle\",\"size\":15},\"mode\":\"lines+markers\",\"name\":\"\",\"orientation\":\"v\",\"showlegend\":false,\"x\":[1899],\"xaxis\":\"x\",\"y\":[135.0],\"yaxis\":\"y\",\"type\":\"scatter\"},{\"line\":{\"color\":\"gray\",\"width\":2},\"mode\":\"lines\",\"showlegend\":false,\"x\":[1899,1900,1903,1904,1906,1907,1908,1910,1911,1912,1913,1914,1915,1916,1917,1918,1919,1920,1921,1922,1923,1924,1925,1926,1927,1928,1929,1930,1931,1932,1933,1934,1935,1936,1937,1938,1939,1940,1941,1942,1943,1944,1945,1946,1947,1948,1949,1950,1951,1952,1953,1954,1955,1956,1957,1958,1959,1960,1961,1962,1963,1964,1965,1966,1967,1968,1969,1970,1971,1972,1973,1974,1975,1976,1977,1978,1979,1980,1981,1982,1983,1984,1985,1986,1987,1988,1989,1990,1991,1992,1993,1994,1995,1996,1997,1998,1999,2000,2001,2002,2003,2004,2005,2006,2007,2008,2009,2010,2011,2012,2013,2014,2015,2016,2017,2018,2019,2020,2021,2022,2023,2024],\"y\":[135.0,79.0,120.0,70.0,87.5,155.0,135.5,85.6,87.6,94.15384615384616,98.16,113.02702702702703,110.475,105.3953488372093,96.72560975609755,96.05590062111801,94.15300546448087,92.46190476190476,92.24663677130044,92.18518518518519,90.70671378091873,86.14939024390245,86.96378830083566,85.17937219730942,88.3082191780822,89.322,86.12100840336134,82.57461645746164,82.26593137254902,81.8508353221957,81.5223880597015,83.25782092772384,82.91897654584221,83.7385554425229,85.88418932527694,86.73838383838384,87.22052845528455,87.63296703296703,89.63856812933025,89.06394707828004,89.60551558752998,90.38719068413391,89.61014492753623,90.20663265306122,90.26564344746163,90.59194776931447,91.48095238095237,91.88568935427574,92.3937074829932,92.83817427385893,93.00321027287319,94.50657385924207,94.32639885222382,93.4985754985755,92.72005124919923,93.52200867947923,94.49937185929649,97.27020357803825,94.8447971781305,95.74120879120879,95.92389270118528,98.23103448275862,97.85435267857143,97.09619565217392,101.52128712871287,99.0973731884058,98.2080276219249,96.63133640552995,99.66666666666667,100.0909090909091,103.97878086419753,104.06048703849176,102.67215137803373,104.76747967479675,105.97644710578842,115.2308584686775,107.41827448125227,111.47783783783784,108.03630363036304,108.87152411122844,108.9159106769016,107.73955857385398,110.80942480942481,107.36075742735879,107.54059097978227,106.64839203675345,107.43326488706366,105.22756981580511,107.51730531520396,107.313200498132,108.52513966480447,107.27997546764796,108.11859838274933,110.56951473652873,107.71637591446257,110.86058614078334,107.0877239199157,126.31523378582202,110.19290051377861,122.72074410555916,113.46736550632912,112.9774112585156,111.07465392221489,113.10122060136945,110.39272986457591,110.25751072961373,109.44829342842588,109.47137781287012,118.10764467730412,109.5838296933598,108.97984732824428,110.22397993633645,110.12404021937843,108.96777011092672,113.27427030456853,114.18436858511366,115.46680663143415,122.13995673156931,124.56182357301705,126.56186738277215,123.30578186596584,114.74294181874903],\"type\":\"scatter\"}],                        {\"template\":{\"data\":{\"histogram2dcontour\":[{\"type\":\"histogram2dcontour\",\"colorbar\":{\"outlinewidth\":0,\"ticks\":\"\"},\"colorscale\":[[0.0,\"#0d0887\"],[0.1111111111111111,\"#46039f\"],[0.2222222222222222,\"#7201a8\"],[0.3333333333333333,\"#9c179e\"],[0.4444444444444444,\"#bd3786\"],[0.5555555555555556,\"#d8576b\"],[0.6666666666666666,\"#ed7953\"],[0.7777777777777778,\"#fb9f3a\"],[0.8888888888888888,\"#fdca26\"],[1.0,\"#f0f921\"]]}],\"choropleth\":[{\"type\":\"choropleth\",\"colorbar\":{\"outlinewidth\":0,\"ticks\":\"\"}}],\"histogram2d\":[{\"type\":\"histogram2d\",\"colorbar\":{\"outlinewidth\":0,\"ticks\":\"\"},\"colorscale\":[[0.0,\"#0d0887\"],[0.1111111111111111,\"#46039f\"],[0.2222222222222222,\"#7201a8\"],[0.3333333333333333,\"#9c179e\"],[0.4444444444444444,\"#bd3786\"],[0.5555555555555556,\"#d8576b\"],[0.6666666666666666,\"#ed7953\"],[0.7777777777777778,\"#fb9f3a\"],[0.8888888888888888,\"#fdca26\"],[1.0,\"#f0f921\"]]}],\"heatmap\":[{\"type\":\"heatmap\",\"colorbar\":{\"outlinewidth\":0,\"ticks\":\"\"},\"colorscale\":[[0.0,\"#0d0887\"],[0.1111111111111111,\"#46039f\"],[0.2222222222222222,\"#7201a8\"],[0.3333333333333333,\"#9c179e\"],[0.4444444444444444,\"#bd3786\"],[0.5555555555555556,\"#d8576b\"],[0.6666666666666666,\"#ed7953\"],[0.7777777777777778,\"#fb9f3a\"],[0.8888888888888888,\"#fdca26\"],[1.0,\"#f0f921\"]]}],\"heatmapgl\":[{\"type\":\"heatmapgl\",\"colorbar\":{\"outlinewidth\":0,\"ticks\":\"\"},\"colorscale\":[[0.0,\"#0d0887\"],[0.1111111111111111,\"#46039f\"],[0.2222222222222222,\"#7201a8\"],[0.3333333333333333,\"#9c179e\"],[0.4444444444444444,\"#bd3786\"],[0.5555555555555556,\"#d8576b\"],[0.6666666666666666,\"#ed7953\"],[0.7777777777777778,\"#fb9f3a\"],[0.8888888888888888,\"#fdca26\"],[1.0,\"#f0f921\"]]}],\"contourcarpet\":[{\"type\":\"contourcarpet\",\"colorbar\":{\"outlinewidth\":0,\"ticks\":\"\"}}],\"contour\":[{\"type\":\"contour\",\"colorbar\":{\"outlinewidth\":0,\"ticks\":\"\"},\"colorscale\":[[0.0,\"#0d0887\"],[0.1111111111111111,\"#46039f\"],[0.2222222222222222,\"#7201a8\"],[0.3333333333333333,\"#9c179e\"],[0.4444444444444444,\"#bd3786\"],[0.5555555555555556,\"#d8576b\"],[0.6666666666666666,\"#ed7953\"],[0.7777777777777778,\"#fb9f3a\"],[0.8888888888888888,\"#fdca26\"],[1.0,\"#f0f921\"]]}],\"surface\":[{\"type\":\"surface\",\"colorbar\":{\"outlinewidth\":0,\"ticks\":\"\"},\"colorscale\":[[0.0,\"#0d0887\"],[0.1111111111111111,\"#46039f\"],[0.2222222222222222,\"#7201a8\"],[0.3333333333333333,\"#9c179e\"],[0.4444444444444444,\"#bd3786\"],[0.5555555555555556,\"#d8576b\"],[0.6666666666666666,\"#ed7953\"],[0.7777777777777778,\"#fb9f3a\"],[0.8888888888888888,\"#fdca26\"],[1.0,\"#f0f921\"]]}],\"mesh3d\":[{\"type\":\"mesh3d\",\"colorbar\":{\"outlinewidth\":0,\"ticks\":\"\"}}],\"scatter\":[{\"marker\":{\"line\":{\"color\":\"#283442\"}},\"type\":\"scatter\"}],\"parcoords\":[{\"type\":\"parcoords\",\"line\":{\"colorbar\":{\"outlinewidth\":0,\"ticks\":\"\"}}}],\"scatterpolargl\":[{\"type\":\"scatterpolargl\",\"marker\":{\"colorbar\":{\"outlinewidth\":0,\"ticks\":\"\"}}}],\"bar\":[{\"error_x\":{\"color\":\"#f2f5fa\"},\"error_y\":{\"color\":\"#f2f5fa\"},\"marker\":{\"line\":{\"color\":\"rgb(17,17,17)\",\"width\":0.5},\"pattern\":{\"fillmode\":\"overlay\",\"size\":10,\"solidity\":0.2}},\"type\":\"bar\"}],\"scattergeo\":[{\"type\":\"scattergeo\",\"marker\":{\"colorbar\":{\"outlinewidth\":0,\"ticks\":\"\"}}}],\"scatterpolar\":[{\"type\":\"scatterpolar\",\"marker\":{\"colorbar\":{\"outlinewidth\":0,\"ticks\":\"\"}}}],\"histogram\":[{\"marker\":{\"pattern\":{\"fillmode\":\"overlay\",\"size\":10,\"solidity\":0.2}},\"type\":\"histogram\"}],\"scattergl\":[{\"marker\":{\"line\":{\"color\":\"#283442\"}},\"type\":\"scattergl\"}],\"scatter3d\":[{\"type\":\"scatter3d\",\"line\":{\"colorbar\":{\"outlinewidth\":0,\"ticks\":\"\"}},\"marker\":{\"colorbar\":{\"outlinewidth\":0,\"ticks\":\"\"}}}],\"scattermapbox\":[{\"type\":\"scattermapbox\",\"marker\":{\"colorbar\":{\"outlinewidth\":0,\"ticks\":\"\"}}}],\"scatterternary\":[{\"type\":\"scatterternary\",\"marker\":{\"colorbar\":{\"outlinewidth\":0,\"ticks\":\"\"}}}],\"scattercarpet\":[{\"type\":\"scattercarpet\",\"marker\":{\"colorbar\":{\"outlinewidth\":0,\"ticks\":\"\"}}}],\"carpet\":[{\"aaxis\":{\"endlinecolor\":\"#A2B1C6\",\"gridcolor\":\"#506784\",\"linecolor\":\"#506784\",\"minorgridcolor\":\"#506784\",\"startlinecolor\":\"#A2B1C6\"},\"baxis\":{\"endlinecolor\":\"#A2B1C6\",\"gridcolor\":\"#506784\",\"linecolor\":\"#506784\",\"minorgridcolor\":\"#506784\",\"startlinecolor\":\"#A2B1C6\"},\"type\":\"carpet\"}],\"table\":[{\"cells\":{\"fill\":{\"color\":\"#506784\"},\"line\":{\"color\":\"rgb(17,17,17)\"}},\"header\":{\"fill\":{\"color\":\"#2a3f5f\"},\"line\":{\"color\":\"rgb(17,17,17)\"}},\"type\":\"table\"}],\"barpolar\":[{\"marker\":{\"line\":{\"color\":\"rgb(17,17,17)\",\"width\":0.5},\"pattern\":{\"fillmode\":\"overlay\",\"size\":10,\"solidity\":0.2}},\"type\":\"barpolar\"}],\"pie\":[{\"automargin\":true,\"type\":\"pie\"}]},\"layout\":{\"autotypenumbers\":\"strict\",\"colorway\":[\"#636efa\",\"#EF553B\",\"#00cc96\",\"#ab63fa\",\"#FFA15A\",\"#19d3f3\",\"#FF6692\",\"#B6E880\",\"#FF97FF\",\"#FECB52\"],\"font\":{\"color\":\"#f2f5fa\"},\"hovermode\":\"closest\",\"hoverlabel\":{\"align\":\"left\"},\"paper_bgcolor\":\"rgb(17,17,17)\",\"plot_bgcolor\":\"rgb(17,17,17)\",\"polar\":{\"bgcolor\":\"rgb(17,17,17)\",\"angularaxis\":{\"gridcolor\":\"#506784\",\"linecolor\":\"#506784\",\"ticks\":\"\"},\"radialaxis\":{\"gridcolor\":\"#506784\",\"linecolor\":\"#506784\",\"ticks\":\"\"}},\"ternary\":{\"bgcolor\":\"rgb(17,17,17)\",\"aaxis\":{\"gridcolor\":\"#506784\",\"linecolor\":\"#506784\",\"ticks\":\"\"},\"baxis\":{\"gridcolor\":\"#506784\",\"linecolor\":\"#506784\",\"ticks\":\"\"},\"caxis\":{\"gridcolor\":\"#506784\",\"linecolor\":\"#506784\",\"ticks\":\"\"}},\"coloraxis\":{\"colorbar\":{\"outlinewidth\":0,\"ticks\":\"\"}},\"colorscale\":{\"sequential\":[[0.0,\"#0d0887\"],[0.1111111111111111,\"#46039f\"],[0.2222222222222222,\"#7201a8\"],[0.3333333333333333,\"#9c179e\"],[0.4444444444444444,\"#bd3786\"],[0.5555555555555556,\"#d8576b\"],[0.6666666666666666,\"#ed7953\"],[0.7777777777777778,\"#fb9f3a\"],[0.8888888888888888,\"#fdca26\"],[1.0,\"#f0f921\"]],\"sequentialminus\":[[0.0,\"#0d0887\"],[0.1111111111111111,\"#46039f\"],[0.2222222222222222,\"#7201a8\"],[0.3333333333333333,\"#9c179e\"],[0.4444444444444444,\"#bd3786\"],[0.5555555555555556,\"#d8576b\"],[0.6666666666666666,\"#ed7953\"],[0.7777777777777778,\"#fb9f3a\"],[0.8888888888888888,\"#fdca26\"],[1.0,\"#f0f921\"]],\"diverging\":[[0,\"#8e0152\"],[0.1,\"#c51b7d\"],[0.2,\"#de77ae\"],[0.3,\"#f1b6da\"],[0.4,\"#fde0ef\"],[0.5,\"#f7f7f7\"],[0.6,\"#e6f5d0\"],[0.7,\"#b8e186\"],[0.8,\"#7fbc41\"],[0.9,\"#4d9221\"],[1,\"#276419\"]]},\"xaxis\":{\"gridcolor\":\"#283442\",\"linecolor\":\"#506784\",\"ticks\":\"\",\"title\":{\"standoff\":15},\"zerolinecolor\":\"#283442\",\"automargin\":true,\"zerolinewidth\":2},\"yaxis\":{\"gridcolor\":\"#283442\",\"linecolor\":\"#506784\",\"ticks\":\"\",\"title\":{\"standoff\":15},\"zerolinecolor\":\"#283442\",\"automargin\":true,\"zerolinewidth\":2},\"scene\":{\"xaxis\":{\"backgroundcolor\":\"rgb(17,17,17)\",\"gridcolor\":\"#506784\",\"linecolor\":\"#506784\",\"showbackground\":true,\"ticks\":\"\",\"zerolinecolor\":\"#C8D4E3\",\"gridwidth\":2},\"yaxis\":{\"backgroundcolor\":\"rgb(17,17,17)\",\"gridcolor\":\"#506784\",\"linecolor\":\"#506784\",\"showbackground\":true,\"ticks\":\"\",\"zerolinecolor\":\"#C8D4E3\",\"gridwidth\":2},\"zaxis\":{\"backgroundcolor\":\"rgb(17,17,17)\",\"gridcolor\":\"#506784\",\"linecolor\":\"#506784\",\"showbackground\":true,\"ticks\":\"\",\"zerolinecolor\":\"#C8D4E3\",\"gridwidth\":2}},\"shapedefaults\":{\"line\":{\"color\":\"#f2f5fa\"}},\"annotationdefaults\":{\"arrowcolor\":\"#f2f5fa\",\"arrowhead\":0,\"arrowwidth\":1},\"geo\":{\"bgcolor\":\"rgb(17,17,17)\",\"landcolor\":\"rgb(17,17,17)\",\"subunitcolor\":\"#506784\",\"showland\":true,\"showlakes\":true,\"lakecolor\":\"rgb(17,17,17)\"},\"title\":{\"x\":0.05},\"updatemenudefaults\":{\"bgcolor\":\"#506784\",\"borderwidth\":0},\"sliderdefaults\":{\"bgcolor\":\"#C8D4E3\",\"borderwidth\":1,\"bordercolor\":\"rgb(17,17,17)\",\"tickwidth\":0},\"mapbox\":{\"style\":\"dark\"}}},\"xaxis\":{\"anchor\":\"y\",\"domain\":[0.0,1.0],\"title\":{\"text\":\"Anno\"},\"range\":[1899,2024],\"categoryorder\":\"array\",\"categoryarray\":[1899,1900,1903,1904,1906,1907,1908,1910,1911,1912,1913,1914,1915,1916,1917,1918,1919,1920,1921,1922,1923,1924,1925,1926,1927,1928,1929,1930,1931,1932,1933,1934,1935,1936,1937,1938,1939,1940,1941,1942,1943,1944,1945,1946,1947,1948,1949,1950,1951,1952,1953,1954,1955,1956,1957,1958,1959,1960,1961,1962,1963,1964,1965,1966,1967,1968,1969,1970,1971,1972,1973,1974,1975,1976,1977,1978,1979,1980,1981,1982,1983,1984,1985,1986,1987,1988,1989,1990,1991,1992,1993,1994,1995,1996,1997,1998,1999,2000,2001,2002,2003,2004,2005,2006,2007,2008,2009,2010,2011,2012,2013,2014,2015,2016,2017,2018,2019,2020,2021,2022,2023,2024]},\"yaxis\":{\"anchor\":\"x\",\"domain\":[0.0,1.0],\"title\":{\"text\":\"Durata (minuti)\"},\"range\":[60,160]},\"legend\":{\"tracegroupgap\":0},\"title\":{\"text\":\"Evoluzione della lunghezza dei film negli anni\"},\"updatemenus\":[{\"buttons\":[{\"args\":[null,{\"frame\":{\"duration\":500,\"redraw\":false},\"mode\":\"immediate\",\"fromcurrent\":true,\"transition\":{\"duration\":500,\"easing\":\"linear\"}}],\"label\":\"&#9654;\",\"method\":\"animate\"},{\"args\":[[null],{\"frame\":{\"duration\":0,\"redraw\":false},\"mode\":\"immediate\",\"fromcurrent\":true,\"transition\":{\"duration\":0,\"easing\":\"linear\"}}],\"label\":\"&#9724;\",\"method\":\"animate\"}],\"direction\":\"left\",\"pad\":{\"r\":10,\"t\":70},\"showactive\":false,\"type\":\"buttons\",\"x\":0.1,\"xanchor\":\"right\",\"y\":0,\"yanchor\":\"top\"}],\"sliders\":[{\"active\":0,\"currentvalue\":{\"prefix\":\"Anno=\"},\"len\":0.9,\"pad\":{\"b\":10,\"t\":60},\"steps\":[{\"args\":[[\"1899\"],{\"frame\":{\"duration\":0,\"redraw\":false},\"mode\":\"immediate\",\"fromcurrent\":true,\"transition\":{\"duration\":0,\"easing\":\"linear\"}}],\"label\":\"1899\",\"method\":\"animate\"},{\"args\":[[\"1900\"],{\"frame\":{\"duration\":0,\"redraw\":false},\"mode\":\"immediate\",\"fromcurrent\":true,\"transition\":{\"duration\":0,\"easing\":\"linear\"}}],\"label\":\"1900\",\"method\":\"animate\"},{\"args\":[[\"1903\"],{\"frame\":{\"duration\":0,\"redraw\":false},\"mode\":\"immediate\",\"fromcurrent\":true,\"transition\":{\"duration\":0,\"easing\":\"linear\"}}],\"label\":\"1903\",\"method\":\"animate\"},{\"args\":[[\"1904\"],{\"frame\":{\"duration\":0,\"redraw\":false},\"mode\":\"immediate\",\"fromcurrent\":true,\"transition\":{\"duration\":0,\"easing\":\"linear\"}}],\"label\":\"1904\",\"method\":\"animate\"},{\"args\":[[\"1906\"],{\"frame\":{\"duration\":0,\"redraw\":false},\"mode\":\"immediate\",\"fromcurrent\":true,\"transition\":{\"duration\":0,\"easing\":\"linear\"}}],\"label\":\"1906\",\"method\":\"animate\"},{\"args\":[[\"1907\"],{\"frame\":{\"duration\":0,\"redraw\":false},\"mode\":\"immediate\",\"fromcurrent\":true,\"transition\":{\"duration\":0,\"easing\":\"linear\"}}],\"label\":\"1907\",\"method\":\"animate\"},{\"args\":[[\"1908\"],{\"frame\":{\"duration\":0,\"redraw\":false},\"mode\":\"immediate\",\"fromcurrent\":true,\"transition\":{\"duration\":0,\"easing\":\"linear\"}}],\"label\":\"1908\",\"method\":\"animate\"},{\"args\":[[\"1910\"],{\"frame\":{\"duration\":0,\"redraw\":false},\"mode\":\"immediate\",\"fromcurrent\":true,\"transition\":{\"duration\":0,\"easing\":\"linear\"}}],\"label\":\"1910\",\"method\":\"animate\"},{\"args\":[[\"1911\"],{\"frame\":{\"duration\":0,\"redraw\":false},\"mode\":\"immediate\",\"fromcurrent\":true,\"transition\":{\"duration\":0,\"easing\":\"linear\"}}],\"label\":\"1911\",\"method\":\"animate\"},{\"args\":[[\"1912\"],{\"frame\":{\"duration\":0,\"redraw\":false},\"mode\":\"immediate\",\"fromcurrent\":true,\"transition\":{\"duration\":0,\"easing\":\"linear\"}}],\"label\":\"1912\",\"method\":\"animate\"},{\"args\":[[\"1913\"],{\"frame\":{\"duration\":0,\"redraw\":false},\"mode\":\"immediate\",\"fromcurrent\":true,\"transition\":{\"duration\":0,\"easing\":\"linear\"}}],\"label\":\"1913\",\"method\":\"animate\"},{\"args\":[[\"1914\"],{\"frame\":{\"duration\":0,\"redraw\":false},\"mode\":\"immediate\",\"fromcurrent\":true,\"transition\":{\"duration\":0,\"easing\":\"linear\"}}],\"label\":\"1914\",\"method\":\"animate\"},{\"args\":[[\"1915\"],{\"frame\":{\"duration\":0,\"redraw\":false},\"mode\":\"immediate\",\"fromcurrent\":true,\"transition\":{\"duration\":0,\"easing\":\"linear\"}}],\"label\":\"1915\",\"method\":\"animate\"},{\"args\":[[\"1916\"],{\"frame\":{\"duration\":0,\"redraw\":false},\"mode\":\"immediate\",\"fromcurrent\":true,\"transition\":{\"duration\":0,\"easing\":\"linear\"}}],\"label\":\"1916\",\"method\":\"animate\"},{\"args\":[[\"1917\"],{\"frame\":{\"duration\":0,\"redraw\":false},\"mode\":\"immediate\",\"fromcurrent\":true,\"transition\":{\"duration\":0,\"easing\":\"linear\"}}],\"label\":\"1917\",\"method\":\"animate\"},{\"args\":[[\"1918\"],{\"frame\":{\"duration\":0,\"redraw\":false},\"mode\":\"immediate\",\"fromcurrent\":true,\"transition\":{\"duration\":0,\"easing\":\"linear\"}}],\"label\":\"1918\",\"method\":\"animate\"},{\"args\":[[\"1919\"],{\"frame\":{\"duration\":0,\"redraw\":false},\"mode\":\"immediate\",\"fromcurrent\":true,\"transition\":{\"duration\":0,\"easing\":\"linear\"}}],\"label\":\"1919\",\"method\":\"animate\"},{\"args\":[[\"1920\"],{\"frame\":{\"duration\":0,\"redraw\":false},\"mode\":\"immediate\",\"fromcurrent\":true,\"transition\":{\"duration\":0,\"easing\":\"linear\"}}],\"label\":\"1920\",\"method\":\"animate\"},{\"args\":[[\"1921\"],{\"frame\":{\"duration\":0,\"redraw\":false},\"mode\":\"immediate\",\"fromcurrent\":true,\"transition\":{\"duration\":0,\"easing\":\"linear\"}}],\"label\":\"1921\",\"method\":\"animate\"},{\"args\":[[\"1922\"],{\"frame\":{\"duration\":0,\"redraw\":false},\"mode\":\"immediate\",\"fromcurrent\":true,\"transition\":{\"duration\":0,\"easing\":\"linear\"}}],\"label\":\"1922\",\"method\":\"animate\"},{\"args\":[[\"1923\"],{\"frame\":{\"duration\":0,\"redraw\":false},\"mode\":\"immediate\",\"fromcurrent\":true,\"transition\":{\"duration\":0,\"easing\":\"linear\"}}],\"label\":\"1923\",\"method\":\"animate\"},{\"args\":[[\"1924\"],{\"frame\":{\"duration\":0,\"redraw\":false},\"mode\":\"immediate\",\"fromcurrent\":true,\"transition\":{\"duration\":0,\"easing\":\"linear\"}}],\"label\":\"1924\",\"method\":\"animate\"},{\"args\":[[\"1925\"],{\"frame\":{\"duration\":0,\"redraw\":false},\"mode\":\"immediate\",\"fromcurrent\":true,\"transition\":{\"duration\":0,\"easing\":\"linear\"}}],\"label\":\"1925\",\"method\":\"animate\"},{\"args\":[[\"1926\"],{\"frame\":{\"duration\":0,\"redraw\":false},\"mode\":\"immediate\",\"fromcurrent\":true,\"transition\":{\"duration\":0,\"easing\":\"linear\"}}],\"label\":\"1926\",\"method\":\"animate\"},{\"args\":[[\"1927\"],{\"frame\":{\"duration\":0,\"redraw\":false},\"mode\":\"immediate\",\"fromcurrent\":true,\"transition\":{\"duration\":0,\"easing\":\"linear\"}}],\"label\":\"1927\",\"method\":\"animate\"},{\"args\":[[\"1928\"],{\"frame\":{\"duration\":0,\"redraw\":false},\"mode\":\"immediate\",\"fromcurrent\":true,\"transition\":{\"duration\":0,\"easing\":\"linear\"}}],\"label\":\"1928\",\"method\":\"animate\"},{\"args\":[[\"1929\"],{\"frame\":{\"duration\":0,\"redraw\":false},\"mode\":\"immediate\",\"fromcurrent\":true,\"transition\":{\"duration\":0,\"easing\":\"linear\"}}],\"label\":\"1929\",\"method\":\"animate\"},{\"args\":[[\"1930\"],{\"frame\":{\"duration\":0,\"redraw\":false},\"mode\":\"immediate\",\"fromcurrent\":true,\"transition\":{\"duration\":0,\"easing\":\"linear\"}}],\"label\":\"1930\",\"method\":\"animate\"},{\"args\":[[\"1931\"],{\"frame\":{\"duration\":0,\"redraw\":false},\"mode\":\"immediate\",\"fromcurrent\":true,\"transition\":{\"duration\":0,\"easing\":\"linear\"}}],\"label\":\"1931\",\"method\":\"animate\"},{\"args\":[[\"1932\"],{\"frame\":{\"duration\":0,\"redraw\":false},\"mode\":\"immediate\",\"fromcurrent\":true,\"transition\":{\"duration\":0,\"easing\":\"linear\"}}],\"label\":\"1932\",\"method\":\"animate\"},{\"args\":[[\"1933\"],{\"frame\":{\"duration\":0,\"redraw\":false},\"mode\":\"immediate\",\"fromcurrent\":true,\"transition\":{\"duration\":0,\"easing\":\"linear\"}}],\"label\":\"1933\",\"method\":\"animate\"},{\"args\":[[\"1934\"],{\"frame\":{\"duration\":0,\"redraw\":false},\"mode\":\"immediate\",\"fromcurrent\":true,\"transition\":{\"duration\":0,\"easing\":\"linear\"}}],\"label\":\"1934\",\"method\":\"animate\"},{\"args\":[[\"1935\"],{\"frame\":{\"duration\":0,\"redraw\":false},\"mode\":\"immediate\",\"fromcurrent\":true,\"transition\":{\"duration\":0,\"easing\":\"linear\"}}],\"label\":\"1935\",\"method\":\"animate\"},{\"args\":[[\"1936\"],{\"frame\":{\"duration\":0,\"redraw\":false},\"mode\":\"immediate\",\"fromcurrent\":true,\"transition\":{\"duration\":0,\"easing\":\"linear\"}}],\"label\":\"1936\",\"method\":\"animate\"},{\"args\":[[\"1937\"],{\"frame\":{\"duration\":0,\"redraw\":false},\"mode\":\"immediate\",\"fromcurrent\":true,\"transition\":{\"duration\":0,\"easing\":\"linear\"}}],\"label\":\"1937\",\"method\":\"animate\"},{\"args\":[[\"1938\"],{\"frame\":{\"duration\":0,\"redraw\":false},\"mode\":\"immediate\",\"fromcurrent\":true,\"transition\":{\"duration\":0,\"easing\":\"linear\"}}],\"label\":\"1938\",\"method\":\"animate\"},{\"args\":[[\"1939\"],{\"frame\":{\"duration\":0,\"redraw\":false},\"mode\":\"immediate\",\"fromcurrent\":true,\"transition\":{\"duration\":0,\"easing\":\"linear\"}}],\"label\":\"1939\",\"method\":\"animate\"},{\"args\":[[\"1940\"],{\"frame\":{\"duration\":0,\"redraw\":false},\"mode\":\"immediate\",\"fromcurrent\":true,\"transition\":{\"duration\":0,\"easing\":\"linear\"}}],\"label\":\"1940\",\"method\":\"animate\"},{\"args\":[[\"1941\"],{\"frame\":{\"duration\":0,\"redraw\":false},\"mode\":\"immediate\",\"fromcurrent\":true,\"transition\":{\"duration\":0,\"easing\":\"linear\"}}],\"label\":\"1941\",\"method\":\"animate\"},{\"args\":[[\"1942\"],{\"frame\":{\"duration\":0,\"redraw\":false},\"mode\":\"immediate\",\"fromcurrent\":true,\"transition\":{\"duration\":0,\"easing\":\"linear\"}}],\"label\":\"1942\",\"method\":\"animate\"},{\"args\":[[\"1943\"],{\"frame\":{\"duration\":0,\"redraw\":false},\"mode\":\"immediate\",\"fromcurrent\":true,\"transition\":{\"duration\":0,\"easing\":\"linear\"}}],\"label\":\"1943\",\"method\":\"animate\"},{\"args\":[[\"1944\"],{\"frame\":{\"duration\":0,\"redraw\":false},\"mode\":\"immediate\",\"fromcurrent\":true,\"transition\":{\"duration\":0,\"easing\":\"linear\"}}],\"label\":\"1944\",\"method\":\"animate\"},{\"args\":[[\"1945\"],{\"frame\":{\"duration\":0,\"redraw\":false},\"mode\":\"immediate\",\"fromcurrent\":true,\"transition\":{\"duration\":0,\"easing\":\"linear\"}}],\"label\":\"1945\",\"method\":\"animate\"},{\"args\":[[\"1946\"],{\"frame\":{\"duration\":0,\"redraw\":false},\"mode\":\"immediate\",\"fromcurrent\":true,\"transition\":{\"duration\":0,\"easing\":\"linear\"}}],\"label\":\"1946\",\"method\":\"animate\"},{\"args\":[[\"1947\"],{\"frame\":{\"duration\":0,\"redraw\":false},\"mode\":\"immediate\",\"fromcurrent\":true,\"transition\":{\"duration\":0,\"easing\":\"linear\"}}],\"label\":\"1947\",\"method\":\"animate\"},{\"args\":[[\"1948\"],{\"frame\":{\"duration\":0,\"redraw\":false},\"mode\":\"immediate\",\"fromcurrent\":true,\"transition\":{\"duration\":0,\"easing\":\"linear\"}}],\"label\":\"1948\",\"method\":\"animate\"},{\"args\":[[\"1949\"],{\"frame\":{\"duration\":0,\"redraw\":false},\"mode\":\"immediate\",\"fromcurrent\":true,\"transition\":{\"duration\":0,\"easing\":\"linear\"}}],\"label\":\"1949\",\"method\":\"animate\"},{\"args\":[[\"1950\"],{\"frame\":{\"duration\":0,\"redraw\":false},\"mode\":\"immediate\",\"fromcurrent\":true,\"transition\":{\"duration\":0,\"easing\":\"linear\"}}],\"label\":\"1950\",\"method\":\"animate\"},{\"args\":[[\"1951\"],{\"frame\":{\"duration\":0,\"redraw\":false},\"mode\":\"immediate\",\"fromcurrent\":true,\"transition\":{\"duration\":0,\"easing\":\"linear\"}}],\"label\":\"1951\",\"method\":\"animate\"},{\"args\":[[\"1952\"],{\"frame\":{\"duration\":0,\"redraw\":false},\"mode\":\"immediate\",\"fromcurrent\":true,\"transition\":{\"duration\":0,\"easing\":\"linear\"}}],\"label\":\"1952\",\"method\":\"animate\"},{\"args\":[[\"1953\"],{\"frame\":{\"duration\":0,\"redraw\":false},\"mode\":\"immediate\",\"fromcurrent\":true,\"transition\":{\"duration\":0,\"easing\":\"linear\"}}],\"label\":\"1953\",\"method\":\"animate\"},{\"args\":[[\"1954\"],{\"frame\":{\"duration\":0,\"redraw\":false},\"mode\":\"immediate\",\"fromcurrent\":true,\"transition\":{\"duration\":0,\"easing\":\"linear\"}}],\"label\":\"1954\",\"method\":\"animate\"},{\"args\":[[\"1955\"],{\"frame\":{\"duration\":0,\"redraw\":false},\"mode\":\"immediate\",\"fromcurrent\":true,\"transition\":{\"duration\":0,\"easing\":\"linear\"}}],\"label\":\"1955\",\"method\":\"animate\"},{\"args\":[[\"1956\"],{\"frame\":{\"duration\":0,\"redraw\":false},\"mode\":\"immediate\",\"fromcurrent\":true,\"transition\":{\"duration\":0,\"easing\":\"linear\"}}],\"label\":\"1956\",\"method\":\"animate\"},{\"args\":[[\"1957\"],{\"frame\":{\"duration\":0,\"redraw\":false},\"mode\":\"immediate\",\"fromcurrent\":true,\"transition\":{\"duration\":0,\"easing\":\"linear\"}}],\"label\":\"1957\",\"method\":\"animate\"},{\"args\":[[\"1958\"],{\"frame\":{\"duration\":0,\"redraw\":false},\"mode\":\"immediate\",\"fromcurrent\":true,\"transition\":{\"duration\":0,\"easing\":\"linear\"}}],\"label\":\"1958\",\"method\":\"animate\"},{\"args\":[[\"1959\"],{\"frame\":{\"duration\":0,\"redraw\":false},\"mode\":\"immediate\",\"fromcurrent\":true,\"transition\":{\"duration\":0,\"easing\":\"linear\"}}],\"label\":\"1959\",\"method\":\"animate\"},{\"args\":[[\"1960\"],{\"frame\":{\"duration\":0,\"redraw\":false},\"mode\":\"immediate\",\"fromcurrent\":true,\"transition\":{\"duration\":0,\"easing\":\"linear\"}}],\"label\":\"1960\",\"method\":\"animate\"},{\"args\":[[\"1961\"],{\"frame\":{\"duration\":0,\"redraw\":false},\"mode\":\"immediate\",\"fromcurrent\":true,\"transition\":{\"duration\":0,\"easing\":\"linear\"}}],\"label\":\"1961\",\"method\":\"animate\"},{\"args\":[[\"1962\"],{\"frame\":{\"duration\":0,\"redraw\":false},\"mode\":\"immediate\",\"fromcurrent\":true,\"transition\":{\"duration\":0,\"easing\":\"linear\"}}],\"label\":\"1962\",\"method\":\"animate\"},{\"args\":[[\"1963\"],{\"frame\":{\"duration\":0,\"redraw\":false},\"mode\":\"immediate\",\"fromcurrent\":true,\"transition\":{\"duration\":0,\"easing\":\"linear\"}}],\"label\":\"1963\",\"method\":\"animate\"},{\"args\":[[\"1964\"],{\"frame\":{\"duration\":0,\"redraw\":false},\"mode\":\"immediate\",\"fromcurrent\":true,\"transition\":{\"duration\":0,\"easing\":\"linear\"}}],\"label\":\"1964\",\"method\":\"animate\"},{\"args\":[[\"1965\"],{\"frame\":{\"duration\":0,\"redraw\":false},\"mode\":\"immediate\",\"fromcurrent\":true,\"transition\":{\"duration\":0,\"easing\":\"linear\"}}],\"label\":\"1965\",\"method\":\"animate\"},{\"args\":[[\"1966\"],{\"frame\":{\"duration\":0,\"redraw\":false},\"mode\":\"immediate\",\"fromcurrent\":true,\"transition\":{\"duration\":0,\"easing\":\"linear\"}}],\"label\":\"1966\",\"method\":\"animate\"},{\"args\":[[\"1967\"],{\"frame\":{\"duration\":0,\"redraw\":false},\"mode\":\"immediate\",\"fromcurrent\":true,\"transition\":{\"duration\":0,\"easing\":\"linear\"}}],\"label\":\"1967\",\"method\":\"animate\"},{\"args\":[[\"1968\"],{\"frame\":{\"duration\":0,\"redraw\":false},\"mode\":\"immediate\",\"fromcurrent\":true,\"transition\":{\"duration\":0,\"easing\":\"linear\"}}],\"label\":\"1968\",\"method\":\"animate\"},{\"args\":[[\"1969\"],{\"frame\":{\"duration\":0,\"redraw\":false},\"mode\":\"immediate\",\"fromcurrent\":true,\"transition\":{\"duration\":0,\"easing\":\"linear\"}}],\"label\":\"1969\",\"method\":\"animate\"},{\"args\":[[\"1970\"],{\"frame\":{\"duration\":0,\"redraw\":false},\"mode\":\"immediate\",\"fromcurrent\":true,\"transition\":{\"duration\":0,\"easing\":\"linear\"}}],\"label\":\"1970\",\"method\":\"animate\"},{\"args\":[[\"1971\"],{\"frame\":{\"duration\":0,\"redraw\":false},\"mode\":\"immediate\",\"fromcurrent\":true,\"transition\":{\"duration\":0,\"easing\":\"linear\"}}],\"label\":\"1971\",\"method\":\"animate\"},{\"args\":[[\"1972\"],{\"frame\":{\"duration\":0,\"redraw\":false},\"mode\":\"immediate\",\"fromcurrent\":true,\"transition\":{\"duration\":0,\"easing\":\"linear\"}}],\"label\":\"1972\",\"method\":\"animate\"},{\"args\":[[\"1973\"],{\"frame\":{\"duration\":0,\"redraw\":false},\"mode\":\"immediate\",\"fromcurrent\":true,\"transition\":{\"duration\":0,\"easing\":\"linear\"}}],\"label\":\"1973\",\"method\":\"animate\"},{\"args\":[[\"1974\"],{\"frame\":{\"duration\":0,\"redraw\":false},\"mode\":\"immediate\",\"fromcurrent\":true,\"transition\":{\"duration\":0,\"easing\":\"linear\"}}],\"label\":\"1974\",\"method\":\"animate\"},{\"args\":[[\"1975\"],{\"frame\":{\"duration\":0,\"redraw\":false},\"mode\":\"immediate\",\"fromcurrent\":true,\"transition\":{\"duration\":0,\"easing\":\"linear\"}}],\"label\":\"1975\",\"method\":\"animate\"},{\"args\":[[\"1976\"],{\"frame\":{\"duration\":0,\"redraw\":false},\"mode\":\"immediate\",\"fromcurrent\":true,\"transition\":{\"duration\":0,\"easing\":\"linear\"}}],\"label\":\"1976\",\"method\":\"animate\"},{\"args\":[[\"1977\"],{\"frame\":{\"duration\":0,\"redraw\":false},\"mode\":\"immediate\",\"fromcurrent\":true,\"transition\":{\"duration\":0,\"easing\":\"linear\"}}],\"label\":\"1977\",\"method\":\"animate\"},{\"args\":[[\"1978\"],{\"frame\":{\"duration\":0,\"redraw\":false},\"mode\":\"immediate\",\"fromcurrent\":true,\"transition\":{\"duration\":0,\"easing\":\"linear\"}}],\"label\":\"1978\",\"method\":\"animate\"},{\"args\":[[\"1979\"],{\"frame\":{\"duration\":0,\"redraw\":false},\"mode\":\"immediate\",\"fromcurrent\":true,\"transition\":{\"duration\":0,\"easing\":\"linear\"}}],\"label\":\"1979\",\"method\":\"animate\"},{\"args\":[[\"1980\"],{\"frame\":{\"duration\":0,\"redraw\":false},\"mode\":\"immediate\",\"fromcurrent\":true,\"transition\":{\"duration\":0,\"easing\":\"linear\"}}],\"label\":\"1980\",\"method\":\"animate\"},{\"args\":[[\"1981\"],{\"frame\":{\"duration\":0,\"redraw\":false},\"mode\":\"immediate\",\"fromcurrent\":true,\"transition\":{\"duration\":0,\"easing\":\"linear\"}}],\"label\":\"1981\",\"method\":\"animate\"},{\"args\":[[\"1982\"],{\"frame\":{\"duration\":0,\"redraw\":false},\"mode\":\"immediate\",\"fromcurrent\":true,\"transition\":{\"duration\":0,\"easing\":\"linear\"}}],\"label\":\"1982\",\"method\":\"animate\"},{\"args\":[[\"1983\"],{\"frame\":{\"duration\":0,\"redraw\":false},\"mode\":\"immediate\",\"fromcurrent\":true,\"transition\":{\"duration\":0,\"easing\":\"linear\"}}],\"label\":\"1983\",\"method\":\"animate\"},{\"args\":[[\"1984\"],{\"frame\":{\"duration\":0,\"redraw\":false},\"mode\":\"immediate\",\"fromcurrent\":true,\"transition\":{\"duration\":0,\"easing\":\"linear\"}}],\"label\":\"1984\",\"method\":\"animate\"},{\"args\":[[\"1985\"],{\"frame\":{\"duration\":0,\"redraw\":false},\"mode\":\"immediate\",\"fromcurrent\":true,\"transition\":{\"duration\":0,\"easing\":\"linear\"}}],\"label\":\"1985\",\"method\":\"animate\"},{\"args\":[[\"1986\"],{\"frame\":{\"duration\":0,\"redraw\":false},\"mode\":\"immediate\",\"fromcurrent\":true,\"transition\":{\"duration\":0,\"easing\":\"linear\"}}],\"label\":\"1986\",\"method\":\"animate\"},{\"args\":[[\"1987\"],{\"frame\":{\"duration\":0,\"redraw\":false},\"mode\":\"immediate\",\"fromcurrent\":true,\"transition\":{\"duration\":0,\"easing\":\"linear\"}}],\"label\":\"1987\",\"method\":\"animate\"},{\"args\":[[\"1988\"],{\"frame\":{\"duration\":0,\"redraw\":false},\"mode\":\"immediate\",\"fromcurrent\":true,\"transition\":{\"duration\":0,\"easing\":\"linear\"}}],\"label\":\"1988\",\"method\":\"animate\"},{\"args\":[[\"1989\"],{\"frame\":{\"duration\":0,\"redraw\":false},\"mode\":\"immediate\",\"fromcurrent\":true,\"transition\":{\"duration\":0,\"easing\":\"linear\"}}],\"label\":\"1989\",\"method\":\"animate\"},{\"args\":[[\"1990\"],{\"frame\":{\"duration\":0,\"redraw\":false},\"mode\":\"immediate\",\"fromcurrent\":true,\"transition\":{\"duration\":0,\"easing\":\"linear\"}}],\"label\":\"1990\",\"method\":\"animate\"},{\"args\":[[\"1991\"],{\"frame\":{\"duration\":0,\"redraw\":false},\"mode\":\"immediate\",\"fromcurrent\":true,\"transition\":{\"duration\":0,\"easing\":\"linear\"}}],\"label\":\"1991\",\"method\":\"animate\"},{\"args\":[[\"1992\"],{\"frame\":{\"duration\":0,\"redraw\":false},\"mode\":\"immediate\",\"fromcurrent\":true,\"transition\":{\"duration\":0,\"easing\":\"linear\"}}],\"label\":\"1992\",\"method\":\"animate\"},{\"args\":[[\"1993\"],{\"frame\":{\"duration\":0,\"redraw\":false},\"mode\":\"immediate\",\"fromcurrent\":true,\"transition\":{\"duration\":0,\"easing\":\"linear\"}}],\"label\":\"1993\",\"method\":\"animate\"},{\"args\":[[\"1994\"],{\"frame\":{\"duration\":0,\"redraw\":false},\"mode\":\"immediate\",\"fromcurrent\":true,\"transition\":{\"duration\":0,\"easing\":\"linear\"}}],\"label\":\"1994\",\"method\":\"animate\"},{\"args\":[[\"1995\"],{\"frame\":{\"duration\":0,\"redraw\":false},\"mode\":\"immediate\",\"fromcurrent\":true,\"transition\":{\"duration\":0,\"easing\":\"linear\"}}],\"label\":\"1995\",\"method\":\"animate\"},{\"args\":[[\"1996\"],{\"frame\":{\"duration\":0,\"redraw\":false},\"mode\":\"immediate\",\"fromcurrent\":true,\"transition\":{\"duration\":0,\"easing\":\"linear\"}}],\"label\":\"1996\",\"method\":\"animate\"},{\"args\":[[\"1997\"],{\"frame\":{\"duration\":0,\"redraw\":false},\"mode\":\"immediate\",\"fromcurrent\":true,\"transition\":{\"duration\":0,\"easing\":\"linear\"}}],\"label\":\"1997\",\"method\":\"animate\"},{\"args\":[[\"1998\"],{\"frame\":{\"duration\":0,\"redraw\":false},\"mode\":\"immediate\",\"fromcurrent\":true,\"transition\":{\"duration\":0,\"easing\":\"linear\"}}],\"label\":\"1998\",\"method\":\"animate\"},{\"args\":[[\"1999\"],{\"frame\":{\"duration\":0,\"redraw\":false},\"mode\":\"immediate\",\"fromcurrent\":true,\"transition\":{\"duration\":0,\"easing\":\"linear\"}}],\"label\":\"1999\",\"method\":\"animate\"},{\"args\":[[\"2000\"],{\"frame\":{\"duration\":0,\"redraw\":false},\"mode\":\"immediate\",\"fromcurrent\":true,\"transition\":{\"duration\":0,\"easing\":\"linear\"}}],\"label\":\"2000\",\"method\":\"animate\"},{\"args\":[[\"2001\"],{\"frame\":{\"duration\":0,\"redraw\":false},\"mode\":\"immediate\",\"fromcurrent\":true,\"transition\":{\"duration\":0,\"easing\":\"linear\"}}],\"label\":\"2001\",\"method\":\"animate\"},{\"args\":[[\"2002\"],{\"frame\":{\"duration\":0,\"redraw\":false},\"mode\":\"immediate\",\"fromcurrent\":true,\"transition\":{\"duration\":0,\"easing\":\"linear\"}}],\"label\":\"2002\",\"method\":\"animate\"},{\"args\":[[\"2003\"],{\"frame\":{\"duration\":0,\"redraw\":false},\"mode\":\"immediate\",\"fromcurrent\":true,\"transition\":{\"duration\":0,\"easing\":\"linear\"}}],\"label\":\"2003\",\"method\":\"animate\"},{\"args\":[[\"2004\"],{\"frame\":{\"duration\":0,\"redraw\":false},\"mode\":\"immediate\",\"fromcurrent\":true,\"transition\":{\"duration\":0,\"easing\":\"linear\"}}],\"label\":\"2004\",\"method\":\"animate\"},{\"args\":[[\"2005\"],{\"frame\":{\"duration\":0,\"redraw\":false},\"mode\":\"immediate\",\"fromcurrent\":true,\"transition\":{\"duration\":0,\"easing\":\"linear\"}}],\"label\":\"2005\",\"method\":\"animate\"},{\"args\":[[\"2006\"],{\"frame\":{\"duration\":0,\"redraw\":false},\"mode\":\"immediate\",\"fromcurrent\":true,\"transition\":{\"duration\":0,\"easing\":\"linear\"}}],\"label\":\"2006\",\"method\":\"animate\"},{\"args\":[[\"2007\"],{\"frame\":{\"duration\":0,\"redraw\":false},\"mode\":\"immediate\",\"fromcurrent\":true,\"transition\":{\"duration\":0,\"easing\":\"linear\"}}],\"label\":\"2007\",\"method\":\"animate\"},{\"args\":[[\"2008\"],{\"frame\":{\"duration\":0,\"redraw\":false},\"mode\":\"immediate\",\"fromcurrent\":true,\"transition\":{\"duration\":0,\"easing\":\"linear\"}}],\"label\":\"2008\",\"method\":\"animate\"},{\"args\":[[\"2009\"],{\"frame\":{\"duration\":0,\"redraw\":false},\"mode\":\"immediate\",\"fromcurrent\":true,\"transition\":{\"duration\":0,\"easing\":\"linear\"}}],\"label\":\"2009\",\"method\":\"animate\"},{\"args\":[[\"2010\"],{\"frame\":{\"duration\":0,\"redraw\":false},\"mode\":\"immediate\",\"fromcurrent\":true,\"transition\":{\"duration\":0,\"easing\":\"linear\"}}],\"label\":\"2010\",\"method\":\"animate\"},{\"args\":[[\"2011\"],{\"frame\":{\"duration\":0,\"redraw\":false},\"mode\":\"immediate\",\"fromcurrent\":true,\"transition\":{\"duration\":0,\"easing\":\"linear\"}}],\"label\":\"2011\",\"method\":\"animate\"},{\"args\":[[\"2012\"],{\"frame\":{\"duration\":0,\"redraw\":false},\"mode\":\"immediate\",\"fromcurrent\":true,\"transition\":{\"duration\":0,\"easing\":\"linear\"}}],\"label\":\"2012\",\"method\":\"animate\"},{\"args\":[[\"2013\"],{\"frame\":{\"duration\":0,\"redraw\":false},\"mode\":\"immediate\",\"fromcurrent\":true,\"transition\":{\"duration\":0,\"easing\":\"linear\"}}],\"label\":\"2013\",\"method\":\"animate\"},{\"args\":[[\"2014\"],{\"frame\":{\"duration\":0,\"redraw\":false},\"mode\":\"immediate\",\"fromcurrent\":true,\"transition\":{\"duration\":0,\"easing\":\"linear\"}}],\"label\":\"2014\",\"method\":\"animate\"},{\"args\":[[\"2015\"],{\"frame\":{\"duration\":0,\"redraw\":false},\"mode\":\"immediate\",\"fromcurrent\":true,\"transition\":{\"duration\":0,\"easing\":\"linear\"}}],\"label\":\"2015\",\"method\":\"animate\"},{\"args\":[[\"2016\"],{\"frame\":{\"duration\":0,\"redraw\":false},\"mode\":\"immediate\",\"fromcurrent\":true,\"transition\":{\"duration\":0,\"easing\":\"linear\"}}],\"label\":\"2016\",\"method\":\"animate\"},{\"args\":[[\"2017\"],{\"frame\":{\"duration\":0,\"redraw\":false},\"mode\":\"immediate\",\"fromcurrent\":true,\"transition\":{\"duration\":0,\"easing\":\"linear\"}}],\"label\":\"2017\",\"method\":\"animate\"},{\"args\":[[\"2018\"],{\"frame\":{\"duration\":0,\"redraw\":false},\"mode\":\"immediate\",\"fromcurrent\":true,\"transition\":{\"duration\":0,\"easing\":\"linear\"}}],\"label\":\"2018\",\"method\":\"animate\"},{\"args\":[[\"2019\"],{\"frame\":{\"duration\":0,\"redraw\":false},\"mode\":\"immediate\",\"fromcurrent\":true,\"transition\":{\"duration\":0,\"easing\":\"linear\"}}],\"label\":\"2019\",\"method\":\"animate\"},{\"args\":[[\"2020\"],{\"frame\":{\"duration\":0,\"redraw\":false},\"mode\":\"immediate\",\"fromcurrent\":true,\"transition\":{\"duration\":0,\"easing\":\"linear\"}}],\"label\":\"2020\",\"method\":\"animate\"},{\"args\":[[\"2021\"],{\"frame\":{\"duration\":0,\"redraw\":false},\"mode\":\"immediate\",\"fromcurrent\":true,\"transition\":{\"duration\":0,\"easing\":\"linear\"}}],\"label\":\"2021\",\"method\":\"animate\"},{\"args\":[[\"2022\"],{\"frame\":{\"duration\":0,\"redraw\":false},\"mode\":\"immediate\",\"fromcurrent\":true,\"transition\":{\"duration\":0,\"easing\":\"linear\"}}],\"label\":\"2022\",\"method\":\"animate\"},{\"args\":[[\"2023\"],{\"frame\":{\"duration\":0,\"redraw\":false},\"mode\":\"immediate\",\"fromcurrent\":true,\"transition\":{\"duration\":0,\"easing\":\"linear\"}}],\"label\":\"2023\",\"method\":\"animate\"},{\"args\":[[\"2024\"],{\"frame\":{\"duration\":0,\"redraw\":false},\"mode\":\"immediate\",\"fromcurrent\":true,\"transition\":{\"duration\":0,\"easing\":\"linear\"}}],\"label\":\"2024\",\"method\":\"animate\"}],\"x\":0.1,\"xanchor\":\"left\",\"y\":0,\"yanchor\":\"top\"}],\"showlegend\":false},                        {\"responsive\": true}                    ).then(function(){\n",
       "                            Plotly.addFrames('a8c3b5e8-4837-4491-933b-3b4c7a471aed', [{\"data\":[{\"hovertemplate\":\"Anno=%{x}\\u003cbr\\u003eDurata (minuti)=%{y}\\u003cextra\\u003e\\u003c\\u002fextra\\u003e\",\"legendgroup\":\"\",\"marker\":{\"color\":\"#636efa\",\"symbol\":\"circle\"},\"mode\":\"markers\",\"name\":\"\",\"orientation\":\"v\",\"showlegend\":false,\"x\":[1899],\"xaxis\":\"x\",\"y\":[135.0],\"yaxis\":\"y\",\"type\":\"scatter\"}],\"name\":\"1899\"},{\"data\":[{\"hovertemplate\":\"Anno=%{x}\\u003cbr\\u003eDurata (minuti)=%{y}\\u003cextra\\u003e\\u003c\\u002fextra\\u003e\",\"legendgroup\":\"\",\"marker\":{\"color\":\"#636efa\",\"symbol\":\"circle\"},\"mode\":\"markers\",\"name\":\"\",\"orientation\":\"v\",\"showlegend\":false,\"x\":[1900],\"xaxis\":\"x\",\"y\":[79.0],\"yaxis\":\"y\",\"type\":\"scatter\"}],\"name\":\"1900\"},{\"data\":[{\"hovertemplate\":\"Anno=%{x}\\u003cbr\\u003eDurata (minuti)=%{y}\\u003cextra\\u003e\\u003c\\u002fextra\\u003e\",\"legendgroup\":\"\",\"marker\":{\"color\":\"#636efa\",\"symbol\":\"circle\"},\"mode\":\"markers\",\"name\":\"\",\"orientation\":\"v\",\"showlegend\":false,\"x\":[1903],\"xaxis\":\"x\",\"y\":[120.0],\"yaxis\":\"y\",\"type\":\"scatter\"}],\"name\":\"1903\"},{\"data\":[{\"hovertemplate\":\"Anno=%{x}\\u003cbr\\u003eDurata (minuti)=%{y}\\u003cextra\\u003e\\u003c\\u002fextra\\u003e\",\"legendgroup\":\"\",\"marker\":{\"color\":\"#636efa\",\"symbol\":\"circle\"},\"mode\":\"markers\",\"name\":\"\",\"orientation\":\"v\",\"showlegend\":false,\"x\":[1904],\"xaxis\":\"x\",\"y\":[70.0],\"yaxis\":\"y\",\"type\":\"scatter\"}],\"name\":\"1904\"},{\"data\":[{\"hovertemplate\":\"Anno=%{x}\\u003cbr\\u003eDurata (minuti)=%{y}\\u003cextra\\u003e\\u003c\\u002fextra\\u003e\",\"legendgroup\":\"\",\"marker\":{\"color\":\"#636efa\",\"symbol\":\"circle\"},\"mode\":\"markers\",\"name\":\"\",\"orientation\":\"v\",\"showlegend\":false,\"x\":[1906],\"xaxis\":\"x\",\"y\":[87.5],\"yaxis\":\"y\",\"type\":\"scatter\"}],\"name\":\"1906\"},{\"data\":[{\"hovertemplate\":\"Anno=%{x}\\u003cbr\\u003eDurata (minuti)=%{y}\\u003cextra\\u003e\\u003c\\u002fextra\\u003e\",\"legendgroup\":\"\",\"marker\":{\"color\":\"#636efa\",\"symbol\":\"circle\"},\"mode\":\"markers\",\"name\":\"\",\"orientation\":\"v\",\"showlegend\":false,\"x\":[1907],\"xaxis\":\"x\",\"y\":[155.0],\"yaxis\":\"y\",\"type\":\"scatter\"}],\"name\":\"1907\"},{\"data\":[{\"hovertemplate\":\"Anno=%{x}\\u003cbr\\u003eDurata (minuti)=%{y}\\u003cextra\\u003e\\u003c\\u002fextra\\u003e\",\"legendgroup\":\"\",\"marker\":{\"color\":\"#636efa\",\"symbol\":\"circle\"},\"mode\":\"markers\",\"name\":\"\",\"orientation\":\"v\",\"showlegend\":false,\"x\":[1908],\"xaxis\":\"x\",\"y\":[135.5],\"yaxis\":\"y\",\"type\":\"scatter\"}],\"name\":\"1908\"},{\"data\":[{\"hovertemplate\":\"Anno=%{x}\\u003cbr\\u003eDurata (minuti)=%{y}\\u003cextra\\u003e\\u003c\\u002fextra\\u003e\",\"legendgroup\":\"\",\"marker\":{\"color\":\"#636efa\",\"symbol\":\"circle\"},\"mode\":\"markers\",\"name\":\"\",\"orientation\":\"v\",\"showlegend\":false,\"x\":[1910],\"xaxis\":\"x\",\"y\":[85.6],\"yaxis\":\"y\",\"type\":\"scatter\"}],\"name\":\"1910\"},{\"data\":[{\"hovertemplate\":\"Anno=%{x}\\u003cbr\\u003eDurata (minuti)=%{y}\\u003cextra\\u003e\\u003c\\u002fextra\\u003e\",\"legendgroup\":\"\",\"marker\":{\"color\":\"#636efa\",\"symbol\":\"circle\"},\"mode\":\"markers\",\"name\":\"\",\"orientation\":\"v\",\"showlegend\":false,\"x\":[1911],\"xaxis\":\"x\",\"y\":[87.6],\"yaxis\":\"y\",\"type\":\"scatter\"}],\"name\":\"1911\"},{\"data\":[{\"hovertemplate\":\"Anno=%{x}\\u003cbr\\u003eDurata (minuti)=%{y}\\u003cextra\\u003e\\u003c\\u002fextra\\u003e\",\"legendgroup\":\"\",\"marker\":{\"color\":\"#636efa\",\"symbol\":\"circle\"},\"mode\":\"markers\",\"name\":\"\",\"orientation\":\"v\",\"showlegend\":false,\"x\":[1912],\"xaxis\":\"x\",\"y\":[94.15384615384616],\"yaxis\":\"y\",\"type\":\"scatter\"}],\"name\":\"1912\"},{\"data\":[{\"hovertemplate\":\"Anno=%{x}\\u003cbr\\u003eDurata (minuti)=%{y}\\u003cextra\\u003e\\u003c\\u002fextra\\u003e\",\"legendgroup\":\"\",\"marker\":{\"color\":\"#636efa\",\"symbol\":\"circle\"},\"mode\":\"markers\",\"name\":\"\",\"orientation\":\"v\",\"showlegend\":false,\"x\":[1913],\"xaxis\":\"x\",\"y\":[98.16],\"yaxis\":\"y\",\"type\":\"scatter\"}],\"name\":\"1913\"},{\"data\":[{\"hovertemplate\":\"Anno=%{x}\\u003cbr\\u003eDurata (minuti)=%{y}\\u003cextra\\u003e\\u003c\\u002fextra\\u003e\",\"legendgroup\":\"\",\"marker\":{\"color\":\"#636efa\",\"symbol\":\"circle\"},\"mode\":\"markers\",\"name\":\"\",\"orientation\":\"v\",\"showlegend\":false,\"x\":[1914],\"xaxis\":\"x\",\"y\":[113.02702702702703],\"yaxis\":\"y\",\"type\":\"scatter\"}],\"name\":\"1914\"},{\"data\":[{\"hovertemplate\":\"Anno=%{x}\\u003cbr\\u003eDurata (minuti)=%{y}\\u003cextra\\u003e\\u003c\\u002fextra\\u003e\",\"legendgroup\":\"\",\"marker\":{\"color\":\"#636efa\",\"symbol\":\"circle\"},\"mode\":\"markers\",\"name\":\"\",\"orientation\":\"v\",\"showlegend\":false,\"x\":[1915],\"xaxis\":\"x\",\"y\":[110.475],\"yaxis\":\"y\",\"type\":\"scatter\"}],\"name\":\"1915\"},{\"data\":[{\"hovertemplate\":\"Anno=%{x}\\u003cbr\\u003eDurata (minuti)=%{y}\\u003cextra\\u003e\\u003c\\u002fextra\\u003e\",\"legendgroup\":\"\",\"marker\":{\"color\":\"#636efa\",\"symbol\":\"circle\"},\"mode\":\"markers\",\"name\":\"\",\"orientation\":\"v\",\"showlegend\":false,\"x\":[1916],\"xaxis\":\"x\",\"y\":[105.3953488372093],\"yaxis\":\"y\",\"type\":\"scatter\"}],\"name\":\"1916\"},{\"data\":[{\"hovertemplate\":\"Anno=%{x}\\u003cbr\\u003eDurata (minuti)=%{y}\\u003cextra\\u003e\\u003c\\u002fextra\\u003e\",\"legendgroup\":\"\",\"marker\":{\"color\":\"#636efa\",\"symbol\":\"circle\"},\"mode\":\"markers\",\"name\":\"\",\"orientation\":\"v\",\"showlegend\":false,\"x\":[1917],\"xaxis\":\"x\",\"y\":[96.72560975609755],\"yaxis\":\"y\",\"type\":\"scatter\"}],\"name\":\"1917\"},{\"data\":[{\"hovertemplate\":\"Anno=%{x}\\u003cbr\\u003eDurata (minuti)=%{y}\\u003cextra\\u003e\\u003c\\u002fextra\\u003e\",\"legendgroup\":\"\",\"marker\":{\"color\":\"#636efa\",\"symbol\":\"circle\"},\"mode\":\"markers\",\"name\":\"\",\"orientation\":\"v\",\"showlegend\":false,\"x\":[1918],\"xaxis\":\"x\",\"y\":[96.05590062111801],\"yaxis\":\"y\",\"type\":\"scatter\"}],\"name\":\"1918\"},{\"data\":[{\"hovertemplate\":\"Anno=%{x}\\u003cbr\\u003eDurata (minuti)=%{y}\\u003cextra\\u003e\\u003c\\u002fextra\\u003e\",\"legendgroup\":\"\",\"marker\":{\"color\":\"#636efa\",\"symbol\":\"circle\"},\"mode\":\"markers\",\"name\":\"\",\"orientation\":\"v\",\"showlegend\":false,\"x\":[1919],\"xaxis\":\"x\",\"y\":[94.15300546448087],\"yaxis\":\"y\",\"type\":\"scatter\"}],\"name\":\"1919\"},{\"data\":[{\"hovertemplate\":\"Anno=%{x}\\u003cbr\\u003eDurata (minuti)=%{y}\\u003cextra\\u003e\\u003c\\u002fextra\\u003e\",\"legendgroup\":\"\",\"marker\":{\"color\":\"#636efa\",\"symbol\":\"circle\"},\"mode\":\"markers\",\"name\":\"\",\"orientation\":\"v\",\"showlegend\":false,\"x\":[1920],\"xaxis\":\"x\",\"y\":[92.46190476190476],\"yaxis\":\"y\",\"type\":\"scatter\"}],\"name\":\"1920\"},{\"data\":[{\"hovertemplate\":\"Anno=%{x}\\u003cbr\\u003eDurata (minuti)=%{y}\\u003cextra\\u003e\\u003c\\u002fextra\\u003e\",\"legendgroup\":\"\",\"marker\":{\"color\":\"#636efa\",\"symbol\":\"circle\"},\"mode\":\"markers\",\"name\":\"\",\"orientation\":\"v\",\"showlegend\":false,\"x\":[1921],\"xaxis\":\"x\",\"y\":[92.24663677130044],\"yaxis\":\"y\",\"type\":\"scatter\"}],\"name\":\"1921\"},{\"data\":[{\"hovertemplate\":\"Anno=%{x}\\u003cbr\\u003eDurata (minuti)=%{y}\\u003cextra\\u003e\\u003c\\u002fextra\\u003e\",\"legendgroup\":\"\",\"marker\":{\"color\":\"#636efa\",\"symbol\":\"circle\"},\"mode\":\"markers\",\"name\":\"\",\"orientation\":\"v\",\"showlegend\":false,\"x\":[1922],\"xaxis\":\"x\",\"y\":[92.18518518518519],\"yaxis\":\"y\",\"type\":\"scatter\"}],\"name\":\"1922\"},{\"data\":[{\"hovertemplate\":\"Anno=%{x}\\u003cbr\\u003eDurata (minuti)=%{y}\\u003cextra\\u003e\\u003c\\u002fextra\\u003e\",\"legendgroup\":\"\",\"marker\":{\"color\":\"#636efa\",\"symbol\":\"circle\"},\"mode\":\"markers\",\"name\":\"\",\"orientation\":\"v\",\"showlegend\":false,\"x\":[1923],\"xaxis\":\"x\",\"y\":[90.70671378091873],\"yaxis\":\"y\",\"type\":\"scatter\"}],\"name\":\"1923\"},{\"data\":[{\"hovertemplate\":\"Anno=%{x}\\u003cbr\\u003eDurata (minuti)=%{y}\\u003cextra\\u003e\\u003c\\u002fextra\\u003e\",\"legendgroup\":\"\",\"marker\":{\"color\":\"#636efa\",\"symbol\":\"circle\"},\"mode\":\"markers\",\"name\":\"\",\"orientation\":\"v\",\"showlegend\":false,\"x\":[1924],\"xaxis\":\"x\",\"y\":[86.14939024390245],\"yaxis\":\"y\",\"type\":\"scatter\"}],\"name\":\"1924\"},{\"data\":[{\"hovertemplate\":\"Anno=%{x}\\u003cbr\\u003eDurata (minuti)=%{y}\\u003cextra\\u003e\\u003c\\u002fextra\\u003e\",\"legendgroup\":\"\",\"marker\":{\"color\":\"#636efa\",\"symbol\":\"circle\"},\"mode\":\"markers\",\"name\":\"\",\"orientation\":\"v\",\"showlegend\":false,\"x\":[1925],\"xaxis\":\"x\",\"y\":[86.96378830083566],\"yaxis\":\"y\",\"type\":\"scatter\"}],\"name\":\"1925\"},{\"data\":[{\"hovertemplate\":\"Anno=%{x}\\u003cbr\\u003eDurata (minuti)=%{y}\\u003cextra\\u003e\\u003c\\u002fextra\\u003e\",\"legendgroup\":\"\",\"marker\":{\"color\":\"#636efa\",\"symbol\":\"circle\"},\"mode\":\"markers\",\"name\":\"\",\"orientation\":\"v\",\"showlegend\":false,\"x\":[1926],\"xaxis\":\"x\",\"y\":[85.17937219730942],\"yaxis\":\"y\",\"type\":\"scatter\"}],\"name\":\"1926\"},{\"data\":[{\"hovertemplate\":\"Anno=%{x}\\u003cbr\\u003eDurata (minuti)=%{y}\\u003cextra\\u003e\\u003c\\u002fextra\\u003e\",\"legendgroup\":\"\",\"marker\":{\"color\":\"#636efa\",\"symbol\":\"circle\"},\"mode\":\"markers\",\"name\":\"\",\"orientation\":\"v\",\"showlegend\":false,\"x\":[1927],\"xaxis\":\"x\",\"y\":[88.3082191780822],\"yaxis\":\"y\",\"type\":\"scatter\"}],\"name\":\"1927\"},{\"data\":[{\"hovertemplate\":\"Anno=%{x}\\u003cbr\\u003eDurata (minuti)=%{y}\\u003cextra\\u003e\\u003c\\u002fextra\\u003e\",\"legendgroup\":\"\",\"marker\":{\"color\":\"#636efa\",\"symbol\":\"circle\"},\"mode\":\"markers\",\"name\":\"\",\"orientation\":\"v\",\"showlegend\":false,\"x\":[1928],\"xaxis\":\"x\",\"y\":[89.322],\"yaxis\":\"y\",\"type\":\"scatter\"}],\"name\":\"1928\"},{\"data\":[{\"hovertemplate\":\"Anno=%{x}\\u003cbr\\u003eDurata (minuti)=%{y}\\u003cextra\\u003e\\u003c\\u002fextra\\u003e\",\"legendgroup\":\"\",\"marker\":{\"color\":\"#636efa\",\"symbol\":\"circle\"},\"mode\":\"markers\",\"name\":\"\",\"orientation\":\"v\",\"showlegend\":false,\"x\":[1929],\"xaxis\":\"x\",\"y\":[86.12100840336134],\"yaxis\":\"y\",\"type\":\"scatter\"}],\"name\":\"1929\"},{\"data\":[{\"hovertemplate\":\"Anno=%{x}\\u003cbr\\u003eDurata (minuti)=%{y}\\u003cextra\\u003e\\u003c\\u002fextra\\u003e\",\"legendgroup\":\"\",\"marker\":{\"color\":\"#636efa\",\"symbol\":\"circle\"},\"mode\":\"markers\",\"name\":\"\",\"orientation\":\"v\",\"showlegend\":false,\"x\":[1930],\"xaxis\":\"x\",\"y\":[82.57461645746164],\"yaxis\":\"y\",\"type\":\"scatter\"}],\"name\":\"1930\"},{\"data\":[{\"hovertemplate\":\"Anno=%{x}\\u003cbr\\u003eDurata (minuti)=%{y}\\u003cextra\\u003e\\u003c\\u002fextra\\u003e\",\"legendgroup\":\"\",\"marker\":{\"color\":\"#636efa\",\"symbol\":\"circle\"},\"mode\":\"markers\",\"name\":\"\",\"orientation\":\"v\",\"showlegend\":false,\"x\":[1931],\"xaxis\":\"x\",\"y\":[82.26593137254902],\"yaxis\":\"y\",\"type\":\"scatter\"}],\"name\":\"1931\"},{\"data\":[{\"hovertemplate\":\"Anno=%{x}\\u003cbr\\u003eDurata (minuti)=%{y}\\u003cextra\\u003e\\u003c\\u002fextra\\u003e\",\"legendgroup\":\"\",\"marker\":{\"color\":\"#636efa\",\"symbol\":\"circle\"},\"mode\":\"markers\",\"name\":\"\",\"orientation\":\"v\",\"showlegend\":false,\"x\":[1932],\"xaxis\":\"x\",\"y\":[81.8508353221957],\"yaxis\":\"y\",\"type\":\"scatter\"}],\"name\":\"1932\"},{\"data\":[{\"hovertemplate\":\"Anno=%{x}\\u003cbr\\u003eDurata (minuti)=%{y}\\u003cextra\\u003e\\u003c\\u002fextra\\u003e\",\"legendgroup\":\"\",\"marker\":{\"color\":\"#636efa\",\"symbol\":\"circle\"},\"mode\":\"markers\",\"name\":\"\",\"orientation\":\"v\",\"showlegend\":false,\"x\":[1933],\"xaxis\":\"x\",\"y\":[81.5223880597015],\"yaxis\":\"y\",\"type\":\"scatter\"}],\"name\":\"1933\"},{\"data\":[{\"hovertemplate\":\"Anno=%{x}\\u003cbr\\u003eDurata (minuti)=%{y}\\u003cextra\\u003e\\u003c\\u002fextra\\u003e\",\"legendgroup\":\"\",\"marker\":{\"color\":\"#636efa\",\"symbol\":\"circle\"},\"mode\":\"markers\",\"name\":\"\",\"orientation\":\"v\",\"showlegend\":false,\"x\":[1934],\"xaxis\":\"x\",\"y\":[83.25782092772384],\"yaxis\":\"y\",\"type\":\"scatter\"}],\"name\":\"1934\"},{\"data\":[{\"hovertemplate\":\"Anno=%{x}\\u003cbr\\u003eDurata (minuti)=%{y}\\u003cextra\\u003e\\u003c\\u002fextra\\u003e\",\"legendgroup\":\"\",\"marker\":{\"color\":\"#636efa\",\"symbol\":\"circle\"},\"mode\":\"markers\",\"name\":\"\",\"orientation\":\"v\",\"showlegend\":false,\"x\":[1935],\"xaxis\":\"x\",\"y\":[82.91897654584221],\"yaxis\":\"y\",\"type\":\"scatter\"}],\"name\":\"1935\"},{\"data\":[{\"hovertemplate\":\"Anno=%{x}\\u003cbr\\u003eDurata (minuti)=%{y}\\u003cextra\\u003e\\u003c\\u002fextra\\u003e\",\"legendgroup\":\"\",\"marker\":{\"color\":\"#636efa\",\"symbol\":\"circle\"},\"mode\":\"markers\",\"name\":\"\",\"orientation\":\"v\",\"showlegend\":false,\"x\":[1936],\"xaxis\":\"x\",\"y\":[83.7385554425229],\"yaxis\":\"y\",\"type\":\"scatter\"}],\"name\":\"1936\"},{\"data\":[{\"hovertemplate\":\"Anno=%{x}\\u003cbr\\u003eDurata (minuti)=%{y}\\u003cextra\\u003e\\u003c\\u002fextra\\u003e\",\"legendgroup\":\"\",\"marker\":{\"color\":\"#636efa\",\"symbol\":\"circle\"},\"mode\":\"markers\",\"name\":\"\",\"orientation\":\"v\",\"showlegend\":false,\"x\":[1937],\"xaxis\":\"x\",\"y\":[85.88418932527694],\"yaxis\":\"y\",\"type\":\"scatter\"}],\"name\":\"1937\"},{\"data\":[{\"hovertemplate\":\"Anno=%{x}\\u003cbr\\u003eDurata (minuti)=%{y}\\u003cextra\\u003e\\u003c\\u002fextra\\u003e\",\"legendgroup\":\"\",\"marker\":{\"color\":\"#636efa\",\"symbol\":\"circle\"},\"mode\":\"markers\",\"name\":\"\",\"orientation\":\"v\",\"showlegend\":false,\"x\":[1938],\"xaxis\":\"x\",\"y\":[86.73838383838384],\"yaxis\":\"y\",\"type\":\"scatter\"}],\"name\":\"1938\"},{\"data\":[{\"hovertemplate\":\"Anno=%{x}\\u003cbr\\u003eDurata (minuti)=%{y}\\u003cextra\\u003e\\u003c\\u002fextra\\u003e\",\"legendgroup\":\"\",\"marker\":{\"color\":\"#636efa\",\"symbol\":\"circle\"},\"mode\":\"markers\",\"name\":\"\",\"orientation\":\"v\",\"showlegend\":false,\"x\":[1939],\"xaxis\":\"x\",\"y\":[87.22052845528455],\"yaxis\":\"y\",\"type\":\"scatter\"}],\"name\":\"1939\"},{\"data\":[{\"hovertemplate\":\"Anno=%{x}\\u003cbr\\u003eDurata (minuti)=%{y}\\u003cextra\\u003e\\u003c\\u002fextra\\u003e\",\"legendgroup\":\"\",\"marker\":{\"color\":\"#636efa\",\"symbol\":\"circle\"},\"mode\":\"markers\",\"name\":\"\",\"orientation\":\"v\",\"showlegend\":false,\"x\":[1940],\"xaxis\":\"x\",\"y\":[87.63296703296703],\"yaxis\":\"y\",\"type\":\"scatter\"}],\"name\":\"1940\"},{\"data\":[{\"hovertemplate\":\"Anno=%{x}\\u003cbr\\u003eDurata (minuti)=%{y}\\u003cextra\\u003e\\u003c\\u002fextra\\u003e\",\"legendgroup\":\"\",\"marker\":{\"color\":\"#636efa\",\"symbol\":\"circle\"},\"mode\":\"markers\",\"name\":\"\",\"orientation\":\"v\",\"showlegend\":false,\"x\":[1941],\"xaxis\":\"x\",\"y\":[89.63856812933025],\"yaxis\":\"y\",\"type\":\"scatter\"}],\"name\":\"1941\"},{\"data\":[{\"hovertemplate\":\"Anno=%{x}\\u003cbr\\u003eDurata (minuti)=%{y}\\u003cextra\\u003e\\u003c\\u002fextra\\u003e\",\"legendgroup\":\"\",\"marker\":{\"color\":\"#636efa\",\"symbol\":\"circle\"},\"mode\":\"markers\",\"name\":\"\",\"orientation\":\"v\",\"showlegend\":false,\"x\":[1942],\"xaxis\":\"x\",\"y\":[89.06394707828004],\"yaxis\":\"y\",\"type\":\"scatter\"}],\"name\":\"1942\"},{\"data\":[{\"hovertemplate\":\"Anno=%{x}\\u003cbr\\u003eDurata (minuti)=%{y}\\u003cextra\\u003e\\u003c\\u002fextra\\u003e\",\"legendgroup\":\"\",\"marker\":{\"color\":\"#636efa\",\"symbol\":\"circle\"},\"mode\":\"markers\",\"name\":\"\",\"orientation\":\"v\",\"showlegend\":false,\"x\":[1943],\"xaxis\":\"x\",\"y\":[89.60551558752998],\"yaxis\":\"y\",\"type\":\"scatter\"}],\"name\":\"1943\"},{\"data\":[{\"hovertemplate\":\"Anno=%{x}\\u003cbr\\u003eDurata (minuti)=%{y}\\u003cextra\\u003e\\u003c\\u002fextra\\u003e\",\"legendgroup\":\"\",\"marker\":{\"color\":\"#636efa\",\"symbol\":\"circle\"},\"mode\":\"markers\",\"name\":\"\",\"orientation\":\"v\",\"showlegend\":false,\"x\":[1944],\"xaxis\":\"x\",\"y\":[90.38719068413391],\"yaxis\":\"y\",\"type\":\"scatter\"}],\"name\":\"1944\"},{\"data\":[{\"hovertemplate\":\"Anno=%{x}\\u003cbr\\u003eDurata (minuti)=%{y}\\u003cextra\\u003e\\u003c\\u002fextra\\u003e\",\"legendgroup\":\"\",\"marker\":{\"color\":\"#636efa\",\"symbol\":\"circle\"},\"mode\":\"markers\",\"name\":\"\",\"orientation\":\"v\",\"showlegend\":false,\"x\":[1945],\"xaxis\":\"x\",\"y\":[89.61014492753623],\"yaxis\":\"y\",\"type\":\"scatter\"}],\"name\":\"1945\"},{\"data\":[{\"hovertemplate\":\"Anno=%{x}\\u003cbr\\u003eDurata (minuti)=%{y}\\u003cextra\\u003e\\u003c\\u002fextra\\u003e\",\"legendgroup\":\"\",\"marker\":{\"color\":\"#636efa\",\"symbol\":\"circle\"},\"mode\":\"markers\",\"name\":\"\",\"orientation\":\"v\",\"showlegend\":false,\"x\":[1946],\"xaxis\":\"x\",\"y\":[90.20663265306122],\"yaxis\":\"y\",\"type\":\"scatter\"}],\"name\":\"1946\"},{\"data\":[{\"hovertemplate\":\"Anno=%{x}\\u003cbr\\u003eDurata (minuti)=%{y}\\u003cextra\\u003e\\u003c\\u002fextra\\u003e\",\"legendgroup\":\"\",\"marker\":{\"color\":\"#636efa\",\"symbol\":\"circle\"},\"mode\":\"markers\",\"name\":\"\",\"orientation\":\"v\",\"showlegend\":false,\"x\":[1947],\"xaxis\":\"x\",\"y\":[90.26564344746163],\"yaxis\":\"y\",\"type\":\"scatter\"}],\"name\":\"1947\"},{\"data\":[{\"hovertemplate\":\"Anno=%{x}\\u003cbr\\u003eDurata (minuti)=%{y}\\u003cextra\\u003e\\u003c\\u002fextra\\u003e\",\"legendgroup\":\"\",\"marker\":{\"color\":\"#636efa\",\"symbol\":\"circle\"},\"mode\":\"markers\",\"name\":\"\",\"orientation\":\"v\",\"showlegend\":false,\"x\":[1948],\"xaxis\":\"x\",\"y\":[90.59194776931447],\"yaxis\":\"y\",\"type\":\"scatter\"}],\"name\":\"1948\"},{\"data\":[{\"hovertemplate\":\"Anno=%{x}\\u003cbr\\u003eDurata (minuti)=%{y}\\u003cextra\\u003e\\u003c\\u002fextra\\u003e\",\"legendgroup\":\"\",\"marker\":{\"color\":\"#636efa\",\"symbol\":\"circle\"},\"mode\":\"markers\",\"name\":\"\",\"orientation\":\"v\",\"showlegend\":false,\"x\":[1949],\"xaxis\":\"x\",\"y\":[91.48095238095237],\"yaxis\":\"y\",\"type\":\"scatter\"}],\"name\":\"1949\"},{\"data\":[{\"hovertemplate\":\"Anno=%{x}\\u003cbr\\u003eDurata (minuti)=%{y}\\u003cextra\\u003e\\u003c\\u002fextra\\u003e\",\"legendgroup\":\"\",\"marker\":{\"color\":\"#636efa\",\"symbol\":\"circle\"},\"mode\":\"markers\",\"name\":\"\",\"orientation\":\"v\",\"showlegend\":false,\"x\":[1950],\"xaxis\":\"x\",\"y\":[91.88568935427574],\"yaxis\":\"y\",\"type\":\"scatter\"}],\"name\":\"1950\"},{\"data\":[{\"hovertemplate\":\"Anno=%{x}\\u003cbr\\u003eDurata (minuti)=%{y}\\u003cextra\\u003e\\u003c\\u002fextra\\u003e\",\"legendgroup\":\"\",\"marker\":{\"color\":\"#636efa\",\"symbol\":\"circle\"},\"mode\":\"markers\",\"name\":\"\",\"orientation\":\"v\",\"showlegend\":false,\"x\":[1951],\"xaxis\":\"x\",\"y\":[92.3937074829932],\"yaxis\":\"y\",\"type\":\"scatter\"}],\"name\":\"1951\"},{\"data\":[{\"hovertemplate\":\"Anno=%{x}\\u003cbr\\u003eDurata (minuti)=%{y}\\u003cextra\\u003e\\u003c\\u002fextra\\u003e\",\"legendgroup\":\"\",\"marker\":{\"color\":\"#636efa\",\"symbol\":\"circle\"},\"mode\":\"markers\",\"name\":\"\",\"orientation\":\"v\",\"showlegend\":false,\"x\":[1952],\"xaxis\":\"x\",\"y\":[92.83817427385893],\"yaxis\":\"y\",\"type\":\"scatter\"}],\"name\":\"1952\"},{\"data\":[{\"hovertemplate\":\"Anno=%{x}\\u003cbr\\u003eDurata (minuti)=%{y}\\u003cextra\\u003e\\u003c\\u002fextra\\u003e\",\"legendgroup\":\"\",\"marker\":{\"color\":\"#636efa\",\"symbol\":\"circle\"},\"mode\":\"markers\",\"name\":\"\",\"orientation\":\"v\",\"showlegend\":false,\"x\":[1953],\"xaxis\":\"x\",\"y\":[93.00321027287319],\"yaxis\":\"y\",\"type\":\"scatter\"}],\"name\":\"1953\"},{\"data\":[{\"hovertemplate\":\"Anno=%{x}\\u003cbr\\u003eDurata (minuti)=%{y}\\u003cextra\\u003e\\u003c\\u002fextra\\u003e\",\"legendgroup\":\"\",\"marker\":{\"color\":\"#636efa\",\"symbol\":\"circle\"},\"mode\":\"markers\",\"name\":\"\",\"orientation\":\"v\",\"showlegend\":false,\"x\":[1954],\"xaxis\":\"x\",\"y\":[94.50657385924207],\"yaxis\":\"y\",\"type\":\"scatter\"}],\"name\":\"1954\"},{\"data\":[{\"hovertemplate\":\"Anno=%{x}\\u003cbr\\u003eDurata (minuti)=%{y}\\u003cextra\\u003e\\u003c\\u002fextra\\u003e\",\"legendgroup\":\"\",\"marker\":{\"color\":\"#636efa\",\"symbol\":\"circle\"},\"mode\":\"markers\",\"name\":\"\",\"orientation\":\"v\",\"showlegend\":false,\"x\":[1955],\"xaxis\":\"x\",\"y\":[94.32639885222382],\"yaxis\":\"y\",\"type\":\"scatter\"}],\"name\":\"1955\"},{\"data\":[{\"hovertemplate\":\"Anno=%{x}\\u003cbr\\u003eDurata (minuti)=%{y}\\u003cextra\\u003e\\u003c\\u002fextra\\u003e\",\"legendgroup\":\"\",\"marker\":{\"color\":\"#636efa\",\"symbol\":\"circle\"},\"mode\":\"markers\",\"name\":\"\",\"orientation\":\"v\",\"showlegend\":false,\"x\":[1956],\"xaxis\":\"x\",\"y\":[93.4985754985755],\"yaxis\":\"y\",\"type\":\"scatter\"}],\"name\":\"1956\"},{\"data\":[{\"hovertemplate\":\"Anno=%{x}\\u003cbr\\u003eDurata (minuti)=%{y}\\u003cextra\\u003e\\u003c\\u002fextra\\u003e\",\"legendgroup\":\"\",\"marker\":{\"color\":\"#636efa\",\"symbol\":\"circle\"},\"mode\":\"markers\",\"name\":\"\",\"orientation\":\"v\",\"showlegend\":false,\"x\":[1957],\"xaxis\":\"x\",\"y\":[92.72005124919923],\"yaxis\":\"y\",\"type\":\"scatter\"}],\"name\":\"1957\"},{\"data\":[{\"hovertemplate\":\"Anno=%{x}\\u003cbr\\u003eDurata (minuti)=%{y}\\u003cextra\\u003e\\u003c\\u002fextra\\u003e\",\"legendgroup\":\"\",\"marker\":{\"color\":\"#636efa\",\"symbol\":\"circle\"},\"mode\":\"markers\",\"name\":\"\",\"orientation\":\"v\",\"showlegend\":false,\"x\":[1958],\"xaxis\":\"x\",\"y\":[93.52200867947923],\"yaxis\":\"y\",\"type\":\"scatter\"}],\"name\":\"1958\"},{\"data\":[{\"hovertemplate\":\"Anno=%{x}\\u003cbr\\u003eDurata (minuti)=%{y}\\u003cextra\\u003e\\u003c\\u002fextra\\u003e\",\"legendgroup\":\"\",\"marker\":{\"color\":\"#636efa\",\"symbol\":\"circle\"},\"mode\":\"markers\",\"name\":\"\",\"orientation\":\"v\",\"showlegend\":false,\"x\":[1959],\"xaxis\":\"x\",\"y\":[94.49937185929649],\"yaxis\":\"y\",\"type\":\"scatter\"}],\"name\":\"1959\"},{\"data\":[{\"hovertemplate\":\"Anno=%{x}\\u003cbr\\u003eDurata (minuti)=%{y}\\u003cextra\\u003e\\u003c\\u002fextra\\u003e\",\"legendgroup\":\"\",\"marker\":{\"color\":\"#636efa\",\"symbol\":\"circle\"},\"mode\":\"markers\",\"name\":\"\",\"orientation\":\"v\",\"showlegend\":false,\"x\":[1960],\"xaxis\":\"x\",\"y\":[97.27020357803825],\"yaxis\":\"y\",\"type\":\"scatter\"}],\"name\":\"1960\"},{\"data\":[{\"hovertemplate\":\"Anno=%{x}\\u003cbr\\u003eDurata (minuti)=%{y}\\u003cextra\\u003e\\u003c\\u002fextra\\u003e\",\"legendgroup\":\"\",\"marker\":{\"color\":\"#636efa\",\"symbol\":\"circle\"},\"mode\":\"markers\",\"name\":\"\",\"orientation\":\"v\",\"showlegend\":false,\"x\":[1961],\"xaxis\":\"x\",\"y\":[94.8447971781305],\"yaxis\":\"y\",\"type\":\"scatter\"}],\"name\":\"1961\"},{\"data\":[{\"hovertemplate\":\"Anno=%{x}\\u003cbr\\u003eDurata (minuti)=%{y}\\u003cextra\\u003e\\u003c\\u002fextra\\u003e\",\"legendgroup\":\"\",\"marker\":{\"color\":\"#636efa\",\"symbol\":\"circle\"},\"mode\":\"markers\",\"name\":\"\",\"orientation\":\"v\",\"showlegend\":false,\"x\":[1962],\"xaxis\":\"x\",\"y\":[95.74120879120879],\"yaxis\":\"y\",\"type\":\"scatter\"}],\"name\":\"1962\"},{\"data\":[{\"hovertemplate\":\"Anno=%{x}\\u003cbr\\u003eDurata (minuti)=%{y}\\u003cextra\\u003e\\u003c\\u002fextra\\u003e\",\"legendgroup\":\"\",\"marker\":{\"color\":\"#636efa\",\"symbol\":\"circle\"},\"mode\":\"markers\",\"name\":\"\",\"orientation\":\"v\",\"showlegend\":false,\"x\":[1963],\"xaxis\":\"x\",\"y\":[95.92389270118528],\"yaxis\":\"y\",\"type\":\"scatter\"}],\"name\":\"1963\"},{\"data\":[{\"hovertemplate\":\"Anno=%{x}\\u003cbr\\u003eDurata (minuti)=%{y}\\u003cextra\\u003e\\u003c\\u002fextra\\u003e\",\"legendgroup\":\"\",\"marker\":{\"color\":\"#636efa\",\"symbol\":\"circle\"},\"mode\":\"markers\",\"name\":\"\",\"orientation\":\"v\",\"showlegend\":false,\"x\":[1964],\"xaxis\":\"x\",\"y\":[98.23103448275862],\"yaxis\":\"y\",\"type\":\"scatter\"}],\"name\":\"1964\"},{\"data\":[{\"hovertemplate\":\"Anno=%{x}\\u003cbr\\u003eDurata (minuti)=%{y}\\u003cextra\\u003e\\u003c\\u002fextra\\u003e\",\"legendgroup\":\"\",\"marker\":{\"color\":\"#636efa\",\"symbol\":\"circle\"},\"mode\":\"markers\",\"name\":\"\",\"orientation\":\"v\",\"showlegend\":false,\"x\":[1965],\"xaxis\":\"x\",\"y\":[97.85435267857143],\"yaxis\":\"y\",\"type\":\"scatter\"}],\"name\":\"1965\"},{\"data\":[{\"hovertemplate\":\"Anno=%{x}\\u003cbr\\u003eDurata (minuti)=%{y}\\u003cextra\\u003e\\u003c\\u002fextra\\u003e\",\"legendgroup\":\"\",\"marker\":{\"color\":\"#636efa\",\"symbol\":\"circle\"},\"mode\":\"markers\",\"name\":\"\",\"orientation\":\"v\",\"showlegend\":false,\"x\":[1966],\"xaxis\":\"x\",\"y\":[97.09619565217392],\"yaxis\":\"y\",\"type\":\"scatter\"}],\"name\":\"1966\"},{\"data\":[{\"hovertemplate\":\"Anno=%{x}\\u003cbr\\u003eDurata (minuti)=%{y}\\u003cextra\\u003e\\u003c\\u002fextra\\u003e\",\"legendgroup\":\"\",\"marker\":{\"color\":\"#636efa\",\"symbol\":\"circle\"},\"mode\":\"markers\",\"name\":\"\",\"orientation\":\"v\",\"showlegend\":false,\"x\":[1967],\"xaxis\":\"x\",\"y\":[101.52128712871287],\"yaxis\":\"y\",\"type\":\"scatter\"}],\"name\":\"1967\"},{\"data\":[{\"hovertemplate\":\"Anno=%{x}\\u003cbr\\u003eDurata (minuti)=%{y}\\u003cextra\\u003e\\u003c\\u002fextra\\u003e\",\"legendgroup\":\"\",\"marker\":{\"color\":\"#636efa\",\"symbol\":\"circle\"},\"mode\":\"markers\",\"name\":\"\",\"orientation\":\"v\",\"showlegend\":false,\"x\":[1968],\"xaxis\":\"x\",\"y\":[99.0973731884058],\"yaxis\":\"y\",\"type\":\"scatter\"}],\"name\":\"1968\"},{\"data\":[{\"hovertemplate\":\"Anno=%{x}\\u003cbr\\u003eDurata (minuti)=%{y}\\u003cextra\\u003e\\u003c\\u002fextra\\u003e\",\"legendgroup\":\"\",\"marker\":{\"color\":\"#636efa\",\"symbol\":\"circle\"},\"mode\":\"markers\",\"name\":\"\",\"orientation\":\"v\",\"showlegend\":false,\"x\":[1969],\"xaxis\":\"x\",\"y\":[98.2080276219249],\"yaxis\":\"y\",\"type\":\"scatter\"}],\"name\":\"1969\"},{\"data\":[{\"hovertemplate\":\"Anno=%{x}\\u003cbr\\u003eDurata (minuti)=%{y}\\u003cextra\\u003e\\u003c\\u002fextra\\u003e\",\"legendgroup\":\"\",\"marker\":{\"color\":\"#636efa\",\"symbol\":\"circle\"},\"mode\":\"markers\",\"name\":\"\",\"orientation\":\"v\",\"showlegend\":false,\"x\":[1970],\"xaxis\":\"x\",\"y\":[96.63133640552995],\"yaxis\":\"y\",\"type\":\"scatter\"}],\"name\":\"1970\"},{\"data\":[{\"hovertemplate\":\"Anno=%{x}\\u003cbr\\u003eDurata (minuti)=%{y}\\u003cextra\\u003e\\u003c\\u002fextra\\u003e\",\"legendgroup\":\"\",\"marker\":{\"color\":\"#636efa\",\"symbol\":\"circle\"},\"mode\":\"markers\",\"name\":\"\",\"orientation\":\"v\",\"showlegend\":false,\"x\":[1971],\"xaxis\":\"x\",\"y\":[99.66666666666667],\"yaxis\":\"y\",\"type\":\"scatter\"}],\"name\":\"1971\"},{\"data\":[{\"hovertemplate\":\"Anno=%{x}\\u003cbr\\u003eDurata (minuti)=%{y}\\u003cextra\\u003e\\u003c\\u002fextra\\u003e\",\"legendgroup\":\"\",\"marker\":{\"color\":\"#636efa\",\"symbol\":\"circle\"},\"mode\":\"markers\",\"name\":\"\",\"orientation\":\"v\",\"showlegend\":false,\"x\":[1972],\"xaxis\":\"x\",\"y\":[100.0909090909091],\"yaxis\":\"y\",\"type\":\"scatter\"}],\"name\":\"1972\"},{\"data\":[{\"hovertemplate\":\"Anno=%{x}\\u003cbr\\u003eDurata (minuti)=%{y}\\u003cextra\\u003e\\u003c\\u002fextra\\u003e\",\"legendgroup\":\"\",\"marker\":{\"color\":\"#636efa\",\"symbol\":\"circle\"},\"mode\":\"markers\",\"name\":\"\",\"orientation\":\"v\",\"showlegend\":false,\"x\":[1973],\"xaxis\":\"x\",\"y\":[103.97878086419753],\"yaxis\":\"y\",\"type\":\"scatter\"}],\"name\":\"1973\"},{\"data\":[{\"hovertemplate\":\"Anno=%{x}\\u003cbr\\u003eDurata (minuti)=%{y}\\u003cextra\\u003e\\u003c\\u002fextra\\u003e\",\"legendgroup\":\"\",\"marker\":{\"color\":\"#636efa\",\"symbol\":\"circle\"},\"mode\":\"markers\",\"name\":\"\",\"orientation\":\"v\",\"showlegend\":false,\"x\":[1974],\"xaxis\":\"x\",\"y\":[104.06048703849176],\"yaxis\":\"y\",\"type\":\"scatter\"}],\"name\":\"1974\"},{\"data\":[{\"hovertemplate\":\"Anno=%{x}\\u003cbr\\u003eDurata (minuti)=%{y}\\u003cextra\\u003e\\u003c\\u002fextra\\u003e\",\"legendgroup\":\"\",\"marker\":{\"color\":\"#636efa\",\"symbol\":\"circle\"},\"mode\":\"markers\",\"name\":\"\",\"orientation\":\"v\",\"showlegend\":false,\"x\":[1975],\"xaxis\":\"x\",\"y\":[102.67215137803373],\"yaxis\":\"y\",\"type\":\"scatter\"}],\"name\":\"1975\"},{\"data\":[{\"hovertemplate\":\"Anno=%{x}\\u003cbr\\u003eDurata (minuti)=%{y}\\u003cextra\\u003e\\u003c\\u002fextra\\u003e\",\"legendgroup\":\"\",\"marker\":{\"color\":\"#636efa\",\"symbol\":\"circle\"},\"mode\":\"markers\",\"name\":\"\",\"orientation\":\"v\",\"showlegend\":false,\"x\":[1976],\"xaxis\":\"x\",\"y\":[104.76747967479675],\"yaxis\":\"y\",\"type\":\"scatter\"}],\"name\":\"1976\"},{\"data\":[{\"hovertemplate\":\"Anno=%{x}\\u003cbr\\u003eDurata (minuti)=%{y}\\u003cextra\\u003e\\u003c\\u002fextra\\u003e\",\"legendgroup\":\"\",\"marker\":{\"color\":\"#636efa\",\"symbol\":\"circle\"},\"mode\":\"markers\",\"name\":\"\",\"orientation\":\"v\",\"showlegend\":false,\"x\":[1977],\"xaxis\":\"x\",\"y\":[105.97644710578842],\"yaxis\":\"y\",\"type\":\"scatter\"}],\"name\":\"1977\"},{\"data\":[{\"hovertemplate\":\"Anno=%{x}\\u003cbr\\u003eDurata (minuti)=%{y}\\u003cextra\\u003e\\u003c\\u002fextra\\u003e\",\"legendgroup\":\"\",\"marker\":{\"color\":\"#636efa\",\"symbol\":\"circle\"},\"mode\":\"markers\",\"name\":\"\",\"orientation\":\"v\",\"showlegend\":false,\"x\":[1978],\"xaxis\":\"x\",\"y\":[115.2308584686775],\"yaxis\":\"y\",\"type\":\"scatter\"}],\"name\":\"1978\"},{\"data\":[{\"hovertemplate\":\"Anno=%{x}\\u003cbr\\u003eDurata (minuti)=%{y}\\u003cextra\\u003e\\u003c\\u002fextra\\u003e\",\"legendgroup\":\"\",\"marker\":{\"color\":\"#636efa\",\"symbol\":\"circle\"},\"mode\":\"markers\",\"name\":\"\",\"orientation\":\"v\",\"showlegend\":false,\"x\":[1979],\"xaxis\":\"x\",\"y\":[107.41827448125227],\"yaxis\":\"y\",\"type\":\"scatter\"}],\"name\":\"1979\"},{\"data\":[{\"hovertemplate\":\"Anno=%{x}\\u003cbr\\u003eDurata (minuti)=%{y}\\u003cextra\\u003e\\u003c\\u002fextra\\u003e\",\"legendgroup\":\"\",\"marker\":{\"color\":\"#636efa\",\"symbol\":\"circle\"},\"mode\":\"markers\",\"name\":\"\",\"orientation\":\"v\",\"showlegend\":false,\"x\":[1980],\"xaxis\":\"x\",\"y\":[111.47783783783784],\"yaxis\":\"y\",\"type\":\"scatter\"}],\"name\":\"1980\"},{\"data\":[{\"hovertemplate\":\"Anno=%{x}\\u003cbr\\u003eDurata (minuti)=%{y}\\u003cextra\\u003e\\u003c\\u002fextra\\u003e\",\"legendgroup\":\"\",\"marker\":{\"color\":\"#636efa\",\"symbol\":\"circle\"},\"mode\":\"markers\",\"name\":\"\",\"orientation\":\"v\",\"showlegend\":false,\"x\":[1981],\"xaxis\":\"x\",\"y\":[108.03630363036304],\"yaxis\":\"y\",\"type\":\"scatter\"}],\"name\":\"1981\"},{\"data\":[{\"hovertemplate\":\"Anno=%{x}\\u003cbr\\u003eDurata (minuti)=%{y}\\u003cextra\\u003e\\u003c\\u002fextra\\u003e\",\"legendgroup\":\"\",\"marker\":{\"color\":\"#636efa\",\"symbol\":\"circle\"},\"mode\":\"markers\",\"name\":\"\",\"orientation\":\"v\",\"showlegend\":false,\"x\":[1982],\"xaxis\":\"x\",\"y\":[108.87152411122844],\"yaxis\":\"y\",\"type\":\"scatter\"}],\"name\":\"1982\"},{\"data\":[{\"hovertemplate\":\"Anno=%{x}\\u003cbr\\u003eDurata (minuti)=%{y}\\u003cextra\\u003e\\u003c\\u002fextra\\u003e\",\"legendgroup\":\"\",\"marker\":{\"color\":\"#636efa\",\"symbol\":\"circle\"},\"mode\":\"markers\",\"name\":\"\",\"orientation\":\"v\",\"showlegend\":false,\"x\":[1983],\"xaxis\":\"x\",\"y\":[108.9159106769016],\"yaxis\":\"y\",\"type\":\"scatter\"}],\"name\":\"1983\"},{\"data\":[{\"hovertemplate\":\"Anno=%{x}\\u003cbr\\u003eDurata (minuti)=%{y}\\u003cextra\\u003e\\u003c\\u002fextra\\u003e\",\"legendgroup\":\"\",\"marker\":{\"color\":\"#636efa\",\"symbol\":\"circle\"},\"mode\":\"markers\",\"name\":\"\",\"orientation\":\"v\",\"showlegend\":false,\"x\":[1984],\"xaxis\":\"x\",\"y\":[107.73955857385398],\"yaxis\":\"y\",\"type\":\"scatter\"}],\"name\":\"1984\"},{\"data\":[{\"hovertemplate\":\"Anno=%{x}\\u003cbr\\u003eDurata (minuti)=%{y}\\u003cextra\\u003e\\u003c\\u002fextra\\u003e\",\"legendgroup\":\"\",\"marker\":{\"color\":\"#636efa\",\"symbol\":\"circle\"},\"mode\":\"markers\",\"name\":\"\",\"orientation\":\"v\",\"showlegend\":false,\"x\":[1985],\"xaxis\":\"x\",\"y\":[110.80942480942481],\"yaxis\":\"y\",\"type\":\"scatter\"}],\"name\":\"1985\"},{\"data\":[{\"hovertemplate\":\"Anno=%{x}\\u003cbr\\u003eDurata (minuti)=%{y}\\u003cextra\\u003e\\u003c\\u002fextra\\u003e\",\"legendgroup\":\"\",\"marker\":{\"color\":\"#636efa\",\"symbol\":\"circle\"},\"mode\":\"markers\",\"name\":\"\",\"orientation\":\"v\",\"showlegend\":false,\"x\":[1986],\"xaxis\":\"x\",\"y\":[107.36075742735879],\"yaxis\":\"y\",\"type\":\"scatter\"}],\"name\":\"1986\"},{\"data\":[{\"hovertemplate\":\"Anno=%{x}\\u003cbr\\u003eDurata (minuti)=%{y}\\u003cextra\\u003e\\u003c\\u002fextra\\u003e\",\"legendgroup\":\"\",\"marker\":{\"color\":\"#636efa\",\"symbol\":\"circle\"},\"mode\":\"markers\",\"name\":\"\",\"orientation\":\"v\",\"showlegend\":false,\"x\":[1987],\"xaxis\":\"x\",\"y\":[107.54059097978227],\"yaxis\":\"y\",\"type\":\"scatter\"}],\"name\":\"1987\"},{\"data\":[{\"hovertemplate\":\"Anno=%{x}\\u003cbr\\u003eDurata (minuti)=%{y}\\u003cextra\\u003e\\u003c\\u002fextra\\u003e\",\"legendgroup\":\"\",\"marker\":{\"color\":\"#636efa\",\"symbol\":\"circle\"},\"mode\":\"markers\",\"name\":\"\",\"orientation\":\"v\",\"showlegend\":false,\"x\":[1988],\"xaxis\":\"x\",\"y\":[106.64839203675345],\"yaxis\":\"y\",\"type\":\"scatter\"}],\"name\":\"1988\"},{\"data\":[{\"hovertemplate\":\"Anno=%{x}\\u003cbr\\u003eDurata (minuti)=%{y}\\u003cextra\\u003e\\u003c\\u002fextra\\u003e\",\"legendgroup\":\"\",\"marker\":{\"color\":\"#636efa\",\"symbol\":\"circle\"},\"mode\":\"markers\",\"name\":\"\",\"orientation\":\"v\",\"showlegend\":false,\"x\":[1989],\"xaxis\":\"x\",\"y\":[107.43326488706366],\"yaxis\":\"y\",\"type\":\"scatter\"}],\"name\":\"1989\"},{\"data\":[{\"hovertemplate\":\"Anno=%{x}\\u003cbr\\u003eDurata (minuti)=%{y}\\u003cextra\\u003e\\u003c\\u002fextra\\u003e\",\"legendgroup\":\"\",\"marker\":{\"color\":\"#636efa\",\"symbol\":\"circle\"},\"mode\":\"markers\",\"name\":\"\",\"orientation\":\"v\",\"showlegend\":false,\"x\":[1990],\"xaxis\":\"x\",\"y\":[105.22756981580511],\"yaxis\":\"y\",\"type\":\"scatter\"}],\"name\":\"1990\"},{\"data\":[{\"hovertemplate\":\"Anno=%{x}\\u003cbr\\u003eDurata (minuti)=%{y}\\u003cextra\\u003e\\u003c\\u002fextra\\u003e\",\"legendgroup\":\"\",\"marker\":{\"color\":\"#636efa\",\"symbol\":\"circle\"},\"mode\":\"markers\",\"name\":\"\",\"orientation\":\"v\",\"showlegend\":false,\"x\":[1991],\"xaxis\":\"x\",\"y\":[107.51730531520396],\"yaxis\":\"y\",\"type\":\"scatter\"}],\"name\":\"1991\"},{\"data\":[{\"hovertemplate\":\"Anno=%{x}\\u003cbr\\u003eDurata (minuti)=%{y}\\u003cextra\\u003e\\u003c\\u002fextra\\u003e\",\"legendgroup\":\"\",\"marker\":{\"color\":\"#636efa\",\"symbol\":\"circle\"},\"mode\":\"markers\",\"name\":\"\",\"orientation\":\"v\",\"showlegend\":false,\"x\":[1992],\"xaxis\":\"x\",\"y\":[107.313200498132],\"yaxis\":\"y\",\"type\":\"scatter\"}],\"name\":\"1992\"},{\"data\":[{\"hovertemplate\":\"Anno=%{x}\\u003cbr\\u003eDurata (minuti)=%{y}\\u003cextra\\u003e\\u003c\\u002fextra\\u003e\",\"legendgroup\":\"\",\"marker\":{\"color\":\"#636efa\",\"symbol\":\"circle\"},\"mode\":\"markers\",\"name\":\"\",\"orientation\":\"v\",\"showlegend\":false,\"x\":[1993],\"xaxis\":\"x\",\"y\":[108.52513966480447],\"yaxis\":\"y\",\"type\":\"scatter\"}],\"name\":\"1993\"},{\"data\":[{\"hovertemplate\":\"Anno=%{x}\\u003cbr\\u003eDurata (minuti)=%{y}\\u003cextra\\u003e\\u003c\\u002fextra\\u003e\",\"legendgroup\":\"\",\"marker\":{\"color\":\"#636efa\",\"symbol\":\"circle\"},\"mode\":\"markers\",\"name\":\"\",\"orientation\":\"v\",\"showlegend\":false,\"x\":[1994],\"xaxis\":\"x\",\"y\":[107.27997546764796],\"yaxis\":\"y\",\"type\":\"scatter\"}],\"name\":\"1994\"},{\"data\":[{\"hovertemplate\":\"Anno=%{x}\\u003cbr\\u003eDurata (minuti)=%{y}\\u003cextra\\u003e\\u003c\\u002fextra\\u003e\",\"legendgroup\":\"\",\"marker\":{\"color\":\"#636efa\",\"symbol\":\"circle\"},\"mode\":\"markers\",\"name\":\"\",\"orientation\":\"v\",\"showlegend\":false,\"x\":[1995],\"xaxis\":\"x\",\"y\":[108.11859838274933],\"yaxis\":\"y\",\"type\":\"scatter\"}],\"name\":\"1995\"},{\"data\":[{\"hovertemplate\":\"Anno=%{x}\\u003cbr\\u003eDurata (minuti)=%{y}\\u003cextra\\u003e\\u003c\\u002fextra\\u003e\",\"legendgroup\":\"\",\"marker\":{\"color\":\"#636efa\",\"symbol\":\"circle\"},\"mode\":\"markers\",\"name\":\"\",\"orientation\":\"v\",\"showlegend\":false,\"x\":[1996],\"xaxis\":\"x\",\"y\":[110.56951473652873],\"yaxis\":\"y\",\"type\":\"scatter\"}],\"name\":\"1996\"},{\"data\":[{\"hovertemplate\":\"Anno=%{x}\\u003cbr\\u003eDurata (minuti)=%{y}\\u003cextra\\u003e\\u003c\\u002fextra\\u003e\",\"legendgroup\":\"\",\"marker\":{\"color\":\"#636efa\",\"symbol\":\"circle\"},\"mode\":\"markers\",\"name\":\"\",\"orientation\":\"v\",\"showlegend\":false,\"x\":[1997],\"xaxis\":\"x\",\"y\":[107.71637591446257],\"yaxis\":\"y\",\"type\":\"scatter\"}],\"name\":\"1997\"},{\"data\":[{\"hovertemplate\":\"Anno=%{x}\\u003cbr\\u003eDurata (minuti)=%{y}\\u003cextra\\u003e\\u003c\\u002fextra\\u003e\",\"legendgroup\":\"\",\"marker\":{\"color\":\"#636efa\",\"symbol\":\"circle\"},\"mode\":\"markers\",\"name\":\"\",\"orientation\":\"v\",\"showlegend\":false,\"x\":[1998],\"xaxis\":\"x\",\"y\":[110.86058614078334],\"yaxis\":\"y\",\"type\":\"scatter\"}],\"name\":\"1998\"},{\"data\":[{\"hovertemplate\":\"Anno=%{x}\\u003cbr\\u003eDurata (minuti)=%{y}\\u003cextra\\u003e\\u003c\\u002fextra\\u003e\",\"legendgroup\":\"\",\"marker\":{\"color\":\"#636efa\",\"symbol\":\"circle\"},\"mode\":\"markers\",\"name\":\"\",\"orientation\":\"v\",\"showlegend\":false,\"x\":[1999],\"xaxis\":\"x\",\"y\":[107.0877239199157],\"yaxis\":\"y\",\"type\":\"scatter\"}],\"name\":\"1999\"},{\"data\":[{\"hovertemplate\":\"Anno=%{x}\\u003cbr\\u003eDurata (minuti)=%{y}\\u003cextra\\u003e\\u003c\\u002fextra\\u003e\",\"legendgroup\":\"\",\"marker\":{\"color\":\"#636efa\",\"symbol\":\"circle\"},\"mode\":\"markers\",\"name\":\"\",\"orientation\":\"v\",\"showlegend\":false,\"x\":[2000],\"xaxis\":\"x\",\"y\":[126.31523378582202],\"yaxis\":\"y\",\"type\":\"scatter\"}],\"name\":\"2000\"},{\"data\":[{\"hovertemplate\":\"Anno=%{x}\\u003cbr\\u003eDurata (minuti)=%{y}\\u003cextra\\u003e\\u003c\\u002fextra\\u003e\",\"legendgroup\":\"\",\"marker\":{\"color\":\"#636efa\",\"symbol\":\"circle\"},\"mode\":\"markers\",\"name\":\"\",\"orientation\":\"v\",\"showlegend\":false,\"x\":[2001],\"xaxis\":\"x\",\"y\":[110.19290051377861],\"yaxis\":\"y\",\"type\":\"scatter\"}],\"name\":\"2001\"},{\"data\":[{\"hovertemplate\":\"Anno=%{x}\\u003cbr\\u003eDurata (minuti)=%{y}\\u003cextra\\u003e\\u003c\\u002fextra\\u003e\",\"legendgroup\":\"\",\"marker\":{\"color\":\"#636efa\",\"symbol\":\"circle\"},\"mode\":\"markers\",\"name\":\"\",\"orientation\":\"v\",\"showlegend\":false,\"x\":[2002],\"xaxis\":\"x\",\"y\":[122.72074410555916],\"yaxis\":\"y\",\"type\":\"scatter\"}],\"name\":\"2002\"},{\"data\":[{\"hovertemplate\":\"Anno=%{x}\\u003cbr\\u003eDurata (minuti)=%{y}\\u003cextra\\u003e\\u003c\\u002fextra\\u003e\",\"legendgroup\":\"\",\"marker\":{\"color\":\"#636efa\",\"symbol\":\"circle\"},\"mode\":\"markers\",\"name\":\"\",\"orientation\":\"v\",\"showlegend\":false,\"x\":[2003],\"xaxis\":\"x\",\"y\":[113.46736550632912],\"yaxis\":\"y\",\"type\":\"scatter\"}],\"name\":\"2003\"},{\"data\":[{\"hovertemplate\":\"Anno=%{x}\\u003cbr\\u003eDurata (minuti)=%{y}\\u003cextra\\u003e\\u003c\\u002fextra\\u003e\",\"legendgroup\":\"\",\"marker\":{\"color\":\"#636efa\",\"symbol\":\"circle\"},\"mode\":\"markers\",\"name\":\"\",\"orientation\":\"v\",\"showlegend\":false,\"x\":[2004],\"xaxis\":\"x\",\"y\":[112.9774112585156],\"yaxis\":\"y\",\"type\":\"scatter\"}],\"name\":\"2004\"},{\"data\":[{\"hovertemplate\":\"Anno=%{x}\\u003cbr\\u003eDurata (minuti)=%{y}\\u003cextra\\u003e\\u003c\\u002fextra\\u003e\",\"legendgroup\":\"\",\"marker\":{\"color\":\"#636efa\",\"symbol\":\"circle\"},\"mode\":\"markers\",\"name\":\"\",\"orientation\":\"v\",\"showlegend\":false,\"x\":[2005],\"xaxis\":\"x\",\"y\":[111.07465392221489],\"yaxis\":\"y\",\"type\":\"scatter\"}],\"name\":\"2005\"},{\"data\":[{\"hovertemplate\":\"Anno=%{x}\\u003cbr\\u003eDurata (minuti)=%{y}\\u003cextra\\u003e\\u003c\\u002fextra\\u003e\",\"legendgroup\":\"\",\"marker\":{\"color\":\"#636efa\",\"symbol\":\"circle\"},\"mode\":\"markers\",\"name\":\"\",\"orientation\":\"v\",\"showlegend\":false,\"x\":[2006],\"xaxis\":\"x\",\"y\":[113.10122060136945],\"yaxis\":\"y\",\"type\":\"scatter\"}],\"name\":\"2006\"},{\"data\":[{\"hovertemplate\":\"Anno=%{x}\\u003cbr\\u003eDurata (minuti)=%{y}\\u003cextra\\u003e\\u003c\\u002fextra\\u003e\",\"legendgroup\":\"\",\"marker\":{\"color\":\"#636efa\",\"symbol\":\"circle\"},\"mode\":\"markers\",\"name\":\"\",\"orientation\":\"v\",\"showlegend\":false,\"x\":[2007],\"xaxis\":\"x\",\"y\":[110.39272986457591],\"yaxis\":\"y\",\"type\":\"scatter\"}],\"name\":\"2007\"},{\"data\":[{\"hovertemplate\":\"Anno=%{x}\\u003cbr\\u003eDurata (minuti)=%{y}\\u003cextra\\u003e\\u003c\\u002fextra\\u003e\",\"legendgroup\":\"\",\"marker\":{\"color\":\"#636efa\",\"symbol\":\"circle\"},\"mode\":\"markers\",\"name\":\"\",\"orientation\":\"v\",\"showlegend\":false,\"x\":[2008],\"xaxis\":\"x\",\"y\":[110.25751072961373],\"yaxis\":\"y\",\"type\":\"scatter\"}],\"name\":\"2008\"},{\"data\":[{\"hovertemplate\":\"Anno=%{x}\\u003cbr\\u003eDurata (minuti)=%{y}\\u003cextra\\u003e\\u003c\\u002fextra\\u003e\",\"legendgroup\":\"\",\"marker\":{\"color\":\"#636efa\",\"symbol\":\"circle\"},\"mode\":\"markers\",\"name\":\"\",\"orientation\":\"v\",\"showlegend\":false,\"x\":[2009],\"xaxis\":\"x\",\"y\":[109.44829342842588],\"yaxis\":\"y\",\"type\":\"scatter\"}],\"name\":\"2009\"},{\"data\":[{\"hovertemplate\":\"Anno=%{x}\\u003cbr\\u003eDurata (minuti)=%{y}\\u003cextra\\u003e\\u003c\\u002fextra\\u003e\",\"legendgroup\":\"\",\"marker\":{\"color\":\"#636efa\",\"symbol\":\"circle\"},\"mode\":\"markers\",\"name\":\"\",\"orientation\":\"v\",\"showlegend\":false,\"x\":[2010],\"xaxis\":\"x\",\"y\":[109.47137781287012],\"yaxis\":\"y\",\"type\":\"scatter\"}],\"name\":\"2010\"},{\"data\":[{\"hovertemplate\":\"Anno=%{x}\\u003cbr\\u003eDurata (minuti)=%{y}\\u003cextra\\u003e\\u003c\\u002fextra\\u003e\",\"legendgroup\":\"\",\"marker\":{\"color\":\"#636efa\",\"symbol\":\"circle\"},\"mode\":\"markers\",\"name\":\"\",\"orientation\":\"v\",\"showlegend\":false,\"x\":[2011],\"xaxis\":\"x\",\"y\":[118.10764467730412],\"yaxis\":\"y\",\"type\":\"scatter\"}],\"name\":\"2011\"},{\"data\":[{\"hovertemplate\":\"Anno=%{x}\\u003cbr\\u003eDurata (minuti)=%{y}\\u003cextra\\u003e\\u003c\\u002fextra\\u003e\",\"legendgroup\":\"\",\"marker\":{\"color\":\"#636efa\",\"symbol\":\"circle\"},\"mode\":\"markers\",\"name\":\"\",\"orientation\":\"v\",\"showlegend\":false,\"x\":[2012],\"xaxis\":\"x\",\"y\":[109.5838296933598],\"yaxis\":\"y\",\"type\":\"scatter\"}],\"name\":\"2012\"},{\"data\":[{\"hovertemplate\":\"Anno=%{x}\\u003cbr\\u003eDurata (minuti)=%{y}\\u003cextra\\u003e\\u003c\\u002fextra\\u003e\",\"legendgroup\":\"\",\"marker\":{\"color\":\"#636efa\",\"symbol\":\"circle\"},\"mode\":\"markers\",\"name\":\"\",\"orientation\":\"v\",\"showlegend\":false,\"x\":[2013],\"xaxis\":\"x\",\"y\":[108.97984732824428],\"yaxis\":\"y\",\"type\":\"scatter\"}],\"name\":\"2013\"},{\"data\":[{\"hovertemplate\":\"Anno=%{x}\\u003cbr\\u003eDurata (minuti)=%{y}\\u003cextra\\u003e\\u003c\\u002fextra\\u003e\",\"legendgroup\":\"\",\"marker\":{\"color\":\"#636efa\",\"symbol\":\"circle\"},\"mode\":\"markers\",\"name\":\"\",\"orientation\":\"v\",\"showlegend\":false,\"x\":[2014],\"xaxis\":\"x\",\"y\":[110.22397993633645],\"yaxis\":\"y\",\"type\":\"scatter\"}],\"name\":\"2014\"},{\"data\":[{\"hovertemplate\":\"Anno=%{x}\\u003cbr\\u003eDurata (minuti)=%{y}\\u003cextra\\u003e\\u003c\\u002fextra\\u003e\",\"legendgroup\":\"\",\"marker\":{\"color\":\"#636efa\",\"symbol\":\"circle\"},\"mode\":\"markers\",\"name\":\"\",\"orientation\":\"v\",\"showlegend\":false,\"x\":[2015],\"xaxis\":\"x\",\"y\":[110.12404021937843],\"yaxis\":\"y\",\"type\":\"scatter\"}],\"name\":\"2015\"},{\"data\":[{\"hovertemplate\":\"Anno=%{x}\\u003cbr\\u003eDurata (minuti)=%{y}\\u003cextra\\u003e\\u003c\\u002fextra\\u003e\",\"legendgroup\":\"\",\"marker\":{\"color\":\"#636efa\",\"symbol\":\"circle\"},\"mode\":\"markers\",\"name\":\"\",\"orientation\":\"v\",\"showlegend\":false,\"x\":[2016],\"xaxis\":\"x\",\"y\":[108.96777011092672],\"yaxis\":\"y\",\"type\":\"scatter\"}],\"name\":\"2016\"},{\"data\":[{\"hovertemplate\":\"Anno=%{x}\\u003cbr\\u003eDurata (minuti)=%{y}\\u003cextra\\u003e\\u003c\\u002fextra\\u003e\",\"legendgroup\":\"\",\"marker\":{\"color\":\"#636efa\",\"symbol\":\"circle\"},\"mode\":\"markers\",\"name\":\"\",\"orientation\":\"v\",\"showlegend\":false,\"x\":[2017],\"xaxis\":\"x\",\"y\":[113.27427030456853],\"yaxis\":\"y\",\"type\":\"scatter\"}],\"name\":\"2017\"},{\"data\":[{\"hovertemplate\":\"Anno=%{x}\\u003cbr\\u003eDurata (minuti)=%{y}\\u003cextra\\u003e\\u003c\\u002fextra\\u003e\",\"legendgroup\":\"\",\"marker\":{\"color\":\"#636efa\",\"symbol\":\"circle\"},\"mode\":\"markers\",\"name\":\"\",\"orientation\":\"v\",\"showlegend\":false,\"x\":[2018],\"xaxis\":\"x\",\"y\":[114.18436858511366],\"yaxis\":\"y\",\"type\":\"scatter\"}],\"name\":\"2018\"},{\"data\":[{\"hovertemplate\":\"Anno=%{x}\\u003cbr\\u003eDurata (minuti)=%{y}\\u003cextra\\u003e\\u003c\\u002fextra\\u003e\",\"legendgroup\":\"\",\"marker\":{\"color\":\"#636efa\",\"symbol\":\"circle\"},\"mode\":\"markers\",\"name\":\"\",\"orientation\":\"v\",\"showlegend\":false,\"x\":[2019],\"xaxis\":\"x\",\"y\":[115.46680663143415],\"yaxis\":\"y\",\"type\":\"scatter\"}],\"name\":\"2019\"},{\"data\":[{\"hovertemplate\":\"Anno=%{x}\\u003cbr\\u003eDurata (minuti)=%{y}\\u003cextra\\u003e\\u003c\\u002fextra\\u003e\",\"legendgroup\":\"\",\"marker\":{\"color\":\"#636efa\",\"symbol\":\"circle\"},\"mode\":\"markers\",\"name\":\"\",\"orientation\":\"v\",\"showlegend\":false,\"x\":[2020],\"xaxis\":\"x\",\"y\":[122.13995673156931],\"yaxis\":\"y\",\"type\":\"scatter\"}],\"name\":\"2020\"},{\"data\":[{\"hovertemplate\":\"Anno=%{x}\\u003cbr\\u003eDurata (minuti)=%{y}\\u003cextra\\u003e\\u003c\\u002fextra\\u003e\",\"legendgroup\":\"\",\"marker\":{\"color\":\"#636efa\",\"symbol\":\"circle\"},\"mode\":\"markers\",\"name\":\"\",\"orientation\":\"v\",\"showlegend\":false,\"x\":[2021],\"xaxis\":\"x\",\"y\":[124.56182357301705],\"yaxis\":\"y\",\"type\":\"scatter\"}],\"name\":\"2021\"},{\"data\":[{\"hovertemplate\":\"Anno=%{x}\\u003cbr\\u003eDurata (minuti)=%{y}\\u003cextra\\u003e\\u003c\\u002fextra\\u003e\",\"legendgroup\":\"\",\"marker\":{\"color\":\"#636efa\",\"symbol\":\"circle\"},\"mode\":\"markers\",\"name\":\"\",\"orientation\":\"v\",\"showlegend\":false,\"x\":[2022],\"xaxis\":\"x\",\"y\":[126.56186738277215],\"yaxis\":\"y\",\"type\":\"scatter\"}],\"name\":\"2022\"},{\"data\":[{\"hovertemplate\":\"Anno=%{x}\\u003cbr\\u003eDurata (minuti)=%{y}\\u003cextra\\u003e\\u003c\\u002fextra\\u003e\",\"legendgroup\":\"\",\"marker\":{\"color\":\"#636efa\",\"symbol\":\"circle\"},\"mode\":\"markers\",\"name\":\"\",\"orientation\":\"v\",\"showlegend\":false,\"x\":[2023],\"xaxis\":\"x\",\"y\":[123.30578186596584],\"yaxis\":\"y\",\"type\":\"scatter\"}],\"name\":\"2023\"},{\"data\":[{\"hovertemplate\":\"Anno=%{x}\\u003cbr\\u003eDurata (minuti)=%{y}\\u003cextra\\u003e\\u003c\\u002fextra\\u003e\",\"legendgroup\":\"\",\"marker\":{\"color\":\"#636efa\",\"symbol\":\"circle\"},\"mode\":\"markers\",\"name\":\"\",\"orientation\":\"v\",\"showlegend\":false,\"x\":[2024],\"xaxis\":\"x\",\"y\":[114.74294181874903],\"yaxis\":\"y\",\"type\":\"scatter\"}],\"name\":\"2024\"}]);\n",
       "                        }).then(function(){\n",
       "                            \n",
       "var gd = document.getElementById('a8c3b5e8-4837-4491-933b-3b4c7a471aed');\n",
       "var x = new MutationObserver(function (mutations, observer) {{\n",
       "        var display = window.getComputedStyle(gd).display;\n",
       "        if (!display || display === 'none') {{\n",
       "            console.log([gd, 'removed!']);\n",
       "            Plotly.purge(gd);\n",
       "            observer.disconnect();\n",
       "        }}\n",
       "}});\n",
       "\n",
       "// Listen for the removal of the full notebook cells\n",
       "var notebookContainer = gd.closest('#notebook-container');\n",
       "if (notebookContainer) {{\n",
       "    x.observe(notebookContainer, {childList: true});\n",
       "}}\n",
       "\n",
       "// Listen for the clearing of the current output cell\n",
       "var outputEl = gd.closest('.output');\n",
       "if (outputEl) {{\n",
       "    x.observe(outputEl, {childList: true});\n",
       "}}\n",
       "\n",
       "                        })                };                });            </script>        </div>"
      ]
     },
     "metadata": {},
     "output_type": "display_data"
    }
   ],
   "execution_count": 28
  },
  {
   "metadata": {},
   "cell_type": "markdown",
   "source": "Dopo un periodo di incertezza nei primi anni del '900 si può notare che la tendenza è stata quella di avere film sempre più corti, fino circa agli anni 30, quando la tendenza si è invertita, con film progressivamente più lunghi.",
   "id": "87b13b6cb1f77fd1"
  },
  {
   "metadata": {},
   "cell_type": "code",
   "outputs": [],
   "execution_count": null,
   "source": "",
   "id": "ccb3164241b3980b"
  }
 ],
 "metadata": {
  "kernelspec": {
   "display_name": "Python (progettozzo)",
   "language": "python",
   "name": "progettozzo"
  },
  "language_info": {
   "codemirror_mode": {
    "name": "ipython",
    "version": 3
   },
   "file_extension": ".py",
   "mimetype": "text/x-python",
   "name": "python",
   "nbconvert_exporter": "python",
   "pygments_lexer": "ipython3",
   "version": "3.12.3"
  }
 },
 "nbformat": 4,
 "nbformat_minor": 5
}

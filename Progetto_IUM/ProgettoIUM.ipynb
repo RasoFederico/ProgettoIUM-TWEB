{
 "cells": [
  {
   "metadata": {},
   "cell_type": "markdown",
   "source": [
    "# Progetto IUM - Data Analysis\n",
    "## Università di Informatica, Unito\n",
    "Gruppo Federico Raso, Federico Verra"
   ],
   "id": "466e284e0365b426"
  },
  {
   "cell_type": "code",
   "id": "initial_id",
   "metadata": {
    "collapsed": true,
    "ExecuteTime": {
     "end_time": "2024-12-20T20:29:08.943293Z",
     "start_time": "2024-12-20T20:29:06.413234Z"
    }
   },
   "source": [
    "from platform import release\n",
    "\n",
    "import pandas as pd\n",
    "import geopandas as gpd\n",
    "import matplotlib.pyplot as plt"
   ],
   "outputs": [],
   "execution_count": 1
  },
  {
   "metadata": {
    "ExecuteTime": {
     "end_time": "2024-12-20T20:29:46.750564Z",
     "start_time": "2024-12-20T20:29:26.100916Z"
    }
   },
   "cell_type": "code",
   "source": [
    "data_directory = \"../data/\"\n",
    "actors_df = pd.read_csv(data_directory+'actors.csv')\n",
    "countries_df = pd.read_csv(data_directory+'countries.csv')\n",
    "crew_df = pd.read_csv(data_directory+'crew.csv')\n",
    "genres_df = pd.read_csv(data_directory+'genres.csv')\n",
    "languages_df = pd.read_csv(data_directory+'languages.csv')\n",
    "movies_df = pd.read_csv(data_directory+'movies.csv')\n",
    "posters_df = pd.read_csv(data_directory+'posters.csv')\n",
    "releases_df = pd.read_csv(data_directory+'releases.csv')\n",
    "reviews_rotten_df = pd.read_csv(data_directory+'rotten_tomatoes_reviews.csv')\n",
    "studios_df = pd.read_csv(data_directory+'studios.csv')\n",
    "oscar_df = pd.read_csv(data_directory+'the_oscar_awards.csv')"
   ],
   "id": "433d985e21f0e341",
   "outputs": [],
   "execution_count": 2
  },
  {
   "metadata": {},
   "cell_type": "markdown",
   "source": "## Analizzo e pulisco i dati",
   "id": "a501ce5d607af062"
  },
  {
   "metadata": {},
   "cell_type": "code",
   "outputs": [],
   "execution_count": null,
   "source": "",
   "id": "626e141798383c9e"
  },
  {
   "metadata": {},
   "cell_type": "markdown",
   "source": "## Quale paese ha vinto più oscar?",
   "id": "f7ee33d651101ad5"
  },
  {
   "metadata": {},
   "cell_type": "code",
   "outputs": [],
   "execution_count": null,
   "source": "",
   "id": "6a2545048d99af50"
  },
  {
   "metadata": {},
   "cell_type": "markdown",
   "source": "## Chi ha prodotto più film?",
   "id": "86a878d97db1984e"
  },
  {
   "metadata": {},
   "cell_type": "code",
   "outputs": [],
   "execution_count": null,
   "source": "",
   "id": "c21ead202e9cfc52"
  },
  {
   "metadata": {},
   "cell_type": "markdown",
   "source": "## La bellezza di un film, può essere influenzata dalla durata?",
   "id": "6162b904c9a4288f"
  },
  {
   "metadata": {},
   "cell_type": "code",
   "outputs": [],
   "execution_count": null,
   "source": "",
   "id": "c4ac5986f50e24d8"
  },
  {
   "metadata": {},
   "cell_type": "markdown",
   "source": "## Nel tempo come si è evoluta la durata media dei film?",
   "id": "6ca2dd3f55bd00a7"
  },
  {
   "metadata": {},
   "cell_type": "markdown",
   "source": "",
   "id": "ff3ad829cbe82aeb"
  }
 ],
 "metadata": {
  "kernelspec": {
   "display_name": "Python 3",
   "language": "python",
   "name": "python3"
  },
  "language_info": {
   "codemirror_mode": {
    "name": "ipython",
    "version": 2
   },
   "file_extension": ".py",
   "mimetype": "text/x-python",
   "name": "python",
   "nbconvert_exporter": "python",
   "pygments_lexer": "ipython2",
   "version": "2.7.6"
  }
 },
 "nbformat": 4,
 "nbformat_minor": 5
}

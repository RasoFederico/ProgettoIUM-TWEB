{
 "cells": [
  {
   "metadata": {},
   "cell_type": "markdown",
   "source": [
    "# Progetto IUM - Data Analysis\n",
    "## Università di Informatica, Unito\n",
    "Gruppo Federico Raso, Federico Verra\n",
    "\n",
    "Questa sezione è dedicata a domande più specifiche sui alcuni film o attori"
   ],
   "id": "709018de2c6583bc"
  },
  {
   "metadata": {
    "ExecuteTime": {
     "end_time": "2025-01-02T11:33:23.871420Z",
     "start_time": "2025-01-02T11:33:19.688813Z"
    }
   },
   "cell_type": "code",
   "source": [
    "import pandas as pd\n",
    "import geopandas as gpd\n",
    "import seaborn as sns\n",
    "import plotly.express as px\n",
    "import plotly.graph_objects as go\n",
    "import matplotlib.pyplot as plt"
   ],
   "id": "8f33ea583a05a17c",
   "outputs": [],
   "execution_count": 27
  },
  {
   "metadata": {
    "ExecuteTime": {
     "end_time": "2025-01-02T11:37:00.337723Z",
     "start_time": "2025-01-02T11:36:25.571017Z"
    }
   },
   "cell_type": "code",
   "source": [
    "data_directory = \"../data/\"\n",
    "actors_df = pd.read_csv(data_directory+'actors.csv')\n",
    "countries_df = pd.read_csv(data_directory+'countries.csv')\n",
    "crew_df = pd.read_csv(data_directory+'crew.csv')\n",
    "genres_df = pd.read_csv(data_directory+'genres.csv')\n",
    "languages_df = pd.read_csv(data_directory+'languages.csv')\n",
    "movies_df = pd.read_csv(data_directory+'movies.csv')\n",
    "posters_df = pd.read_csv(data_directory+'posters.csv')\n",
    "releases_df = pd.read_csv(data_directory+'releases.csv')\n",
    "reviews_rotten_df = pd.read_csv(data_directory+'rotten_tomatoes_reviews.csv')\n",
    "studios_df = pd.read_csv(data_directory+'studios.csv')\n",
    "oscar_df = pd.read_csv(data_directory+'the_oscar_awards.csv')\n",
    "\n",
    "world = gpd.read_file(data_directory+'/countries/ne_110m_admin_0_countries.shp')"
   ],
   "id": "357de1e598b79c97",
   "outputs": [],
   "execution_count": 29
  },
  {
   "metadata": {},
   "cell_type": "markdown",
   "source": "## Analizzo e pulisco i dati",
   "id": "4d658a5f11425168"
  },
  {
   "metadata": {},
   "cell_type": "markdown",
   "source": "Reviews_rotten_df",
   "id": "e5636e64b32ad778"
  },
  {
   "metadata": {
    "ExecuteTime": {
     "end_time": "2025-01-02T11:37:20.959624Z",
     "start_time": "2025-01-02T11:37:20.911007Z"
    }
   },
   "cell_type": "code",
   "source": "reviews_rotten_df.dtypes",
   "id": "dae60181292fb8a",
   "outputs": [
    {
     "data": {
      "text/plain": [
       "rotten_tomatoes_link    object\n",
       "movie_title             object\n",
       "critic_name             object\n",
       "top_critic                bool\n",
       "publisher_name          object\n",
       "review_type             object\n",
       "review_score            object\n",
       "review_date             object\n",
       "review_content          object\n",
       "dtype: object"
      ]
     },
     "execution_count": 30,
     "metadata": {},
     "output_type": "execute_result"
    }
   ],
   "execution_count": 30
  },
  {
   "metadata": {
    "ExecuteTime": {
     "end_time": "2025-01-02T11:38:03.238477Z",
     "start_time": "2025-01-02T11:38:03.090196Z"
    }
   },
   "cell_type": "code",
   "source": [
    "reviews_rotten_df = reviews_rotten_df[['movie_title','critic_name','top_critic','publisher_name','review_type','review_score']]\n",
    "reviews_rotten_df"
   ],
   "id": "467e91b4e1cb7221",
   "outputs": [
    {
     "data": {
      "text/plain": [
       "                                               movie_title        critic_name  \\\n",
       "0        Percy Jackson & the Olympians: The Lightning T...    Andrew L. Urban   \n",
       "1        Percy Jackson & the Olympians: The Lightning T...      Louise Keller   \n",
       "2        Percy Jackson & the Olympians: The Lightning T...                NaN   \n",
       "3        Percy Jackson & the Olympians: The Lightning T...       Ben McEachen   \n",
       "4        Percy Jackson & the Olympians: The Lightning T...        Ethan Alter   \n",
       "...                                                    ...                ...   \n",
       "1129882                                          Zulu Dawn      Chuck O'Leary   \n",
       "1129883                                          Zulu Dawn          Ken Hanke   \n",
       "1129884                                          Zulu Dawn    Dennis Schwartz   \n",
       "1129885                                          Zulu Dawn  Christopher Lloyd   \n",
       "1129886                                          Zulu Dawn     Brent McKnight   \n",
       "\n",
       "         top_critic                   publisher_name review_type review_score  \n",
       "0             False                   Urban Cinefile       Fresh          NaN  \n",
       "1             False                   Urban Cinefile       Fresh          NaN  \n",
       "2             False              FILMINK (Australia)       Fresh          NaN  \n",
       "3             False          Sunday Mail (Australia)       Fresh        3.5/5  \n",
       "4              True               Hollywood Reporter      Rotten          NaN  \n",
       "...             ...                              ...         ...          ...  \n",
       "1129882       False                 Fantastica Daily      Rotten          2/5  \n",
       "1129883       False  Mountain Xpress (Asheville, NC)       Fresh        3.5/5  \n",
       "1129884       False    Dennis Schwartz Movie Reviews       Fresh           B+  \n",
       "1129885       False          Sarasota Herald-Tribune      Rotten        3.5/5  \n",
       "1129886       False             The Last Thing I See      Rotten            C  \n",
       "\n",
       "[1129887 rows x 6 columns]"
      ],
      "text/html": [
       "<div>\n",
       "<style scoped>\n",
       "    .dataframe tbody tr th:only-of-type {\n",
       "        vertical-align: middle;\n",
       "    }\n",
       "\n",
       "    .dataframe tbody tr th {\n",
       "        vertical-align: top;\n",
       "    }\n",
       "\n",
       "    .dataframe thead th {\n",
       "        text-align: right;\n",
       "    }\n",
       "</style>\n",
       "<table border=\"1\" class=\"dataframe\">\n",
       "  <thead>\n",
       "    <tr style=\"text-align: right;\">\n",
       "      <th></th>\n",
       "      <th>movie_title</th>\n",
       "      <th>critic_name</th>\n",
       "      <th>top_critic</th>\n",
       "      <th>publisher_name</th>\n",
       "      <th>review_type</th>\n",
       "      <th>review_score</th>\n",
       "    </tr>\n",
       "  </thead>\n",
       "  <tbody>\n",
       "    <tr>\n",
       "      <th>0</th>\n",
       "      <td>Percy Jackson &amp; the Olympians: The Lightning T...</td>\n",
       "      <td>Andrew L. Urban</td>\n",
       "      <td>False</td>\n",
       "      <td>Urban Cinefile</td>\n",
       "      <td>Fresh</td>\n",
       "      <td>NaN</td>\n",
       "    </tr>\n",
       "    <tr>\n",
       "      <th>1</th>\n",
       "      <td>Percy Jackson &amp; the Olympians: The Lightning T...</td>\n",
       "      <td>Louise Keller</td>\n",
       "      <td>False</td>\n",
       "      <td>Urban Cinefile</td>\n",
       "      <td>Fresh</td>\n",
       "      <td>NaN</td>\n",
       "    </tr>\n",
       "    <tr>\n",
       "      <th>2</th>\n",
       "      <td>Percy Jackson &amp; the Olympians: The Lightning T...</td>\n",
       "      <td>NaN</td>\n",
       "      <td>False</td>\n",
       "      <td>FILMINK (Australia)</td>\n",
       "      <td>Fresh</td>\n",
       "      <td>NaN</td>\n",
       "    </tr>\n",
       "    <tr>\n",
       "      <th>3</th>\n",
       "      <td>Percy Jackson &amp; the Olympians: The Lightning T...</td>\n",
       "      <td>Ben McEachen</td>\n",
       "      <td>False</td>\n",
       "      <td>Sunday Mail (Australia)</td>\n",
       "      <td>Fresh</td>\n",
       "      <td>3.5/5</td>\n",
       "    </tr>\n",
       "    <tr>\n",
       "      <th>4</th>\n",
       "      <td>Percy Jackson &amp; the Olympians: The Lightning T...</td>\n",
       "      <td>Ethan Alter</td>\n",
       "      <td>True</td>\n",
       "      <td>Hollywood Reporter</td>\n",
       "      <td>Rotten</td>\n",
       "      <td>NaN</td>\n",
       "    </tr>\n",
       "    <tr>\n",
       "      <th>...</th>\n",
       "      <td>...</td>\n",
       "      <td>...</td>\n",
       "      <td>...</td>\n",
       "      <td>...</td>\n",
       "      <td>...</td>\n",
       "      <td>...</td>\n",
       "    </tr>\n",
       "    <tr>\n",
       "      <th>1129882</th>\n",
       "      <td>Zulu Dawn</td>\n",
       "      <td>Chuck O'Leary</td>\n",
       "      <td>False</td>\n",
       "      <td>Fantastica Daily</td>\n",
       "      <td>Rotten</td>\n",
       "      <td>2/5</td>\n",
       "    </tr>\n",
       "    <tr>\n",
       "      <th>1129883</th>\n",
       "      <td>Zulu Dawn</td>\n",
       "      <td>Ken Hanke</td>\n",
       "      <td>False</td>\n",
       "      <td>Mountain Xpress (Asheville, NC)</td>\n",
       "      <td>Fresh</td>\n",
       "      <td>3.5/5</td>\n",
       "    </tr>\n",
       "    <tr>\n",
       "      <th>1129884</th>\n",
       "      <td>Zulu Dawn</td>\n",
       "      <td>Dennis Schwartz</td>\n",
       "      <td>False</td>\n",
       "      <td>Dennis Schwartz Movie Reviews</td>\n",
       "      <td>Fresh</td>\n",
       "      <td>B+</td>\n",
       "    </tr>\n",
       "    <tr>\n",
       "      <th>1129885</th>\n",
       "      <td>Zulu Dawn</td>\n",
       "      <td>Christopher Lloyd</td>\n",
       "      <td>False</td>\n",
       "      <td>Sarasota Herald-Tribune</td>\n",
       "      <td>Rotten</td>\n",
       "      <td>3.5/5</td>\n",
       "    </tr>\n",
       "    <tr>\n",
       "      <th>1129886</th>\n",
       "      <td>Zulu Dawn</td>\n",
       "      <td>Brent McKnight</td>\n",
       "      <td>False</td>\n",
       "      <td>The Last Thing I See</td>\n",
       "      <td>Rotten</td>\n",
       "      <td>C</td>\n",
       "    </tr>\n",
       "  </tbody>\n",
       "</table>\n",
       "<p>1129887 rows × 6 columns</p>\n",
       "</div>"
      ]
     },
     "execution_count": 32,
     "metadata": {},
     "output_type": "execute_result"
    }
   ],
   "execution_count": 32
  },
  {
   "metadata": {
    "ExecuteTime": {
     "end_time": "2025-01-02T11:21:44.225922Z",
     "start_time": "2025-01-02T11:21:43.680191Z"
    }
   },
   "cell_type": "code",
   "source": [
    "duplicati = reviews_rotten_df.duplicated()  \n",
    "numero_duplicati = duplicati.sum() \n",
    "print(numero_duplicati)"
   ],
   "id": "5184419cb7fa6eb7",
   "outputs": [
    {
     "name": "stdout",
     "output_type": "stream",
     "text": [
      "120907\n"
     ]
    }
   ],
   "execution_count": 22
  },
  {
   "metadata": {
    "ExecuteTime": {
     "end_time": "2025-01-02T11:21:46.045216Z",
     "start_time": "2025-01-02T11:21:45.460781Z"
    }
   },
   "cell_type": "code",
   "source": "reviews_rotten_df = reviews_rotten_df.drop_duplicates()",
   "id": "379c8684e9dd03bb",
   "outputs": [],
   "execution_count": 23
  },
  {
   "metadata": {},
   "cell_type": "markdown",
   "source": "## Il film “Please Give” è piaciuto più al pubblico o ai critici?",
   "id": "2eceb16dc9a2e101"
  },
  {
   "metadata": {
    "ExecuteTime": {
     "end_time": "2025-01-02T11:57:01.439417Z",
     "start_time": "2025-01-02T11:57:01.368128Z"
    }
   },
   "cell_type": "code",
   "source": "please_give_df = reviews_rotten_df[reviews_rotten_df['movie_title']=='Please Give'].copy()",
   "id": "fe95b61d0565e798",
   "outputs": [],
   "execution_count": 38
  },
  {
   "metadata": {
    "ExecuteTime": {
     "end_time": "2025-01-02T12:02:11.802152Z",
     "start_time": "2025-01-02T12:02:11.796709Z"
    }
   },
   "cell_type": "code",
   "source": [
    "def add_count_on_bars(ax):\n",
    "    for p in ax.patches:\n",
    "     ax.annotate(f'{p.get_height()}', (p.get_x() + p.get_width() / 2., p.get_height()),\n",
    "                ha='center', va='bottom', fontsize=9, color='black', xytext=(0, 5),\n",
    "                textcoords='offset points')"
   ],
   "id": "377af5b72255951b",
   "outputs": [],
   "execution_count": 46
  },
  {
   "metadata": {
    "ExecuteTime": {
     "end_time": "2025-01-02T12:02:13.837091Z",
     "start_time": "2025-01-02T12:02:13.644329Z"
    }
   },
   "cell_type": "code",
   "source": [
    "ax = sns.countplot(x='review_type', hue='top_critic', data=please_give_df, palette='Set2')\n",
    "plt.title('A chi è piaciuto di più il film, \"Please Give\"? ')\n",
    "plt.xlabel('Category')\n",
    "plt.ylabel('Count')\n",
    "plt.legend(title='Top critic')\n",
    "add_count_on_bars(ax)\n",
    "plt.show()"
   ],
   "id": "3d72f25e3d060dd4",
   "outputs": [
    {
     "data": {
      "text/plain": [
       "<Figure size 640x480 with 1 Axes>"
      ],
      "image/png": "[encoded data removed]"
     },
     "metadata": {},
     "output_type": "display_data"
    }
   ],
   "execution_count": 47
  },
  {
   "metadata": {},
   "cell_type": "markdown",
   "source": "## Quale film della saga \"Hunger Games\" è stato maggiormente apprezzato dal pubblico?",
   "id": "e372bc752aa2ca67"
  },
  {
   "metadata": {
    "ExecuteTime": {
     "end_time": "2025-01-04T17:45:38.731488Z",
     "start_time": "2025-01-04T17:45:37.721702Z"
    }
   },
   "cell_type": "code",
   "source": [
    "harry_potter_df = reviews_rotten_df[reviews_rotten_df['movie_title'].str.match(r'^Harry Potter\\b', na=False)]\n",
    "\n",
    "harry_potter_df"
   ],
   "id": "b2bf516a918e23ef",
   "outputs": [
    {
     "data": {
      "text/plain": [
       "                                    movie_title           critic_name  \\\n",
       "404101  Harry Potter and the Chamber of Secrets          Ross Anthony   \n",
       "404102  Harry Potter and the Chamber of Secrets          John Hiscock   \n",
       "404103  Harry Potter and the Chamber of Secrets         Todd McCarthy   \n",
       "404104  Harry Potter and the Chamber of Secrets        Kirk Honeycutt   \n",
       "404105  Harry Potter and the Chamber of Secrets           Paul Arendt   \n",
       "...                                         ...                   ...   \n",
       "406198    Harry Potter and the Sorcerer's Stone         Rachel Wagner   \n",
       "406199    Harry Potter and the Sorcerer's Stone  Guillem Martinez Oya   \n",
       "406200    Harry Potter and the Sorcerer's Stone     Debbie Lynn Elias   \n",
       "406201    Harry Potter and the Sorcerer's Stone         Leigh Paatsch   \n",
       "406202    Harry Potter and the Sorcerer's Stone           Mike Massie   \n",
       "\n",
       "        top_critic          publisher_name review_type review_score  \n",
       "404101       False   Hollywood Report Card       Fresh        3.5/4  \n",
       "404102        True    Daily Telegraph (UK)       Fresh          NaN  \n",
       "404103        True                 Variety       Fresh          NaN  \n",
       "404104        True      Hollywood Reporter      Rotten          NaN  \n",
       "404105       False                Teletext       Fresh          NaN  \n",
       "...            ...                     ...         ...          ...  \n",
       "406198       False      rachelsreviews.net       Fresh           B-  \n",
       "406199       False             Cinematismo       Fresh          4/5  \n",
       "406200       False         Behind The Lens       Fresh          NaN  \n",
       "406201       False  Herald Sun (Australia)       Fresh          4/5  \n",
       "406202       False     Gone With The Twins       Fresh         8/10  \n",
       "\n",
       "[2102 rows x 6 columns]"
      ],
      "text/html": [
       "<div>\n",
       "<style scoped>\n",
       "    .dataframe tbody tr th:only-of-type {\n",
       "        vertical-align: middle;\n",
       "    }\n",
       "\n",
       "    .dataframe tbody tr th {\n",
       "        vertical-align: top;\n",
       "    }\n",
       "\n",
       "    .dataframe thead th {\n",
       "        text-align: right;\n",
       "    }\n",
       "</style>\n",
       "<table border=\"1\" class=\"dataframe\">\n",
       "  <thead>\n",
       "    <tr style=\"text-align: right;\">\n",
       "      <th></th>\n",
       "      <th>movie_title</th>\n",
       "      <th>critic_name</th>\n",
       "      <th>top_critic</th>\n",
       "      <th>publisher_name</th>\n",
       "      <th>review_type</th>\n",
       "      <th>review_score</th>\n",
       "    </tr>\n",
       "  </thead>\n",
       "  <tbody>\n",
       "    <tr>\n",
       "      <th>404101</th>\n",
       "      <td>Harry Potter and the Chamber of Secrets</td>\n",
       "      <td>Ross Anthony</td>\n",
       "      <td>False</td>\n",
       "      <td>Hollywood Report Card</td>\n",
       "      <td>Fresh</td>\n",
       "      <td>3.5/4</td>\n",
       "    </tr>\n",
       "    <tr>\n",
       "      <th>404102</th>\n",
       "      <td>Harry Potter and the Chamber of Secrets</td>\n",
       "      <td>John Hiscock</td>\n",
       "      <td>True</td>\n",
       "      <td>Daily Telegraph (UK)</td>\n",
       "      <td>Fresh</td>\n",
       "      <td>NaN</td>\n",
       "    </tr>\n",
       "    <tr>\n",
       "      <th>404103</th>\n",
       "      <td>Harry Potter and the Chamber of Secrets</td>\n",
       "      <td>Todd McCarthy</td>\n",
       "      <td>True</td>\n",
       "      <td>Variety</td>\n",
       "      <td>Fresh</td>\n",
       "      <td>NaN</td>\n",
       "    </tr>\n",
       "    <tr>\n",
       "      <th>404104</th>\n",
       "      <td>Harry Potter and the Chamber of Secrets</td>\n",
       "      <td>Kirk Honeycutt</td>\n",
       "      <td>True</td>\n",
       "      <td>Hollywood Reporter</td>\n",
       "      <td>Rotten</td>\n",
       "      <td>NaN</td>\n",
       "    </tr>\n",
       "    <tr>\n",
       "      <th>404105</th>\n",
       "      <td>Harry Potter and the Chamber of Secrets</td>\n",
       "      <td>Paul Arendt</td>\n",
       "      <td>False</td>\n",
       "      <td>Teletext</td>\n",
       "      <td>Fresh</td>\n",
       "      <td>NaN</td>\n",
       "    </tr>\n",
       "    <tr>\n",
       "      <th>...</th>\n",
       "      <td>...</td>\n",
       "      <td>...</td>\n",
       "      <td>...</td>\n",
       "      <td>...</td>\n",
       "      <td>...</td>\n",
       "      <td>...</td>\n",
       "    </tr>\n",
       "    <tr>\n",
       "      <th>406198</th>\n",
       "      <td>Harry Potter and the Sorcerer's Stone</td>\n",
       "      <td>Rachel Wagner</td>\n",
       "      <td>False</td>\n",
       "      <td>rachelsreviews.net</td>\n",
       "      <td>Fresh</td>\n",
       "      <td>B-</td>\n",
       "    </tr>\n",
       "    <tr>\n",
       "      <th>406199</th>\n",
       "      <td>Harry Potter and the Sorcerer's Stone</td>\n",
       "      <td>Guillem Martinez Oya</td>\n",
       "      <td>False</td>\n",
       "      <td>Cinematismo</td>\n",
       "      <td>Fresh</td>\n",
       "      <td>4/5</td>\n",
       "    </tr>\n",
       "    <tr>\n",
       "      <th>406200</th>\n",
       "      <td>Harry Potter and the Sorcerer's Stone</td>\n",
       "      <td>Debbie Lynn Elias</td>\n",
       "      <td>False</td>\n",
       "      <td>Behind The Lens</td>\n",
       "      <td>Fresh</td>\n",
       "      <td>NaN</td>\n",
       "    </tr>\n",
       "    <tr>\n",
       "      <th>406201</th>\n",
       "      <td>Harry Potter and the Sorcerer's Stone</td>\n",
       "      <td>Leigh Paatsch</td>\n",
       "      <td>False</td>\n",
       "      <td>Herald Sun (Australia)</td>\n",
       "      <td>Fresh</td>\n",
       "      <td>4/5</td>\n",
       "    </tr>\n",
       "    <tr>\n",
       "      <th>406202</th>\n",
       "      <td>Harry Potter and the Sorcerer's Stone</td>\n",
       "      <td>Mike Massie</td>\n",
       "      <td>False</td>\n",
       "      <td>Gone With The Twins</td>\n",
       "      <td>Fresh</td>\n",
       "      <td>8/10</td>\n",
       "    </tr>\n",
       "  </tbody>\n",
       "</table>\n",
       "<p>2102 rows × 6 columns</p>\n",
       "</div>"
      ]
     },
     "execution_count": 64,
     "metadata": {},
     "output_type": "execute_result"
    }
   ],
   "execution_count": 64
  },
  {
   "metadata": {
    "ExecuteTime": {
     "end_time": "2025-01-04T17:36:26.206550Z",
     "start_time": "2025-01-04T17:36:26.189044Z"
    }
   },
   "cell_type": "code",
   "source": [
    "nomi_univoci = prova['movie_title'].unique()\n",
    "nomi_univoci\n"
   ],
   "id": "c5e67651af9a40ba",
   "outputs": [
    {
     "data": {
      "text/plain": [
       "array(['Harry Potter and the Chamber of Secrets',\n",
       "       'Harry Potter and the Deathly Hallows - Part 1',\n",
       "       'Harry Potter and the Deathly Hallows - Part 2',\n",
       "       'Harry Potter and the Goblet of Fire',\n",
       "       'Harry Potter and the Half-Blood Prince',\n",
       "       'Harry Potter and the Order of the Phoenix',\n",
       "       'Harry Potter and the Prisoner of Azkaban',\n",
       "       \"Harry Potter and the Sorcerer's Stone\"], dtype=object)"
      ]
     },
     "execution_count": 57,
     "metadata": {},
     "output_type": "execute_result"
    }
   ],
   "execution_count": 57
  },
  {
   "metadata": {
    "ExecuteTime": {
     "end_time": "2025-01-04T17:45:53.536106Z",
     "start_time": "2025-01-04T17:45:53.204608Z"
    }
   },
   "cell_type": "code",
   "source": [
    "sns.countplot(x='movie_title', data=harry_potter_df)\n",
    "plt.title('Count of Survivors (0 = Not Survived, 1 = Survived)')\n",
    "plt.xlabel('Survival Status')\n",
    "plt.ylabel('Count')\n",
    "plt.show()"
   ],
   "id": "51768124afa88978",
   "outputs": [
    {
     "data": {
      "text/plain": [
       "<Figure size 640x480 with 1 Axes>"
      ],
      "image/png": "[encoded data removed]"
     },
     "metadata": {},
     "output_type": "display_data"
    }
   ],
   "execution_count": 65
  },
  {
   "metadata": {},
   "cell_type": "markdown",
   "source": "Adesso ho contato il numero di recensione per film, ora devo selezionare solo le recensioni quelle belle",
   "id": "bdecd896fad8b70"
  }
 ],
 "metadata": {
  "kernelspec": {
   "display_name": "Python (progettozzo)",
   "language": "python",
   "name": "progettozzo"
  },
  "language_info": {
   "codemirror_mode": {
    "name": "ipython",
    "version": 2
   },
   "file_extension": ".py",
   "mimetype": "text/x-python",
   "name": "python",
   "nbconvert_exporter": "python",
   "pygments_lexer": "ipython2",
   "version": "2.7.6"
  }
 },
 "nbformat": 4,
 "nbformat_minor": 5
}

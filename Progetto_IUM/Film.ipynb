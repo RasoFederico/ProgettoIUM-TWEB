{
 "cells": [
  {
   "metadata": {},
   "cell_type": "markdown",
   "source": [
    "# Progetto IUM - Data Analysis\n",
    "## Università di Informatica, Unito\n",
    "Gruppo Federico Raso, Federico Verra\n",
    "\n",
    "Questa sezione è dedicata a domande più specifiche sui alcuni film o attori"
   ],
   "id": "709018de2c6583bc"
  },
  {
   "metadata": {
    "jupyter": {
     "is_executing": true
    }
   },
   "cell_type": "code",
   "source": [
    "import pandas as pd\n",
    "import geopandas as gpd\n",
    "import seaborn as sns\n",
    "import plotly.express as px\n",
    "import plotly.graph_objects as go\n",
    "import matplotlib.pyplot as plt"
   ],
   "id": "8f33ea583a05a17c",
   "outputs": [],
   "execution_count": null
  },
  {
   "metadata": {
    "ExecuteTime": {
     "end_time": "2025-01-06T18:00:39.171291400Z",
     "start_time": "2025-01-06T15:43:16.843009Z"
    }
   },
   "cell_type": "code",
   "source": [
    "data_directory = \"../data/\"\n",
    "actors_df = pd.read_csv(data_directory+'actors.csv')\n",
    "countries_df = pd.read_csv(data_directory+'countries.csv')\n",
    "crew_df = pd.read_csv(data_directory+'crew.csv')\n",
    "genres_df = pd.read_csv(data_directory+'genres.csv')\n",
    "languages_df = pd.read_csv(data_directory+'languages.csv')\n",
    "movies_df = pd.read_csv(data_directory+'movies.csv')\n",
    "posters_df = pd.read_csv(data_directory+'posters.csv')\n",
    "releases_df = pd.read_csv(data_directory+'releases.csv')\n",
    "reviews_rotten_df = pd.read_csv(data_directory+'rotten_tomatoes_reviews.csv')\n",
    "studios_df = pd.read_csv(data_directory+'studios.csv')\n",
    "oscar_df = pd.read_csv(data_directory+'the_oscar_awards.csv')\n",
    "\n",
    "world = gpd.read_file(data_directory+'/countries/ne_110m_admin_0_countries.shp')"
   ],
   "id": "357de1e598b79c97",
   "outputs": [],
   "execution_count": 2
  },
  {
   "metadata": {},
   "cell_type": "markdown",
   "source": "## Analizzo e pulisco i dati",
   "id": "4d658a5f11425168"
  },
  {
   "metadata": {},
   "cell_type": "markdown",
   "source": "Reviews_rotten_df",
   "id": "e5636e64b32ad778"
  },
  {
   "metadata": {
    "ExecuteTime": {
     "end_time": "2025-01-06T18:00:39.178163400Z",
     "start_time": "2025-01-06T15:43:35.202785Z"
    }
   },
   "cell_type": "code",
   "source": "reviews_rotten_df.dtypes",
   "id": "dae60181292fb8a",
   "outputs": [
    {
     "data": {
      "text/plain": [
       "rotten_tomatoes_link    object\n",
       "movie_title             object\n",
       "critic_name             object\n",
       "top_critic                bool\n",
       "publisher_name          object\n",
       "review_type             object\n",
       "review_score            object\n",
       "review_date             object\n",
       "review_content          object\n",
       "dtype: object"
      ]
     },
     "execution_count": 3,
     "metadata": {},
     "output_type": "execute_result"
    }
   ],
   "execution_count": 3
  },
  {
   "metadata": {
    "ExecuteTime": {
     "end_time": "2025-01-06T18:00:39.183312400Z",
     "start_time": "2025-01-06T15:43:35.273974Z"
    }
   },
   "cell_type": "code",
   "source": [
    "reviews_rotten_df = reviews_rotten_df[['movie_title','critic_name','top_critic','publisher_name','review_type','review_score']]\n",
    "reviews_rotten_df"
   ],
   "id": "467e91b4e1cb7221",
   "outputs": [
    {
     "data": {
      "text/plain": [
       "                                               movie_title        critic_name  \\\n",
       "0        Percy Jackson & the Olympians: The Lightning T...    Andrew L. Urban   \n",
       "1        Percy Jackson & the Olympians: The Lightning T...      Louise Keller   \n",
       "2        Percy Jackson & the Olympians: The Lightning T...                NaN   \n",
       "3        Percy Jackson & the Olympians: The Lightning T...       Ben McEachen   \n",
       "4        Percy Jackson & the Olympians: The Lightning T...        Ethan Alter   \n",
       "...                                                    ...                ...   \n",
       "1129882                                          Zulu Dawn      Chuck O'Leary   \n",
       "1129883                                          Zulu Dawn          Ken Hanke   \n",
       "1129884                                          Zulu Dawn    Dennis Schwartz   \n",
       "1129885                                          Zulu Dawn  Christopher Lloyd   \n",
       "1129886                                          Zulu Dawn     Brent McKnight   \n",
       "\n",
       "         top_critic                   publisher_name review_type review_score  \n",
       "0             False                   Urban Cinefile       Fresh          NaN  \n",
       "1             False                   Urban Cinefile       Fresh          NaN  \n",
       "2             False              FILMINK (Australia)       Fresh          NaN  \n",
       "3             False          Sunday Mail (Australia)       Fresh        3.5/5  \n",
       "4              True               Hollywood Reporter      Rotten          NaN  \n",
       "...             ...                              ...         ...          ...  \n",
       "1129882       False                 Fantastica Daily      Rotten          2/5  \n",
       "1129883       False  Mountain Xpress (Asheville, NC)       Fresh        3.5/5  \n",
       "1129884       False    Dennis Schwartz Movie Reviews       Fresh           B+  \n",
       "1129885       False          Sarasota Herald-Tribune      Rotten        3.5/5  \n",
       "1129886       False             The Last Thing I See      Rotten            C  \n",
       "\n",
       "[1129887 rows x 6 columns]"
      ],
      "text/html": [
       "<div>\n",
       "<style scoped>\n",
       "    .dataframe tbody tr th:only-of-type {\n",
       "        vertical-align: middle;\n",
       "    }\n",
       "\n",
       "    .dataframe tbody tr th {\n",
       "        vertical-align: top;\n",
       "    }\n",
       "\n",
       "    .dataframe thead th {\n",
       "        text-align: right;\n",
       "    }\n",
       "</style>\n",
       "<table border=\"1\" class=\"dataframe\">\n",
       "  <thead>\n",
       "    <tr style=\"text-align: right;\">\n",
       "      <th></th>\n",
       "      <th>movie_title</th>\n",
       "      <th>critic_name</th>\n",
       "      <th>top_critic</th>\n",
       "      <th>publisher_name</th>\n",
       "      <th>review_type</th>\n",
       "      <th>review_score</th>\n",
       "    </tr>\n",
       "  </thead>\n",
       "  <tbody>\n",
       "    <tr>\n",
       "      <th>0</th>\n",
       "      <td>Percy Jackson &amp; the Olympians: The Lightning T...</td>\n",
       "      <td>Andrew L. Urban</td>\n",
       "      <td>False</td>\n",
       "      <td>Urban Cinefile</td>\n",
       "      <td>Fresh</td>\n",
       "      <td>NaN</td>\n",
       "    </tr>\n",
       "    <tr>\n",
       "      <th>1</th>\n",
       "      <td>Percy Jackson &amp; the Olympians: The Lightning T...</td>\n",
       "      <td>Louise Keller</td>\n",
       "      <td>False</td>\n",
       "      <td>Urban Cinefile</td>\n",
       "      <td>Fresh</td>\n",
       "      <td>NaN</td>\n",
       "    </tr>\n",
       "    <tr>\n",
       "      <th>2</th>\n",
       "      <td>Percy Jackson &amp; the Olympians: The Lightning T...</td>\n",
       "      <td>NaN</td>\n",
       "      <td>False</td>\n",
       "      <td>FILMINK (Australia)</td>\n",
       "      <td>Fresh</td>\n",
       "      <td>NaN</td>\n",
       "    </tr>\n",
       "    <tr>\n",
       "      <th>3</th>\n",
       "      <td>Percy Jackson &amp; the Olympians: The Lightning T...</td>\n",
       "      <td>Ben McEachen</td>\n",
       "      <td>False</td>\n",
       "      <td>Sunday Mail (Australia)</td>\n",
       "      <td>Fresh</td>\n",
       "      <td>3.5/5</td>\n",
       "    </tr>\n",
       "    <tr>\n",
       "      <th>4</th>\n",
       "      <td>Percy Jackson &amp; the Olympians: The Lightning T...</td>\n",
       "      <td>Ethan Alter</td>\n",
       "      <td>True</td>\n",
       "      <td>Hollywood Reporter</td>\n",
       "      <td>Rotten</td>\n",
       "      <td>NaN</td>\n",
       "    </tr>\n",
       "    <tr>\n",
       "      <th>...</th>\n",
       "      <td>...</td>\n",
       "      <td>...</td>\n",
       "      <td>...</td>\n",
       "      <td>...</td>\n",
       "      <td>...</td>\n",
       "      <td>...</td>\n",
       "    </tr>\n",
       "    <tr>\n",
       "      <th>1129882</th>\n",
       "      <td>Zulu Dawn</td>\n",
       "      <td>Chuck O'Leary</td>\n",
       "      <td>False</td>\n",
       "      <td>Fantastica Daily</td>\n",
       "      <td>Rotten</td>\n",
       "      <td>2/5</td>\n",
       "    </tr>\n",
       "    <tr>\n",
       "      <th>1129883</th>\n",
       "      <td>Zulu Dawn</td>\n",
       "      <td>Ken Hanke</td>\n",
       "      <td>False</td>\n",
       "      <td>Mountain Xpress (Asheville, NC)</td>\n",
       "      <td>Fresh</td>\n",
       "      <td>3.5/5</td>\n",
       "    </tr>\n",
       "    <tr>\n",
       "      <th>1129884</th>\n",
       "      <td>Zulu Dawn</td>\n",
       "      <td>Dennis Schwartz</td>\n",
       "      <td>False</td>\n",
       "      <td>Dennis Schwartz Movie Reviews</td>\n",
       "      <td>Fresh</td>\n",
       "      <td>B+</td>\n",
       "    </tr>\n",
       "    <tr>\n",
       "      <th>1129885</th>\n",
       "      <td>Zulu Dawn</td>\n",
       "      <td>Christopher Lloyd</td>\n",
       "      <td>False</td>\n",
       "      <td>Sarasota Herald-Tribune</td>\n",
       "      <td>Rotten</td>\n",
       "      <td>3.5/5</td>\n",
       "    </tr>\n",
       "    <tr>\n",
       "      <th>1129886</th>\n",
       "      <td>Zulu Dawn</td>\n",
       "      <td>Brent McKnight</td>\n",
       "      <td>False</td>\n",
       "      <td>The Last Thing I See</td>\n",
       "      <td>Rotten</td>\n",
       "      <td>C</td>\n",
       "    </tr>\n",
       "  </tbody>\n",
       "</table>\n",
       "<p>1129887 rows × 6 columns</p>\n",
       "</div>"
      ]
     },
     "execution_count": 4,
     "metadata": {},
     "output_type": "execute_result"
    }
   ],
   "execution_count": 4
  },
  {
   "metadata": {
    "ExecuteTime": {
     "end_time": "2025-01-06T18:00:39.209319600Z",
     "start_time": "2025-01-06T15:43:35.877783Z"
    }
   },
   "cell_type": "code",
   "source": [
    "duplicati = reviews_rotten_df.duplicated()  \n",
    "numero_duplicati = duplicati.sum() \n",
    "print(numero_duplicati)"
   ],
   "id": "5184419cb7fa6eb7",
   "outputs": [
    {
     "name": "stdout",
     "output_type": "stream",
     "text": [
      "120775\n"
     ]
    }
   ],
   "execution_count": 5
  },
  {
   "metadata": {
    "ExecuteTime": {
     "end_time": "2025-01-06T18:00:39.211322100Z",
     "start_time": "2025-01-06T15:43:36.706399Z"
    }
   },
   "cell_type": "code",
   "source": "reviews_rotten_df = reviews_rotten_df.drop_duplicates()",
   "id": "379c8684e9dd03bb",
   "outputs": [],
   "execution_count": 6
  },
  {
   "metadata": {},
   "cell_type": "markdown",
   "source": "## Il film “Please Give” è piaciuto più al pubblico o ai critici?",
   "id": "2eceb16dc9a2e101"
  },
  {
   "metadata": {
    "ExecuteTime": {
     "end_time": "2025-01-06T18:00:39.218837800Z",
     "start_time": "2025-01-06T15:43:37.507739Z"
    }
   },
   "cell_type": "code",
   "source": "please_give_df = reviews_rotten_df[reviews_rotten_df['movie_title']=='Please Give'].copy()",
   "id": "fe95b61d0565e798",
   "outputs": [],
   "execution_count": 7
  },
  {
   "metadata": {
    "ExecuteTime": {
     "end_time": "2025-01-06T18:00:39.226088100Z",
     "start_time": "2025-01-06T15:43:37.627977Z"
    }
   },
   "cell_type": "code",
   "source": [
    "def add_count_on_bars(ax):\n",
    "    # Add count values on top of each bar\n",
    "    for p in ax.patches:\n",
    "     ax.annotate(f'{p.get_height()}', (p.get_x() + p.get_width() / 2., p.get_height()),\n",
    "                ha='center', va='bottom', fontsize=9, color='black', xytext=(0, 5),\n",
    "                textcoords='offset points')"
   ],
   "id": "377af5b72255951b",
   "outputs": [],
   "execution_count": 8
  },
  {
   "metadata": {
    "ExecuteTime": {
     "end_time": "2025-01-06T18:00:39.233357200Z",
     "start_time": "2025-01-06T15:43:37.700356Z"
    }
   },
   "cell_type": "code",
   "source": [
    "ax = sns.countplot(x='review_type', hue='top_critic', data=please_give_df, palette='Set2')\n",
    "plt.title('A chi è piaciuto di più il film, \"Please Give\"? ')\n",
    "plt.xlabel('Category')\n",
    "plt.ylabel('Count')\n",
    "plt.legend(title='Top critic')\n",
    "add_count_on_bars(ax)\n",
    "plt.show()"
   ],
   "id": "3d72f25e3d060dd4",
   "outputs": [
    {
     "data": {
      "text/plain": [
       "<Figure size 640x480 with 1 Axes>"
      ],
      "image/png": "[encoded data removed]"
     },
     "metadata": {},
     "output_type": "display_data"
    }
   ],
   "execution_count": 47
  },
  {
   "metadata": {},
   "cell_type": "markdown",
   "source": "## Quale film della saga \"Harry Potter\" ha avuto più successo in base alle recensioni?",
   "id": "e372bc752aa2ca67"
  },
  {
   "metadata": {
    "ExecuteTime": {
     "end_time": "2025-01-07T13:58:00.179345Z",
     "start_time": "2025-01-07T13:57:59.282544Z"
    }
   },
   "cell_type": "code",
   "source": [
    "harry_potter_df = reviews_rotten_df[\n",
    "    (reviews_rotten_df['movie_title'].str.match(r'^Harry Potter\\b', na=False)) &\n",
    "    (reviews_rotten_df['review_type'] == 'Fresh')\n",
    "].copy()"
   ],
   "id": "b2bf516a918e23ef",
   "outputs": [],
   "execution_count": 107
  },
  {
   "metadata": {
    "ExecuteTime": {
     "end_time": "2025-01-07T13:58:04.481857Z",
     "start_time": "2025-01-07T13:58:04.474907Z"
    }
   },
   "cell_type": "code",
   "source": [
    "nomi_univoci = harry_potter_df['movie_title'].unique()\n",
    "nomi_univoci"
   ],
   "id": "c5e67651af9a40ba",
   "outputs": [
    {
     "data": {
      "text/plain": [
       "array(['Harry Potter and the Chamber of Secrets',\n",
       "       'Harry Potter and the Deathly Hallows - Part 1',\n",
       "       'Harry Potter and the Deathly Hallows - Part 2',\n",
       "       'Harry Potter and the Goblet of Fire',\n",
       "       'Harry Potter and the Half-Blood Prince',\n",
       "       'Harry Potter and the Order of the Phoenix',\n",
       "       'Harry Potter and the Prisoner of Azkaban',\n",
       "       \"Harry Potter and the Sorcerer's Stone\"], dtype=object)"
      ]
     },
     "execution_count": 108,
     "metadata": {},
     "output_type": "execute_result"
    }
   ],
   "execution_count": 108
  },
  {
   "metadata": {
    "ExecuteTime": {
     "end_time": "2025-01-07T13:58:06.935952Z",
     "start_time": "2025-01-07T13:58:06.921595Z"
    }
   },
   "cell_type": "code",
   "source": [
    "harry_potter_df['movie_title'] = harry_potter_df['movie_title'].replace(\"Harry Potter and the Sorcerer's Stone\", '1')\n",
    "harry_potter_df['movie_title'] = harry_potter_df['movie_title'].replace(\"Harry Potter and the Chamber of Secrets\", '2')\n",
    "harry_potter_df['movie_title'] = harry_potter_df['movie_title'].replace(\"Harry Potter and the Prisoner of Azkaban\", '3')\n",
    "harry_potter_df['movie_title'] = harry_potter_df['movie_title'].replace(\"Harry Potter and the Goblet of Fire\", '4')\n",
    "harry_potter_df['movie_title'] = harry_potter_df['movie_title'].replace(\"Harry Potter and the Order of the Phoenix\", '5')\n",
    "harry_potter_df['movie_title'] = harry_potter_df['movie_title'].replace(\"Harry Potter and the Half-Blood Prince\", '6')\n",
    "harry_potter_df['movie_title'] = harry_potter_df['movie_title'].replace(\"Harry Potter and the Deathly Hallows - Part 1\", '7 Part 1')\n",
    "harry_potter_df['movie_title'] = harry_potter_df['movie_title'].replace(\"Harry Potter and the Deathly Hallows - Part 2\", '7 Part 2')"
   ],
   "id": "4fc3bf3db08de557",
   "outputs": [],
   "execution_count": 109
  },
  {
   "metadata": {
    "ExecuteTime": {
     "end_time": "2025-01-07T13:58:10.668533Z",
     "start_time": "2025-01-07T13:58:10.661289Z"
    }
   },
   "cell_type": "code",
   "source": [
    "from pandas import CategoricalDtype\n",
    "\n",
    "custom_order = [\"1\",\"2\",\"3\",\"4\",\"5\",\"6\",\"7 Part 1\",\"7 Part 2\"]\n",
    "\n",
    "cat_type = CategoricalDtype(categories=custom_order, ordered=True)\n",
    "\n",
    "harry_potter_df['movie_title'] = harry_potter_df['movie_title'].astype(cat_type)"
   ],
   "id": "b0a9aed553c3db93",
   "outputs": [],
   "execution_count": 110
  },
  {
   "metadata": {
    "ExecuteTime": {
     "end_time": "2025-01-07T13:58:18.210190Z",
     "start_time": "2025-01-07T13:58:17.989602Z"
    }
   },
   "cell_type": "code",
   "source": [
    "reviews_counts = harry_potter_df.groupby(['movie_title', 'top_critic'],observed=False)['movie_title'].count().unstack()\n",
    "\n",
    "total_counts = harry_potter_df.groupby(['movie_title', 'top_critic'], observed=False)['movie_title'].count().unstack()\n",
    "\n",
    "fig, ax = plt.subplots(figsize=(8, 6))\n",
    "\n",
    "reviews_counts.plot(kind='bar', stacked=True, color=['skyblue', 'salmon'], ax=ax)\n",
    "\n",
    "total_counts.sum(axis=1).plot(marker='o', color='black', linestyle='dashed', linewidth=2, markersize=8, label='Total')\n",
    "\n",
    "plt.title(\"Quale film della saga 'Harry Potter' ha ottenuto più recensioni positive?\")\n",
    "plt.xlabel('Film')\n",
    "plt.ylabel('Count')\n",
    "plt.legend(title='Top_critic', loc='upper left')\n",
    "plt.xticks(rotation=0)\n",
    "plt.tight_layout()\n",
    "plt.show()"
   ],
   "id": "ade86f9c886aafd0",
   "outputs": [
    {
     "data": {
      "text/plain": [
       "<Figure size 800x600 with 1 Axes>"
      ],
      "image/png": "[encoded data removed]"
     },
     "metadata": {},
     "output_type": "display_data"
    }
   ],
   "execution_count": 111
  }
 ],
 "metadata": {
  "kernelspec": {
   "display_name": "Python (progettozzo)",
   "language": "python",
   "name": "progettozzo"
  },
  "language_info": {
   "codemirror_mode": {
    "name": "ipython",
    "version": 2
   },
   "file_extension": ".py",
   "mimetype": "text/x-python",
   "name": "python",
   "nbconvert_exporter": "python",
   "pygments_lexer": "ipython2",
   "version": "2.7.6"
  }
 },
 "nbformat": 4,
 "nbformat_minor": 5
}
